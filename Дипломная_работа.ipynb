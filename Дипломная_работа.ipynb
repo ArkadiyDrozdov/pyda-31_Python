{
  "nbformat": 4,
  "nbformat_minor": 0,
  "metadata": {
    "colab": {
      "name": "Дипломная_работа.ipynb",
      "provenance": [],
      "collapsed_sections": [],
      "mount_file_id": "1MnEh2YQycjUcpBi4Qnzg2_W2uwfC8IIl",
      "authorship_tag": "ABX9TyNxcasktoThPriibxSRx1Tv"
    },
    "kernelspec": {
      "name": "python3",
      "display_name": "Python 3"
    },
    "language_info": {
      "name": "python"
    }
  },
  "cells": [
    {
      "cell_type": "markdown",
      "source": [
        "**Задание к дипломной работе по курсу \"Python для анализа данных\"**\n"
      ],
      "metadata": {
        "id": "IedkbkAMB3Gz"
      }
    },
    {
      "cell_type": "code",
      "source": [
        "import pandas as pd\n",
        "import seaborn as sns\n",
        "import matplotlib.pyplot as plt\n",
        "import itertools\n",
        "import numpy as np\n",
        "\n",
        "from scipy import stats as st\n",
        "from sklearn.model_selection import train_test_split\n",
        "from sklearn.discriminant_analysis import LinearDiscriminantAnalysis\n",
        "from sklearn.metrics import accuracy_score\n",
        "from sklearn.metrics import f1_score\n",
        "from sklearn.metrics import confusion_matrix"
      ],
      "metadata": {
        "id": "yZ05zK9-CscB"
      },
      "execution_count": 1,
      "outputs": []
    },
    {
      "cell_type": "code",
      "execution_count": 2,
      "metadata": {
        "colab": {
          "base_uri": "https://localhost:8080/",
          "height": 270
        },
        "id": "pgA4gpkEB0yu",
        "outputId": "3f87316f-6f89-4143-b811-e6a3e49c18e6"
      },
      "outputs": [
        {
          "output_type": "execute_result",
          "data": {
            "text/plain": [
              "   satisfaction_level  last_evaluation  number_project  average_montly_hours  \\\n",
              "0                0.38             0.53               2                   157   \n",
              "1                0.80             0.86               5                   262   \n",
              "2                0.11             0.88               7                   272   \n",
              "3                0.72             0.87               5                   223   \n",
              "4                0.37             0.52               2                   159   \n",
              "\n",
              "   time_spend_company  Work_accident  left  promotion_last_5years department  \\\n",
              "0                   3              0     1                      0      sales   \n",
              "1                   6              0     1                      0      sales   \n",
              "2                   4              0     1                      0      sales   \n",
              "3                   5              0     1                      0      sales   \n",
              "4                   3              0     1                      0      sales   \n",
              "\n",
              "   salary  \n",
              "0     low  \n",
              "1  medium  \n",
              "2  medium  \n",
              "3     low  \n",
              "4     low  "
            ],
            "text/html": [
              "\n",
              "  <div id=\"df-2e7bd7dc-9e45-4dea-921d-e832622918e2\">\n",
              "    <div class=\"colab-df-container\">\n",
              "      <div>\n",
              "<style scoped>\n",
              "    .dataframe tbody tr th:only-of-type {\n",
              "        vertical-align: middle;\n",
              "    }\n",
              "\n",
              "    .dataframe tbody tr th {\n",
              "        vertical-align: top;\n",
              "    }\n",
              "\n",
              "    .dataframe thead th {\n",
              "        text-align: right;\n",
              "    }\n",
              "</style>\n",
              "<table border=\"1\" class=\"dataframe\">\n",
              "  <thead>\n",
              "    <tr style=\"text-align: right;\">\n",
              "      <th></th>\n",
              "      <th>satisfaction_level</th>\n",
              "      <th>last_evaluation</th>\n",
              "      <th>number_project</th>\n",
              "      <th>average_montly_hours</th>\n",
              "      <th>time_spend_company</th>\n",
              "      <th>Work_accident</th>\n",
              "      <th>left</th>\n",
              "      <th>promotion_last_5years</th>\n",
              "      <th>department</th>\n",
              "      <th>salary</th>\n",
              "    </tr>\n",
              "  </thead>\n",
              "  <tbody>\n",
              "    <tr>\n",
              "      <th>0</th>\n",
              "      <td>0.38</td>\n",
              "      <td>0.53</td>\n",
              "      <td>2</td>\n",
              "      <td>157</td>\n",
              "      <td>3</td>\n",
              "      <td>0</td>\n",
              "      <td>1</td>\n",
              "      <td>0</td>\n",
              "      <td>sales</td>\n",
              "      <td>low</td>\n",
              "    </tr>\n",
              "    <tr>\n",
              "      <th>1</th>\n",
              "      <td>0.80</td>\n",
              "      <td>0.86</td>\n",
              "      <td>5</td>\n",
              "      <td>262</td>\n",
              "      <td>6</td>\n",
              "      <td>0</td>\n",
              "      <td>1</td>\n",
              "      <td>0</td>\n",
              "      <td>sales</td>\n",
              "      <td>medium</td>\n",
              "    </tr>\n",
              "    <tr>\n",
              "      <th>2</th>\n",
              "      <td>0.11</td>\n",
              "      <td>0.88</td>\n",
              "      <td>7</td>\n",
              "      <td>272</td>\n",
              "      <td>4</td>\n",
              "      <td>0</td>\n",
              "      <td>1</td>\n",
              "      <td>0</td>\n",
              "      <td>sales</td>\n",
              "      <td>medium</td>\n",
              "    </tr>\n",
              "    <tr>\n",
              "      <th>3</th>\n",
              "      <td>0.72</td>\n",
              "      <td>0.87</td>\n",
              "      <td>5</td>\n",
              "      <td>223</td>\n",
              "      <td>5</td>\n",
              "      <td>0</td>\n",
              "      <td>1</td>\n",
              "      <td>0</td>\n",
              "      <td>sales</td>\n",
              "      <td>low</td>\n",
              "    </tr>\n",
              "    <tr>\n",
              "      <th>4</th>\n",
              "      <td>0.37</td>\n",
              "      <td>0.52</td>\n",
              "      <td>2</td>\n",
              "      <td>159</td>\n",
              "      <td>3</td>\n",
              "      <td>0</td>\n",
              "      <td>1</td>\n",
              "      <td>0</td>\n",
              "      <td>sales</td>\n",
              "      <td>low</td>\n",
              "    </tr>\n",
              "  </tbody>\n",
              "</table>\n",
              "</div>\n",
              "      <button class=\"colab-df-convert\" onclick=\"convertToInteractive('df-2e7bd7dc-9e45-4dea-921d-e832622918e2')\"\n",
              "              title=\"Convert this dataframe to an interactive table.\"\n",
              "              style=\"display:none;\">\n",
              "        \n",
              "  <svg xmlns=\"http://www.w3.org/2000/svg\" height=\"24px\"viewBox=\"0 0 24 24\"\n",
              "       width=\"24px\">\n",
              "    <path d=\"M0 0h24v24H0V0z\" fill=\"none\"/>\n",
              "    <path d=\"M18.56 5.44l.94 2.06.94-2.06 2.06-.94-2.06-.94-.94-2.06-.94 2.06-2.06.94zm-11 1L8.5 8.5l.94-2.06 2.06-.94-2.06-.94L8.5 2.5l-.94 2.06-2.06.94zm10 10l.94 2.06.94-2.06 2.06-.94-2.06-.94-.94-2.06-.94 2.06-2.06.94z\"/><path d=\"M17.41 7.96l-1.37-1.37c-.4-.4-.92-.59-1.43-.59-.52 0-1.04.2-1.43.59L10.3 9.45l-7.72 7.72c-.78.78-.78 2.05 0 2.83L4 21.41c.39.39.9.59 1.41.59.51 0 1.02-.2 1.41-.59l7.78-7.78 2.81-2.81c.8-.78.8-2.07 0-2.86zM5.41 20L4 18.59l7.72-7.72 1.47 1.35L5.41 20z\"/>\n",
              "  </svg>\n",
              "      </button>\n",
              "      \n",
              "  <style>\n",
              "    .colab-df-container {\n",
              "      display:flex;\n",
              "      flex-wrap:wrap;\n",
              "      gap: 12px;\n",
              "    }\n",
              "\n",
              "    .colab-df-convert {\n",
              "      background-color: #E8F0FE;\n",
              "      border: none;\n",
              "      border-radius: 50%;\n",
              "      cursor: pointer;\n",
              "      display: none;\n",
              "      fill: #1967D2;\n",
              "      height: 32px;\n",
              "      padding: 0 0 0 0;\n",
              "      width: 32px;\n",
              "    }\n",
              "\n",
              "    .colab-df-convert:hover {\n",
              "      background-color: #E2EBFA;\n",
              "      box-shadow: 0px 1px 2px rgba(60, 64, 67, 0.3), 0px 1px 3px 1px rgba(60, 64, 67, 0.15);\n",
              "      fill: #174EA6;\n",
              "    }\n",
              "\n",
              "    [theme=dark] .colab-df-convert {\n",
              "      background-color: #3B4455;\n",
              "      fill: #D2E3FC;\n",
              "    }\n",
              "\n",
              "    [theme=dark] .colab-df-convert:hover {\n",
              "      background-color: #434B5C;\n",
              "      box-shadow: 0px 1px 3px 1px rgba(0, 0, 0, 0.15);\n",
              "      filter: drop-shadow(0px 1px 2px rgba(0, 0, 0, 0.3));\n",
              "      fill: #FFFFFF;\n",
              "    }\n",
              "  </style>\n",
              "\n",
              "      <script>\n",
              "        const buttonEl =\n",
              "          document.querySelector('#df-2e7bd7dc-9e45-4dea-921d-e832622918e2 button.colab-df-convert');\n",
              "        buttonEl.style.display =\n",
              "          google.colab.kernel.accessAllowed ? 'block' : 'none';\n",
              "\n",
              "        async function convertToInteractive(key) {\n",
              "          const element = document.querySelector('#df-2e7bd7dc-9e45-4dea-921d-e832622918e2');\n",
              "          const dataTable =\n",
              "            await google.colab.kernel.invokeFunction('convertToInteractive',\n",
              "                                                     [key], {});\n",
              "          if (!dataTable) return;\n",
              "\n",
              "          const docLinkHtml = 'Like what you see? Visit the ' +\n",
              "            '<a target=\"_blank\" href=https://colab.research.google.com/notebooks/data_table.ipynb>data table notebook</a>'\n",
              "            + ' to learn more about interactive tables.';\n",
              "          element.innerHTML = '';\n",
              "          dataTable['output_type'] = 'display_data';\n",
              "          await google.colab.output.renderOutput(dataTable, element);\n",
              "          const docLink = document.createElement('div');\n",
              "          docLink.innerHTML = docLinkHtml;\n",
              "          element.appendChild(docLink);\n",
              "        }\n",
              "      </script>\n",
              "    </div>\n",
              "  </div>\n",
              "  "
            ]
          },
          "metadata": {},
          "execution_count": 2
        }
      ],
      "source": [
        "# 1. Загрузите файл HR.csv в pandas dataframe\n",
        "\n",
        "df = pd.read_csv('https://raw.githubusercontent.com/ArkadiyDrozdov/pyda-31_Python/main/data/HR.csv')\n",
        "df.head()"
      ]
    },
    {
      "cell_type": "code",
      "source": [
        "# 1. satisfaction_level​    - Уровень удовлетворенности работой\n",
        "# 2. last_evaluation ​      - Время с момента последней оценки в годах\n",
        "# 3. number_projects​       - Количество проектов, выполненных за время работы\n",
        "# 4. average_monthly_hours​ - Среднее количество часов на рабочем месте в месяц\n",
        "# 5. time_spend_company​    - Стаж работы в компании в годах\n",
        "# 6. work_accident​         - Происходили ли несчастные случаи на рабочем месте с сотрудником\n",
        "# 7. left                  ​- Уволился ли сотрудник\n",
        "# 8. promotion_last_5years​ - Повышался ли сотрудник за последние пять лет\n",
        "# 9. department ​           - Отдел в котором работает сотрудник\n",
        "# 10. salary               ​- Относительный уровень зарплаты"
      ],
      "metadata": {
        "id": "Kr6OloLyNebB"
      },
      "execution_count": 3,
      "outputs": []
    },
    {
      "cell_type": "code",
      "source": [
        "df.info()"
      ],
      "metadata": {
        "colab": {
          "base_uri": "https://localhost:8080/"
        },
        "id": "umf7joz40iDA",
        "outputId": "687769df-a152-4970-9e66-af9403fe023e"
      },
      "execution_count": 4,
      "outputs": [
        {
          "output_type": "stream",
          "name": "stdout",
          "text": [
            "<class 'pandas.core.frame.DataFrame'>\n",
            "RangeIndex: 14999 entries, 0 to 14998\n",
            "Data columns (total 10 columns):\n",
            " #   Column                 Non-Null Count  Dtype  \n",
            "---  ------                 --------------  -----  \n",
            " 0   satisfaction_level     14999 non-null  float64\n",
            " 1   last_evaluation        14999 non-null  float64\n",
            " 2   number_project         14999 non-null  int64  \n",
            " 3   average_montly_hours   14999 non-null  int64  \n",
            " 4   time_spend_company     14999 non-null  int64  \n",
            " 5   Work_accident          14999 non-null  int64  \n",
            " 6   left                   14999 non-null  int64  \n",
            " 7   promotion_last_5years  14999 non-null  int64  \n",
            " 8   department             14999 non-null  object \n",
            " 9   salary                 14999 non-null  object \n",
            "dtypes: float64(2), int64(6), object(2)\n",
            "memory usage: 1.1+ MB\n"
          ]
        }
      ]
    },
    {
      "cell_type": "code",
      "source": [
        "# 2. Рассчитайте основные статистики для переменных (среднее,медиана,мода,мин/макс,сред.отклонение)\n",
        "df.describe()\n",
        "# mean - среднее, 50% - медиана, min - мин, max - макс, std - сред.отклонение"
      ],
      "metadata": {
        "colab": {
          "base_uri": "https://localhost:8080/",
          "height": 364
        },
        "id": "2NVmKjNyN61y",
        "outputId": "b09ea833-569d-4cf2-85b8-5a6ffb909914"
      },
      "execution_count": 5,
      "outputs": [
        {
          "output_type": "execute_result",
          "data": {
            "text/plain": [
              "       satisfaction_level  last_evaluation  number_project  \\\n",
              "count        14999.000000     14999.000000    14999.000000   \n",
              "mean             0.612834         0.716102        3.803054   \n",
              "std              0.248631         0.171169        1.232592   \n",
              "min              0.090000         0.360000        2.000000   \n",
              "25%              0.440000         0.560000        3.000000   \n",
              "50%              0.640000         0.720000        4.000000   \n",
              "75%              0.820000         0.870000        5.000000   \n",
              "max              1.000000         1.000000        7.000000   \n",
              "\n",
              "       average_montly_hours  time_spend_company  Work_accident          left  \\\n",
              "count          14999.000000        14999.000000   14999.000000  14999.000000   \n",
              "mean             201.050337            3.498233       0.144610      0.238083   \n",
              "std               49.943099            1.460136       0.351719      0.425924   \n",
              "min               96.000000            2.000000       0.000000      0.000000   \n",
              "25%              156.000000            3.000000       0.000000      0.000000   \n",
              "50%              200.000000            3.000000       0.000000      0.000000   \n",
              "75%              245.000000            4.000000       0.000000      0.000000   \n",
              "max              310.000000           10.000000       1.000000      1.000000   \n",
              "\n",
              "       promotion_last_5years  \n",
              "count           14999.000000  \n",
              "mean                0.021268  \n",
              "std                 0.144281  \n",
              "min                 0.000000  \n",
              "25%                 0.000000  \n",
              "50%                 0.000000  \n",
              "75%                 0.000000  \n",
              "max                 1.000000  "
            ],
            "text/html": [
              "\n",
              "  <div id=\"df-52db97b4-a28e-4eae-a56c-b20fc49672e5\">\n",
              "    <div class=\"colab-df-container\">\n",
              "      <div>\n",
              "<style scoped>\n",
              "    .dataframe tbody tr th:only-of-type {\n",
              "        vertical-align: middle;\n",
              "    }\n",
              "\n",
              "    .dataframe tbody tr th {\n",
              "        vertical-align: top;\n",
              "    }\n",
              "\n",
              "    .dataframe thead th {\n",
              "        text-align: right;\n",
              "    }\n",
              "</style>\n",
              "<table border=\"1\" class=\"dataframe\">\n",
              "  <thead>\n",
              "    <tr style=\"text-align: right;\">\n",
              "      <th></th>\n",
              "      <th>satisfaction_level</th>\n",
              "      <th>last_evaluation</th>\n",
              "      <th>number_project</th>\n",
              "      <th>average_montly_hours</th>\n",
              "      <th>time_spend_company</th>\n",
              "      <th>Work_accident</th>\n",
              "      <th>left</th>\n",
              "      <th>promotion_last_5years</th>\n",
              "    </tr>\n",
              "  </thead>\n",
              "  <tbody>\n",
              "    <tr>\n",
              "      <th>count</th>\n",
              "      <td>14999.000000</td>\n",
              "      <td>14999.000000</td>\n",
              "      <td>14999.000000</td>\n",
              "      <td>14999.000000</td>\n",
              "      <td>14999.000000</td>\n",
              "      <td>14999.000000</td>\n",
              "      <td>14999.000000</td>\n",
              "      <td>14999.000000</td>\n",
              "    </tr>\n",
              "    <tr>\n",
              "      <th>mean</th>\n",
              "      <td>0.612834</td>\n",
              "      <td>0.716102</td>\n",
              "      <td>3.803054</td>\n",
              "      <td>201.050337</td>\n",
              "      <td>3.498233</td>\n",
              "      <td>0.144610</td>\n",
              "      <td>0.238083</td>\n",
              "      <td>0.021268</td>\n",
              "    </tr>\n",
              "    <tr>\n",
              "      <th>std</th>\n",
              "      <td>0.248631</td>\n",
              "      <td>0.171169</td>\n",
              "      <td>1.232592</td>\n",
              "      <td>49.943099</td>\n",
              "      <td>1.460136</td>\n",
              "      <td>0.351719</td>\n",
              "      <td>0.425924</td>\n",
              "      <td>0.144281</td>\n",
              "    </tr>\n",
              "    <tr>\n",
              "      <th>min</th>\n",
              "      <td>0.090000</td>\n",
              "      <td>0.360000</td>\n",
              "      <td>2.000000</td>\n",
              "      <td>96.000000</td>\n",
              "      <td>2.000000</td>\n",
              "      <td>0.000000</td>\n",
              "      <td>0.000000</td>\n",
              "      <td>0.000000</td>\n",
              "    </tr>\n",
              "    <tr>\n",
              "      <th>25%</th>\n",
              "      <td>0.440000</td>\n",
              "      <td>0.560000</td>\n",
              "      <td>3.000000</td>\n",
              "      <td>156.000000</td>\n",
              "      <td>3.000000</td>\n",
              "      <td>0.000000</td>\n",
              "      <td>0.000000</td>\n",
              "      <td>0.000000</td>\n",
              "    </tr>\n",
              "    <tr>\n",
              "      <th>50%</th>\n",
              "      <td>0.640000</td>\n",
              "      <td>0.720000</td>\n",
              "      <td>4.000000</td>\n",
              "      <td>200.000000</td>\n",
              "      <td>3.000000</td>\n",
              "      <td>0.000000</td>\n",
              "      <td>0.000000</td>\n",
              "      <td>0.000000</td>\n",
              "    </tr>\n",
              "    <tr>\n",
              "      <th>75%</th>\n",
              "      <td>0.820000</td>\n",
              "      <td>0.870000</td>\n",
              "      <td>5.000000</td>\n",
              "      <td>245.000000</td>\n",
              "      <td>4.000000</td>\n",
              "      <td>0.000000</td>\n",
              "      <td>0.000000</td>\n",
              "      <td>0.000000</td>\n",
              "    </tr>\n",
              "    <tr>\n",
              "      <th>max</th>\n",
              "      <td>1.000000</td>\n",
              "      <td>1.000000</td>\n",
              "      <td>7.000000</td>\n",
              "      <td>310.000000</td>\n",
              "      <td>10.000000</td>\n",
              "      <td>1.000000</td>\n",
              "      <td>1.000000</td>\n",
              "      <td>1.000000</td>\n",
              "    </tr>\n",
              "  </tbody>\n",
              "</table>\n",
              "</div>\n",
              "      <button class=\"colab-df-convert\" onclick=\"convertToInteractive('df-52db97b4-a28e-4eae-a56c-b20fc49672e5')\"\n",
              "              title=\"Convert this dataframe to an interactive table.\"\n",
              "              style=\"display:none;\">\n",
              "        \n",
              "  <svg xmlns=\"http://www.w3.org/2000/svg\" height=\"24px\"viewBox=\"0 0 24 24\"\n",
              "       width=\"24px\">\n",
              "    <path d=\"M0 0h24v24H0V0z\" fill=\"none\"/>\n",
              "    <path d=\"M18.56 5.44l.94 2.06.94-2.06 2.06-.94-2.06-.94-.94-2.06-.94 2.06-2.06.94zm-11 1L8.5 8.5l.94-2.06 2.06-.94-2.06-.94L8.5 2.5l-.94 2.06-2.06.94zm10 10l.94 2.06.94-2.06 2.06-.94-2.06-.94-.94-2.06-.94 2.06-2.06.94z\"/><path d=\"M17.41 7.96l-1.37-1.37c-.4-.4-.92-.59-1.43-.59-.52 0-1.04.2-1.43.59L10.3 9.45l-7.72 7.72c-.78.78-.78 2.05 0 2.83L4 21.41c.39.39.9.59 1.41.59.51 0 1.02-.2 1.41-.59l7.78-7.78 2.81-2.81c.8-.78.8-2.07 0-2.86zM5.41 20L4 18.59l7.72-7.72 1.47 1.35L5.41 20z\"/>\n",
              "  </svg>\n",
              "      </button>\n",
              "      \n",
              "  <style>\n",
              "    .colab-df-container {\n",
              "      display:flex;\n",
              "      flex-wrap:wrap;\n",
              "      gap: 12px;\n",
              "    }\n",
              "\n",
              "    .colab-df-convert {\n",
              "      background-color: #E8F0FE;\n",
              "      border: none;\n",
              "      border-radius: 50%;\n",
              "      cursor: pointer;\n",
              "      display: none;\n",
              "      fill: #1967D2;\n",
              "      height: 32px;\n",
              "      padding: 0 0 0 0;\n",
              "      width: 32px;\n",
              "    }\n",
              "\n",
              "    .colab-df-convert:hover {\n",
              "      background-color: #E2EBFA;\n",
              "      box-shadow: 0px 1px 2px rgba(60, 64, 67, 0.3), 0px 1px 3px 1px rgba(60, 64, 67, 0.15);\n",
              "      fill: #174EA6;\n",
              "    }\n",
              "\n",
              "    [theme=dark] .colab-df-convert {\n",
              "      background-color: #3B4455;\n",
              "      fill: #D2E3FC;\n",
              "    }\n",
              "\n",
              "    [theme=dark] .colab-df-convert:hover {\n",
              "      background-color: #434B5C;\n",
              "      box-shadow: 0px 1px 3px 1px rgba(0, 0, 0, 0.15);\n",
              "      filter: drop-shadow(0px 1px 2px rgba(0, 0, 0, 0.3));\n",
              "      fill: #FFFFFF;\n",
              "    }\n",
              "  </style>\n",
              "\n",
              "      <script>\n",
              "        const buttonEl =\n",
              "          document.querySelector('#df-52db97b4-a28e-4eae-a56c-b20fc49672e5 button.colab-df-convert');\n",
              "        buttonEl.style.display =\n",
              "          google.colab.kernel.accessAllowed ? 'block' : 'none';\n",
              "\n",
              "        async function convertToInteractive(key) {\n",
              "          const element = document.querySelector('#df-52db97b4-a28e-4eae-a56c-b20fc49672e5');\n",
              "          const dataTable =\n",
              "            await google.colab.kernel.invokeFunction('convertToInteractive',\n",
              "                                                     [key], {});\n",
              "          if (!dataTable) return;\n",
              "\n",
              "          const docLinkHtml = 'Like what you see? Visit the ' +\n",
              "            '<a target=\"_blank\" href=https://colab.research.google.com/notebooks/data_table.ipynb>data table notebook</a>'\n",
              "            + ' to learn more about interactive tables.';\n",
              "          element.innerHTML = '';\n",
              "          dataTable['output_type'] = 'display_data';\n",
              "          await google.colab.output.renderOutput(dataTable, element);\n",
              "          const docLink = document.createElement('div');\n",
              "          docLink.innerHTML = docLinkHtml;\n",
              "          element.appendChild(docLink);\n",
              "        }\n",
              "      </script>\n",
              "    </div>\n",
              "  </div>\n",
              "  "
            ]
          },
          "metadata": {},
          "execution_count": 5
        }
      ]
    },
    {
      "cell_type": "code",
      "source": [
        "df.mode(numeric_only = False).loc[0] # мода"
      ],
      "metadata": {
        "colab": {
          "base_uri": "https://localhost:8080/"
        },
        "id": "YBm9x1UzO3Ma",
        "outputId": "24fdc3a8-45a6-41d9-d324-b4a8bff4279e"
      },
      "execution_count": 6,
      "outputs": [
        {
          "output_type": "execute_result",
          "data": {
            "text/plain": [
              "satisfaction_level         0.1\n",
              "last_evaluation           0.55\n",
              "number_project             4.0\n",
              "average_montly_hours       135\n",
              "time_spend_company         3.0\n",
              "Work_accident              0.0\n",
              "left                       0.0\n",
              "promotion_last_5years      0.0\n",
              "department               sales\n",
              "salary                     low\n",
              "Name: 0, dtype: object"
            ]
          },
          "metadata": {},
          "execution_count": 6
        }
      ]
    },
    {
      "cell_type": "code",
      "source": [
        ""
      ],
      "metadata": {
        "id": "0DAN9y9OUuph"
      },
      "execution_count": 6,
      "outputs": []
    },
    {
      "cell_type": "code",
      "source": [
        "# 3. Рассчитайте и визуализируйте корреляционную матрицу для количественных переменных.\n",
        "# Определите две самые скоррелированные и две наименее скоррелированные переменные.\n",
        "\n",
        "lst     = ['last_evaluation', 'number_project', 'average_montly_hours', 'time_spend_company']\n",
        "df_corr = df[lst].corr()\n",
        "\n",
        "sns.set(rc = {'figure.figsize':(9,5)})\n",
        "sns.heatmap(df_corr, cmap = 'YlOrBr', annot = True)\n",
        "plt.title('Визуализированная корреляционная матрица для количественных переменных:\\n')\n",
        "plt.show()"
      ],
      "metadata": {
        "id": "ZTZeemn9VVtp",
        "colab": {
          "base_uri": "https://localhost:8080/",
          "height": 469
        },
        "outputId": "85da1bd2-cd39-4f64-83af-55ec2325fa0c"
      },
      "execution_count": 7,
      "outputs": [
        {
          "output_type": "display_data",
          "data": {
            "text/plain": [
              "<Figure size 648x360 with 2 Axes>"
            ],
            "image/png": "[encoded data removed]"
          },
          "metadata": {}
        }
      ]
    },
    {
      "cell_type": "code",
      "source": [
        "dct = {}\n",
        "\n",
        "for i, j in list(itertools.combinations(df_corr, 2)):\n",
        "    dct[df_corr.loc[i, j]] = (i, j)\n",
        "\n",
        "dict_sorted = dict(sorted(dct.items(), key = lambda x: x[0]))\n",
        "dict_sorted"
      ],
      "metadata": {
        "id": "1IgtjupbonMJ",
        "colab": {
          "base_uri": "https://localhost:8080/"
        },
        "outputId": "ec4adbff-c1d3-4be5-a1b9-b97ad8f37f8a"
      },
      "execution_count": 8,
      "outputs": [
        {
          "output_type": "execute_result",
          "data": {
            "text/plain": [
              "{0.1277549103618603: ('average_montly_hours', 'time_spend_company'),\n",
              " 0.13159072244765863: ('last_evaluation', 'time_spend_company'),\n",
              " 0.1967858912637905: ('number_project', 'time_spend_company'),\n",
              " 0.3397417998383594: ('last_evaluation', 'average_montly_hours'),\n",
              " 0.34933258851626237: ('last_evaluation', 'number_project'),\n",
              " 0.41721063440177986: ('number_project', 'average_montly_hours')}"
            ]
          },
          "metadata": {},
          "execution_count": 8
        }
      ]
    },
    {
      "cell_type": "code",
      "source": [
        "print('Ответ:')\n",
        "print(f'Две наименее скоррелированные переменные: {dict_sorted[min(dict_sorted.keys())]}')\n",
        "print(f'Две наиболее скоррелированные переменные: {dict_sorted[max(dict_sorted.keys())]}')"
      ],
      "metadata": {
        "id": "zJzVEqyYqA8a",
        "colab": {
          "base_uri": "https://localhost:8080/"
        },
        "outputId": "b0574f66-5422-4e76-dc97-839b15de44ef"
      },
      "execution_count": 9,
      "outputs": [
        {
          "output_type": "stream",
          "name": "stdout",
          "text": [
            "Ответ:\n",
            "Две наименее скоррелированные переменные: ('average_montly_hours', 'time_spend_company')\n",
            "Две наиболее скоррелированные переменные: ('number_project', 'average_montly_hours')\n"
          ]
        }
      ]
    },
    {
      "cell_type": "code",
      "source": [
        ""
      ],
      "metadata": {
        "id": "or8n2pQBsbIn"
      },
      "execution_count": 9,
      "outputs": []
    },
    {
      "cell_type": "code",
      "source": [
        "# 4. Рассчитайте сколько сотрудников работает в каждом департаменте.\n",
        "df.department.value_counts()"
      ],
      "metadata": {
        "colab": {
          "base_uri": "https://localhost:8080/"
        },
        "id": "P7sIL9IiVeym",
        "outputId": "43da248d-8c11-4356-f0f4-15f78a6b6e49"
      },
      "execution_count": 10,
      "outputs": [
        {
          "output_type": "execute_result",
          "data": {
            "text/plain": [
              "sales          4140\n",
              "technical      2720\n",
              "support        2229\n",
              "IT             1227\n",
              "product_mng     902\n",
              "marketing       858\n",
              "RandD           787\n",
              "accounting      767\n",
              "hr              739\n",
              "management      630\n",
              "Name: department, dtype: int64"
            ]
          },
          "metadata": {},
          "execution_count": 10
        }
      ]
    },
    {
      "cell_type": "code",
      "source": [
        ""
      ],
      "metadata": {
        "id": "ojIK-S2fWWTK"
      },
      "execution_count": 10,
      "outputs": []
    },
    {
      "cell_type": "code",
      "source": [
        "# 5. Показать распределение сотрудников по зарплатам.\n",
        "df.salary.value_counts()"
      ],
      "metadata": {
        "colab": {
          "base_uri": "https://localhost:8080/"
        },
        "id": "Q0tSyOYHWT4X",
        "outputId": "2536d7b8-ca9b-4751-88ef-c92da2d76c79"
      },
      "execution_count": 11,
      "outputs": [
        {
          "output_type": "execute_result",
          "data": {
            "text/plain": [
              "low       7316\n",
              "medium    6446\n",
              "high      1237\n",
              "Name: salary, dtype: int64"
            ]
          },
          "metadata": {},
          "execution_count": 11
        }
      ]
    },
    {
      "cell_type": "code",
      "source": [
        "# визуализируем\n",
        "sns.set(rc = {'figure.figsize':(5,3)})\n",
        "df.salary.value_counts().plot(kind = 'bar', color = ['blue', 'green', 'red'], stacked = True)\n",
        "plt.title('Распределение сотрудников по зарплатам')\n",
        "plt.ylabel('Число сотрудников')\n",
        "plt.show()"
      ],
      "metadata": {
        "colab": {
          "base_uri": "https://localhost:8080/",
          "height": 265
        },
        "id": "gStobpCnrff1",
        "outputId": "bfda2227-14eb-4cdd-c2a7-736917177cde"
      },
      "execution_count": 12,
      "outputs": [
        {
          "output_type": "display_data",
          "data": {
            "text/plain": [
              "<Figure size 360x216 with 1 Axes>"
            ],
            "image/png": "[encoded data removed]"
          },
          "metadata": {}
        }
      ]
    },
    {
      "cell_type": "code",
      "source": [
        ""
      ],
      "metadata": {
        "id": "Wbd3pmRNWl5R"
      },
      "execution_count": 12,
      "outputs": []
    },
    {
      "cell_type": "code",
      "source": [
        "# 6. Показать распределение сотрудников по зарплатам в каждом департаменте по отдельности\n",
        "df_salary = df.groupby('department')['salary'].value_counts()\n",
        "df_salary"
      ],
      "metadata": {
        "colab": {
          "base_uri": "https://localhost:8080/"
        },
        "id": "ClTjxfGIWlaR",
        "outputId": "93c9c6b1-ea2c-4247-a014-72f58dad600f"
      },
      "execution_count": 13,
      "outputs": [
        {
          "output_type": "execute_result",
          "data": {
            "text/plain": [
              "department   salary\n",
              "IT           low        609\n",
              "             medium     535\n",
              "             high        83\n",
              "RandD        medium     372\n",
              "             low        364\n",
              "             high        51\n",
              "accounting   low        358\n",
              "             medium     335\n",
              "             high        74\n",
              "hr           medium     359\n",
              "             low        335\n",
              "             high        45\n",
              "management   high       225\n",
              "             medium     225\n",
              "             low        180\n",
              "marketing    low        402\n",
              "             medium     376\n",
              "             high        80\n",
              "product_mng  low        451\n",
              "             medium     383\n",
              "             high        68\n",
              "sales        low       2099\n",
              "             medium    1772\n",
              "             high       269\n",
              "support      low       1146\n",
              "             medium     942\n",
              "             high       141\n",
              "technical    low       1372\n",
              "             medium    1147\n",
              "             high       201\n",
              "Name: salary, dtype: int64"
            ]
          },
          "metadata": {},
          "execution_count": 13
        }
      ]
    },
    {
      "cell_type": "code",
      "source": [
        "# визуализируем\n",
        "sns.set(rc = {'figure.figsize':(10,5)})\n",
        "df_salary.unstack().plot(kind = 'bar', color = ['red', 'blue', 'green'], stacked = False)\n",
        "plt.title('Распределение сотрудников по зарплатам в каждом департаменте')\n",
        "plt.ylabel('Число сотрудников')\n",
        "plt.show()"
      ],
      "metadata": {
        "colab": {
          "base_uri": "https://localhost:8080/",
          "height": 419
        },
        "id": "Mi504k3NgUms",
        "outputId": "af41ef5b-8dfb-4154-89a5-f445fad51cca"
      },
      "execution_count": 14,
      "outputs": [
        {
          "output_type": "display_data",
          "data": {
            "text/plain": [
              "<Figure size 720x360 with 1 Axes>"
            ],
            "image/png": "[encoded data removed]"
          },
          "metadata": {}
        }
      ]
    },
    {
      "cell_type": "code",
      "source": [
        ""
      ],
      "metadata": {
        "id": "xwDv6_q2iKMz"
      },
      "execution_count": 14,
      "outputs": []
    },
    {
      "cell_type": "code",
      "source": [
        "# 7. Проверить гипотезу, что сотрудники с ВЫСОКИМ окладом проводят на работе БОЛЬШЕ времени, чем сотрудники с низким окладом.\n",
        "df_high = df.loc[df.salary == 'high'].average_montly_hours\n",
        "df_low  = df.loc[df.salary == 'low'].average_montly_hours\n",
        "\n",
        "# проверим сначала, есть ли выбросы\n",
        "plt.figure(figsize = (12, 5))\n",
        "plt.subplot(221)\n",
        "sns.boxplot(df_high)\n",
        "\n",
        "plt.subplot(222)\n",
        "sns.boxplot(df_low)\n",
        "plt.show()\n",
        "# выбросов нет!"
      ],
      "metadata": {
        "id": "PdzyZGiKXP9h",
        "colab": {
          "base_uri": "https://localhost:8080/",
          "height": 280
        },
        "outputId": "27e77acc-b805-4156-cd9b-695700682db3"
      },
      "execution_count": 15,
      "outputs": [
        {
          "output_type": "stream",
          "name": "stderr",
          "text": [
            "/usr/local/lib/python3.7/dist-packages/seaborn/_decorators.py:43: FutureWarning: Pass the following variable as a keyword arg: x. From version 0.12, the only valid positional argument will be `data`, and passing other arguments without an explicit keyword will result in an error or misinterpretation.\n",
            "  FutureWarning\n",
            "/usr/local/lib/python3.7/dist-packages/seaborn/_decorators.py:43: FutureWarning: Pass the following variable as a keyword arg: x. From version 0.12, the only valid positional argument will be `data`, and passing other arguments without an explicit keyword will result in an error or misinterpretation.\n",
            "  FutureWarning\n"
          ]
        },
        {
          "output_type": "display_data",
          "data": {
            "text/plain": [
              "<Figure size 864x360 with 2 Axes>"
            ],
            "image/png": "[encoded data removed]"
          },
          "metadata": {}
        }
      ]
    },
    {
      "cell_type": "markdown",
      "source": [
        "**H0:** сотрудники с высоким окладом проводят на работе **столько же** в среднем часов, сколько и сотрудники с низким окладом.\n",
        "\n",
        "**H1:** сотрудники с **разным** окладом проводят в среднем **разное** количество часов на работе."
      ],
      "metadata": {
        "id": "97M5PO-0tioa"
      }
    },
    {
      "cell_type": "code",
      "source": [
        "result = st.ttest_ind(df_high, df_low, equal_var = False)\n",
        "print(f'pvalue: {round(result.pvalue, 2)}')\n",
        "\n",
        "if (result.pvalue < 0.05):\n",
        "    # отвергаем нулевую гипотезу:\n",
        "    print('\\nВывод: Cотрудники с НИЗКИМ и ВЫСОКИМ окладом в среднем проводят на работе РАЗНОЕ количество часов в месяц.')  \n",
        "\n",
        "    # НЕ отвергаем нулевую гипотезу   \n",
        "else:\n",
        "    print('\\nВывод: Cотрудники с НИЗКИМ и ВЫСОКИМ окладом в среднем проводят на работе ОДИНАКОВОЕ количество часов в месяц.') \n",
        "\n",
        "print('\\nСреднее количество часов сотрудников на рабочем месте в месяц:')\n",
        "print(f'- с высоким окладом: {int(df_high.mean())}')\n",
        "print(f'- с низким  окладом: {int(df_low.mean())}')"
      ],
      "metadata": {
        "colab": {
          "base_uri": "https://localhost:8080/"
        },
        "id": "_HvsbKXrtAWG",
        "outputId": "4adb8a91-8952-4957-a8a0-aa453eda62cd"
      },
      "execution_count": 16,
      "outputs": [
        {
          "output_type": "stream",
          "name": "stdout",
          "text": [
            "pvalue: 0.45\n",
            "\n",
            "Вывод: Cотрудники с НИЗКИМ и ВЫСОКИМ окладом в среднем проводят на работе ОДИНАКОВОЕ количество часов в месяц.\n",
            "\n",
            "Среднее количество часов сотрудников на рабочем месте в месяц:\n",
            "- с высоким окладом: 199\n",
            "- с низким  окладом: 200\n"
          ]
        }
      ]
    },
    {
      "cell_type": "code",
      "source": [
        ""
      ],
      "metadata": {
        "id": "gbFrpL3Ru8N_"
      },
      "execution_count": 16,
      "outputs": []
    },
    {
      "cell_type": "code",
      "source": [
        "# 8. Рассчитать следующие показатели среди уволившихся и не уволившихся сотрудников (по отдельности):\n",
        "# ● Доля сотрудников с повышением за последние 5 лет\n",
        "# ● Средняя степень удовлетворенности\n",
        "# ● Среднее количество проектов\n",
        "\n",
        "print('Уволившиеся сотрудники:\\n')\n",
        "df_fired_prom = df.loc[(df.left == True) & (df.promotion_last_5years == True)]\n",
        "print(f'Доля уволившихся сотрудников \\nс повышением за последние 5 лет:   {round(100 * len(df_fired_prom) / len(df), 1)}%')\n",
        "print(f'Средняя степень удовлетворенности: {round(df[df.left == True].satisfaction_level.mean(), 1)}')\n",
        "print(f'Среднее количество проектов:       {int(df[df.left == True].number_project.mean())}')\n",
        "\n",
        "print('\\n\\nНеуволившиеся сотрудники:\\n')\n",
        "df_notfired_prom = df.loc[(df.left == False) & (df.promotion_last_5years == True)]\n",
        "print(f'Доля неуволившихся сотрудников \\nс повышением за последние 5 лет:   {round(100 * len(df_notfired_prom) / len(df), 1)}%')\n",
        "print(f'Средняя степень удовлетворенности: {round(df[df.left == False].satisfaction_level.mean(), 1)}')\n",
        "print(f'Среднее количество проектов:       {int(df[df.left == False].number_project.mean())}')"
      ],
      "metadata": {
        "colab": {
          "base_uri": "https://localhost:8080/"
        },
        "id": "b8T9FBmm0Lc4",
        "outputId": "07207def-294e-4fde-c109-a4379485775c"
      },
      "execution_count": 17,
      "outputs": [
        {
          "output_type": "stream",
          "name": "stdout",
          "text": [
            "Уволившиеся сотрудники:\n",
            "\n",
            "Доля уволившихся сотрудников \n",
            "с повышением за последние 5 лет:   0.1%\n",
            "Средняя степень удовлетворенности: 0.4\n",
            "Среднее количество проектов:       3\n",
            "\n",
            "\n",
            "Неуволившиеся сотрудники:\n",
            "\n",
            "Доля неуволившихся сотрудников \n",
            "с повышением за последние 5 лет:   2.0%\n",
            "Средняя степень удовлетворенности: 0.7\n",
            "Среднее количество проектов:       3\n"
          ]
        }
      ]
    },
    {
      "cell_type": "code",
      "source": [
        ""
      ],
      "metadata": {
        "id": "lyfSusdg4YJH"
      },
      "execution_count": 17,
      "outputs": []
    },
    {
      "cell_type": "code",
      "source": [
        "# 9. Разделить данные на тестовую и обучающую выборки. \n",
        "# Построить модель LDA, предсказывающую уволился ли сотрудник на основе имеющихся факторов (кроме department и salary).\n",
        "# Оценить качество модели на тестовой выборкe.\n",
        "\n",
        "# столбец df.left - категориальный, поэтому применяем линейный дискриминантный анализ (ЛДА)\n",
        "lda = LinearDiscriminantAnalysis() # инициализация модели ЛДА"
      ],
      "metadata": {
        "id": "fiozIDd4530U"
      },
      "execution_count": 18,
      "outputs": []
    },
    {
      "cell_type": "code",
      "source": [
        "# разделяем выборку на тренировочную и тестовую\n",
        "data = df[['satisfaction_level', 'last_evaluation', 'number_project', 'average_montly_hours', 'time_spend_company', 'Work_accident', 'promotion_last_5years']]\n",
        "X_train, X_test, y_train, y_test = train_test_split(data, df.left, test_size = 0.3, random_state = 42)\n",
        "\n",
        "lda.fit(X_train, y_train)       # обучаем данные\n",
        "y_predict = lda.predict(X_test) # делаем прогноз на тестовой выборке\n",
        "\n",
        "# Проверка работы модели LDA:\n",
        "print(f'Модель дает {round(accuracy_score(y_test, y_predict), 3) * 100} % правильно спрогнозированных выборок среди всех тестовых.')\n",
        "\n",
        "print('\\nПодробные результаты работы LDA модели, предсказывающей уволился ли сотрудник:') \n",
        "LDA_result = confusion_matrix(y_test, y_predict)\n",
        "LDA_result"
      ],
      "metadata": {
        "id": "_jxERvYr6ncQ",
        "colab": {
          "base_uri": "https://localhost:8080/"
        },
        "outputId": "8abca2da-b507-4da2-f7f8-3302f2209cd0"
      },
      "execution_count": 19,
      "outputs": [
        {
          "output_type": "stream",
          "name": "stdout",
          "text": [
            "Модель дает 75.6 % правильно спрогнозированных выборок среди всех тестовых.\n",
            "\n",
            "Подробные результаты работы LDA модели, предсказывающей уволился ли сотрудник:\n"
          ]
        },
        {
          "output_type": "execute_result",
          "data": {
            "text/plain": [
              "array([[3138,  290],\n",
              "       [ 809,  263]])"
            ]
          },
          "metadata": {},
          "execution_count": 19
        }
      ]
    },
    {
      "cell_type": "code",
      "source": [
        ""
      ],
      "metadata": {
        "id": "BbrMu2wjdTGa"
      },
      "execution_count": 19,
      "outputs": []
    },
    {
      "cell_type": "code",
      "source": [
        "# Расшифровка матрицы ошибок:\n",
        "\n",
        "true_negatives, false_positives, false_negatives, true_positives = confusion_matrix(y_test, y_predict).ravel()\n",
        "\n",
        "print(f'Истино-отрицательное предсказание: {true_negatives}')\n",
        "print(f'- модель верно предсказала, что {LDA_result[0][0]} сотрудников действительно уволилось.\\n')\n",
        "\n",
        "print(f'Ложно-положительное предсказание:  {false_positives}')\n",
        "print(f'- модель ошибочно предсказала, что {LDA_result[0][1]} сотрудников осталось на работе. На самом деле они уволились.\\n')\n",
        "\n",
        "print(f'Ложно-отрицательное предсказание:  {false_negatives}')\n",
        "print(f'- модель ошибочно предсказала, что {LDA_result[1][0]} сотрудников уволилось с работы. А на самом деле они остались на работе.\\n')\n",
        "\n",
        "print(f'Истино-положительное предсказание: {true_positives}')\n",
        "print(f'- модель верно предсказала, что {LDA_result[1][1]} сотрудников действительно не уволилось.')"
      ],
      "metadata": {
        "colab": {
          "base_uri": "https://localhost:8080/"
        },
        "id": "2MZXXYjJ9Rqe",
        "outputId": "f1d1cf9b-e0c3-4172-a19a-5eb17824c3d5"
      },
      "execution_count": 20,
      "outputs": [
        {
          "output_type": "stream",
          "name": "stdout",
          "text": [
            "Истино-отрицательное предсказание: 3138\n",
            "- модель верно предсказала, что 3138 сотрудников действительно уволилось.\n",
            "\n",
            "Ложно-положительное предсказание:  290\n",
            "- модель ошибочно предсказала, что 290 сотрудников осталось на работе. На самом деле они уволились.\n",
            "\n",
            "Ложно-отрицательное предсказание:  809\n",
            "- модель ошибочно предсказала, что 809 сотрудников уволилось с работы. А на самом деле они остались на работе.\n",
            "\n",
            "Истино-положительное предсказание: 263\n",
            "- модель верно предсказала, что 263 сотрудников действительно не уволилось.\n"
          ]
        }
      ]
    },
    {
      "cell_type": "code",
      "source": [
        "# коэффициенты дискриминатных линий для двух классов по 7 признаков в каждом\n",
        "lda.coef_"
      ],
      "metadata": {
        "colab": {
          "base_uri": "https://localhost:8080/"
        },
        "id": "5IV10MZbkuTp",
        "outputId": "d5dd0462-aea0-4e73-a807-690ffb0a3e80"
      },
      "execution_count": 21,
      "outputs": [
        {
          "output_type": "execute_result",
          "data": {
            "text/plain": [
              "array([[-4.57738626e+00,  6.13822647e-01, -2.10613368e-01,\n",
              "         4.55442333e-03,  2.21314862e-01, -1.05033789e+00,\n",
              "        -1.08559074e+00]])"
            ]
          },
          "metadata": {},
          "execution_count": 21
        }
      ]
    },
    {
      "cell_type": "code",
      "source": [
        "print(f'Признак № {np.argmin(lda.coef_[0]) + 1} наименее влияет (вносит наименьший вклад) на увольнение сотрудника.')\n",
        "print(f'Признак № {np.argmax(lda.coef_[0]) + 1} наиболее влияет (вносит наибольший вклад) на увольнение сотрудника.')"
      ],
      "metadata": {
        "colab": {
          "base_uri": "https://localhost:8080/"
        },
        "id": "9x7mZvaOsj_6",
        "outputId": "65c1310e-90b5-4a0b-9c98-ad9179df5f01"
      },
      "execution_count": 22,
      "outputs": [
        {
          "output_type": "stream",
          "name": "stdout",
          "text": [
            "Признак № 1 наименее влияет (вносит наименьший вклад) на увольнение сотрудника.\n",
            "Признак № 2 наиболее влияет (вносит наибольший вклад) на увольнение сотрудника.\n"
          ]
        }
      ]
    },
    {
      "cell_type": "code",
      "source": [
        "# Признак № 1 - satisfaction_level (уровень удовлетворенности работой).\n",
        "# Возможно, чем выше этот уровень, тем меньше времени работник думает об увольнении или вообще не думает об этом.\n",
        "\n",
        "# Признак № 2 - last_evaluation (время с момента последней оценки в годах).\n",
        "# Возможно, качество работы сотрудника сильно ухудшается и его из-за этого в большинстве случаев увольняют, \n",
        "# если он долгое время не доказывает свою профпригодность."
      ],
      "metadata": {
        "id": "lKQtwiOdxGPJ"
      },
      "execution_count": 23,
      "outputs": []
    }
  ]
}