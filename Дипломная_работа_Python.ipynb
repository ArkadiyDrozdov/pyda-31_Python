{
  "nbformat": 4,
  "nbformat_minor": 0,
  "metadata": {
    "colab": {
      "name": "Дипломная_работа_Python.ipynb",
      "provenance": [],
      "collapsed_sections": [],
      "mount_file_id": "1MnEh2YQycjUcpBi4Qnzg2_W2uwfC8IIl",
      "authorship_tag": "ABX9TyNHLVhz9G3b8R8EdnNdrxKn"
    },
    "kernelspec": {
      "name": "python3",
      "display_name": "Python 3"
    },
    "language_info": {
      "name": "python"
    }
  },
  "cells": [
    {
      "cell_type": "markdown",
      "source": [
        "**Задание к дипломной работе по курсу \"Python для анализа данных\"**\n"
      ],
      "metadata": {
        "id": "IedkbkAMB3Gz"
      }
    },
    {
      "cell_type": "code",
      "source": [
        "import pandas as pd\n",
        "import seaborn as sns\n",
        "import matplotlib.pyplot as plt\n",
        "import itertools\n",
        "import numpy as np\n",
        "\n",
        "from scipy import stats as st\n",
        "from sklearn.model_selection import train_test_split\n",
        "from sklearn.discriminant_analysis import LinearDiscriminantAnalysis\n",
        "from sklearn.metrics import accuracy_score\n",
        "from sklearn.metrics import f1_score\n",
        "from sklearn.metrics import confusion_matrix"
      ],
      "metadata": {
        "id": "yZ05zK9-CscB"
      },
      "execution_count": 182,
      "outputs": []
    },
    {
      "cell_type": "markdown",
      "source": [
        "**1. Загрузите файл HR.csv в pandas dataframe**"
      ],
      "metadata": {
        "id": "35mXouxKluxS"
      }
    },
    {
      "cell_type": "code",
      "execution_count": 183,
      "metadata": {
        "colab": {
          "base_uri": "https://localhost:8080/",
          "height": 270
        },
        "id": "pgA4gpkEB0yu",
        "outputId": "74a19c42-0659-40a9-a68f-b00ba1348ded"
      },
      "outputs": [
        {
          "output_type": "execute_result",
          "data": {
            "text/plain": [
              "   satisfaction_level  last_evaluation  number_project  average_montly_hours  \\\n",
              "0                0.38             0.53               2                   157   \n",
              "1                0.80             0.86               5                   262   \n",
              "2                0.11             0.88               7                   272   \n",
              "3                0.72             0.87               5                   223   \n",
              "4                0.37             0.52               2                   159   \n",
              "\n",
              "   time_spend_company  Work_accident  left  promotion_last_5years department  \\\n",
              "0                   3              0     1                      0      sales   \n",
              "1                   6              0     1                      0      sales   \n",
              "2                   4              0     1                      0      sales   \n",
              "3                   5              0     1                      0      sales   \n",
              "4                   3              0     1                      0      sales   \n",
              "\n",
              "   salary  \n",
              "0     low  \n",
              "1  medium  \n",
              "2  medium  \n",
              "3     low  \n",
              "4     low  "
            ],
            "text/html": [
              "\n",
              "  <div id=\"df-6e37b3bf-9759-43ef-8cba-28c76405c4fe\">\n",
              "    <div class=\"colab-df-container\">\n",
              "      <div>\n",
              "<style scoped>\n",
              "    .dataframe tbody tr th:only-of-type {\n",
              "        vertical-align: middle;\n",
              "    }\n",
              "\n",
              "    .dataframe tbody tr th {\n",
              "        vertical-align: top;\n",
              "    }\n",
              "\n",
              "    .dataframe thead th {\n",
              "        text-align: right;\n",
              "    }\n",
              "</style>\n",
              "<table border=\"1\" class=\"dataframe\">\n",
              "  <thead>\n",
              "    <tr style=\"text-align: right;\">\n",
              "      <th></th>\n",
              "      <th>satisfaction_level</th>\n",
              "      <th>last_evaluation</th>\n",
              "      <th>number_project</th>\n",
              "      <th>average_montly_hours</th>\n",
              "      <th>time_spend_company</th>\n",
              "      <th>Work_accident</th>\n",
              "      <th>left</th>\n",
              "      <th>promotion_last_5years</th>\n",
              "      <th>department</th>\n",
              "      <th>salary</th>\n",
              "    </tr>\n",
              "  </thead>\n",
              "  <tbody>\n",
              "    <tr>\n",
              "      <th>0</th>\n",
              "      <td>0.38</td>\n",
              "      <td>0.53</td>\n",
              "      <td>2</td>\n",
              "      <td>157</td>\n",
              "      <td>3</td>\n",
              "      <td>0</td>\n",
              "      <td>1</td>\n",
              "      <td>0</td>\n",
              "      <td>sales</td>\n",
              "      <td>low</td>\n",
              "    </tr>\n",
              "    <tr>\n",
              "      <th>1</th>\n",
              "      <td>0.80</td>\n",
              "      <td>0.86</td>\n",
              "      <td>5</td>\n",
              "      <td>262</td>\n",
              "      <td>6</td>\n",
              "      <td>0</td>\n",
              "      <td>1</td>\n",
              "      <td>0</td>\n",
              "      <td>sales</td>\n",
              "      <td>medium</td>\n",
              "    </tr>\n",
              "    <tr>\n",
              "      <th>2</th>\n",
              "      <td>0.11</td>\n",
              "      <td>0.88</td>\n",
              "      <td>7</td>\n",
              "      <td>272</td>\n",
              "      <td>4</td>\n",
              "      <td>0</td>\n",
              "      <td>1</td>\n",
              "      <td>0</td>\n",
              "      <td>sales</td>\n",
              "      <td>medium</td>\n",
              "    </tr>\n",
              "    <tr>\n",
              "      <th>3</th>\n",
              "      <td>0.72</td>\n",
              "      <td>0.87</td>\n",
              "      <td>5</td>\n",
              "      <td>223</td>\n",
              "      <td>5</td>\n",
              "      <td>0</td>\n",
              "      <td>1</td>\n",
              "      <td>0</td>\n",
              "      <td>sales</td>\n",
              "      <td>low</td>\n",
              "    </tr>\n",
              "    <tr>\n",
              "      <th>4</th>\n",
              "      <td>0.37</td>\n",
              "      <td>0.52</td>\n",
              "      <td>2</td>\n",
              "      <td>159</td>\n",
              "      <td>3</td>\n",
              "      <td>0</td>\n",
              "      <td>1</td>\n",
              "      <td>0</td>\n",
              "      <td>sales</td>\n",
              "      <td>low</td>\n",
              "    </tr>\n",
              "  </tbody>\n",
              "</table>\n",
              "</div>\n",
              "      <button class=\"colab-df-convert\" onclick=\"convertToInteractive('df-6e37b3bf-9759-43ef-8cba-28c76405c4fe')\"\n",
              "              title=\"Convert this dataframe to an interactive table.\"\n",
              "              style=\"display:none;\">\n",
              "        \n",
              "  <svg xmlns=\"http://www.w3.org/2000/svg\" height=\"24px\"viewBox=\"0 0 24 24\"\n",
              "       width=\"24px\">\n",
              "    <path d=\"M0 0h24v24H0V0z\" fill=\"none\"/>\n",
              "    <path d=\"M18.56 5.44l.94 2.06.94-2.06 2.06-.94-2.06-.94-.94-2.06-.94 2.06-2.06.94zm-11 1L8.5 8.5l.94-2.06 2.06-.94-2.06-.94L8.5 2.5l-.94 2.06-2.06.94zm10 10l.94 2.06.94-2.06 2.06-.94-2.06-.94-.94-2.06-.94 2.06-2.06.94z\"/><path d=\"M17.41 7.96l-1.37-1.37c-.4-.4-.92-.59-1.43-.59-.52 0-1.04.2-1.43.59L10.3 9.45l-7.72 7.72c-.78.78-.78 2.05 0 2.83L4 21.41c.39.39.9.59 1.41.59.51 0 1.02-.2 1.41-.59l7.78-7.78 2.81-2.81c.8-.78.8-2.07 0-2.86zM5.41 20L4 18.59l7.72-7.72 1.47 1.35L5.41 20z\"/>\n",
              "  </svg>\n",
              "      </button>\n",
              "      \n",
              "  <style>\n",
              "    .colab-df-container {\n",
              "      display:flex;\n",
              "      flex-wrap:wrap;\n",
              "      gap: 12px;\n",
              "    }\n",
              "\n",
              "    .colab-df-convert {\n",
              "      background-color: #E8F0FE;\n",
              "      border: none;\n",
              "      border-radius: 50%;\n",
              "      cursor: pointer;\n",
              "      display: none;\n",
              "      fill: #1967D2;\n",
              "      height: 32px;\n",
              "      padding: 0 0 0 0;\n",
              "      width: 32px;\n",
              "    }\n",
              "\n",
              "    .colab-df-convert:hover {\n",
              "      background-color: #E2EBFA;\n",
              "      box-shadow: 0px 1px 2px rgba(60, 64, 67, 0.3), 0px 1px 3px 1px rgba(60, 64, 67, 0.15);\n",
              "      fill: #174EA6;\n",
              "    }\n",
              "\n",
              "    [theme=dark] .colab-df-convert {\n",
              "      background-color: #3B4455;\n",
              "      fill: #D2E3FC;\n",
              "    }\n",
              "\n",
              "    [theme=dark] .colab-df-convert:hover {\n",
              "      background-color: #434B5C;\n",
              "      box-shadow: 0px 1px 3px 1px rgba(0, 0, 0, 0.15);\n",
              "      filter: drop-shadow(0px 1px 2px rgba(0, 0, 0, 0.3));\n",
              "      fill: #FFFFFF;\n",
              "    }\n",
              "  </style>\n",
              "\n",
              "      <script>\n",
              "        const buttonEl =\n",
              "          document.querySelector('#df-6e37b3bf-9759-43ef-8cba-28c76405c4fe button.colab-df-convert');\n",
              "        buttonEl.style.display =\n",
              "          google.colab.kernel.accessAllowed ? 'block' : 'none';\n",
              "\n",
              "        async function convertToInteractive(key) {\n",
              "          const element = document.querySelector('#df-6e37b3bf-9759-43ef-8cba-28c76405c4fe');\n",
              "          const dataTable =\n",
              "            await google.colab.kernel.invokeFunction('convertToInteractive',\n",
              "                                                     [key], {});\n",
              "          if (!dataTable) return;\n",
              "\n",
              "          const docLinkHtml = 'Like what you see? Visit the ' +\n",
              "            '<a target=\"_blank\" href=https://colab.research.google.com/notebooks/data_table.ipynb>data table notebook</a>'\n",
              "            + ' to learn more about interactive tables.';\n",
              "          element.innerHTML = '';\n",
              "          dataTable['output_type'] = 'display_data';\n",
              "          await google.colab.output.renderOutput(dataTable, element);\n",
              "          const docLink = document.createElement('div');\n",
              "          docLink.innerHTML = docLinkHtml;\n",
              "          element.appendChild(docLink);\n",
              "        }\n",
              "      </script>\n",
              "    </div>\n",
              "  </div>\n",
              "  "
            ]
          },
          "metadata": {},
          "execution_count": 183
        }
      ],
      "source": [
        "df = pd.read_csv('https://raw.githubusercontent.com/ArkadiyDrozdov/pyda-31_Python/main/data/HR.csv')\n",
        "df.head()"
      ]
    },
    {
      "cell_type": "code",
      "source": [
        "# 1. satisfaction_level​    - Уровень удовлетворенности работой\n",
        "# 2. last_evaluation ​      - Время с момента последней оценки в годах\n",
        "# 3. number_projects​       - Количество проектов, выполненных за время работы\n",
        "# 4. average_monthly_hours​ - Среднее количество часов на рабочем месте в месяц\n",
        "# 5. time_spend_company​    - Стаж работы в компании в годах\n",
        "# 6. work_accident​         - Происходили ли несчастные случаи на рабочем месте с сотрудником\n",
        "# 7. left                  ​- Уволился ли сотрудник\n",
        "# 8. promotion_last_5years​ - Повышался ли сотрудник за последние пять лет\n",
        "# 9. department ​           - Отдел в котором работает сотрудник\n",
        "# 10. salary               ​- Относительный уровень зарплаты"
      ],
      "metadata": {
        "id": "Kr6OloLyNebB"
      },
      "execution_count": 184,
      "outputs": []
    },
    {
      "cell_type": "code",
      "source": [
        "df.info()"
      ],
      "metadata": {
        "colab": {
          "base_uri": "https://localhost:8080/"
        },
        "id": "umf7joz40iDA",
        "outputId": "63c53293-a6c1-4996-834d-b7311d06728f"
      },
      "execution_count": 185,
      "outputs": [
        {
          "output_type": "stream",
          "name": "stdout",
          "text": [
            "<class 'pandas.core.frame.DataFrame'>\n",
            "RangeIndex: 14999 entries, 0 to 14998\n",
            "Data columns (total 10 columns):\n",
            " #   Column                 Non-Null Count  Dtype  \n",
            "---  ------                 --------------  -----  \n",
            " 0   satisfaction_level     14999 non-null  float64\n",
            " 1   last_evaluation        14999 non-null  float64\n",
            " 2   number_project         14999 non-null  int64  \n",
            " 3   average_montly_hours   14999 non-null  int64  \n",
            " 4   time_spend_company     14999 non-null  int64  \n",
            " 5   Work_accident          14999 non-null  int64  \n",
            " 6   left                   14999 non-null  int64  \n",
            " 7   promotion_last_5years  14999 non-null  int64  \n",
            " 8   department             14999 non-null  object \n",
            " 9   salary                 14999 non-null  object \n",
            "dtypes: float64(2), int64(6), object(2)\n",
            "memory usage: 1.1+ MB\n"
          ]
        }
      ]
    },
    {
      "cell_type": "markdown",
      "source": [
        "**2. Рассчитайте основные статистики для переменных**"
      ],
      "metadata": {
        "id": "2L34gBELl1Rx"
      }
    },
    {
      "cell_type": "code",
      "source": [
        "df.describe()\n",
        "# mean - среднее, 50% - медиана, min - мин, max - макс, std - сред.отклонение"
      ],
      "metadata": {
        "colab": {
          "base_uri": "https://localhost:8080/",
          "height": 364
        },
        "id": "2NVmKjNyN61y",
        "outputId": "fc6a90f1-d921-441e-8159-a55e0ea73cec"
      },
      "execution_count": 186,
      "outputs": [
        {
          "output_type": "execute_result",
          "data": {
            "text/plain": [
              "       satisfaction_level  last_evaluation  number_project  \\\n",
              "count        14999.000000     14999.000000    14999.000000   \n",
              "mean             0.612834         0.716102        3.803054   \n",
              "std              0.248631         0.171169        1.232592   \n",
              "min              0.090000         0.360000        2.000000   \n",
              "25%              0.440000         0.560000        3.000000   \n",
              "50%              0.640000         0.720000        4.000000   \n",
              "75%              0.820000         0.870000        5.000000   \n",
              "max              1.000000         1.000000        7.000000   \n",
              "\n",
              "       average_montly_hours  time_spend_company  Work_accident          left  \\\n",
              "count          14999.000000        14999.000000   14999.000000  14999.000000   \n",
              "mean             201.050337            3.498233       0.144610      0.238083   \n",
              "std               49.943099            1.460136       0.351719      0.425924   \n",
              "min               96.000000            2.000000       0.000000      0.000000   \n",
              "25%              156.000000            3.000000       0.000000      0.000000   \n",
              "50%              200.000000            3.000000       0.000000      0.000000   \n",
              "75%              245.000000            4.000000       0.000000      0.000000   \n",
              "max              310.000000           10.000000       1.000000      1.000000   \n",
              "\n",
              "       promotion_last_5years  \n",
              "count           14999.000000  \n",
              "mean                0.021268  \n",
              "std                 0.144281  \n",
              "min                 0.000000  \n",
              "25%                 0.000000  \n",
              "50%                 0.000000  \n",
              "75%                 0.000000  \n",
              "max                 1.000000  "
            ],
            "text/html": [
              "\n",
              "  <div id=\"df-1897bbfe-703f-424f-9ae4-bf0c7dce3bde\">\n",
              "    <div class=\"colab-df-container\">\n",
              "      <div>\n",
              "<style scoped>\n",
              "    .dataframe tbody tr th:only-of-type {\n",
              "        vertical-align: middle;\n",
              "    }\n",
              "\n",
              "    .dataframe tbody tr th {\n",
              "        vertical-align: top;\n",
              "    }\n",
              "\n",
              "    .dataframe thead th {\n",
              "        text-align: right;\n",
              "    }\n",
              "</style>\n",
              "<table border=\"1\" class=\"dataframe\">\n",
              "  <thead>\n",
              "    <tr style=\"text-align: right;\">\n",
              "      <th></th>\n",
              "      <th>satisfaction_level</th>\n",
              "      <th>last_evaluation</th>\n",
              "      <th>number_project</th>\n",
              "      <th>average_montly_hours</th>\n",
              "      <th>time_spend_company</th>\n",
              "      <th>Work_accident</th>\n",
              "      <th>left</th>\n",
              "      <th>promotion_last_5years</th>\n",
              "    </tr>\n",
              "  </thead>\n",
              "  <tbody>\n",
              "    <tr>\n",
              "      <th>count</th>\n",
              "      <td>14999.000000</td>\n",
              "      <td>14999.000000</td>\n",
              "      <td>14999.000000</td>\n",
              "      <td>14999.000000</td>\n",
              "      <td>14999.000000</td>\n",
              "      <td>14999.000000</td>\n",
              "      <td>14999.000000</td>\n",
              "      <td>14999.000000</td>\n",
              "    </tr>\n",
              "    <tr>\n",
              "      <th>mean</th>\n",
              "      <td>0.612834</td>\n",
              "      <td>0.716102</td>\n",
              "      <td>3.803054</td>\n",
              "      <td>201.050337</td>\n",
              "      <td>3.498233</td>\n",
              "      <td>0.144610</td>\n",
              "      <td>0.238083</td>\n",
              "      <td>0.021268</td>\n",
              "    </tr>\n",
              "    <tr>\n",
              "      <th>std</th>\n",
              "      <td>0.248631</td>\n",
              "      <td>0.171169</td>\n",
              "      <td>1.232592</td>\n",
              "      <td>49.943099</td>\n",
              "      <td>1.460136</td>\n",
              "      <td>0.351719</td>\n",
              "      <td>0.425924</td>\n",
              "      <td>0.144281</td>\n",
              "    </tr>\n",
              "    <tr>\n",
              "      <th>min</th>\n",
              "      <td>0.090000</td>\n",
              "      <td>0.360000</td>\n",
              "      <td>2.000000</td>\n",
              "      <td>96.000000</td>\n",
              "      <td>2.000000</td>\n",
              "      <td>0.000000</td>\n",
              "      <td>0.000000</td>\n",
              "      <td>0.000000</td>\n",
              "    </tr>\n",
              "    <tr>\n",
              "      <th>25%</th>\n",
              "      <td>0.440000</td>\n",
              "      <td>0.560000</td>\n",
              "      <td>3.000000</td>\n",
              "      <td>156.000000</td>\n",
              "      <td>3.000000</td>\n",
              "      <td>0.000000</td>\n",
              "      <td>0.000000</td>\n",
              "      <td>0.000000</td>\n",
              "    </tr>\n",
              "    <tr>\n",
              "      <th>50%</th>\n",
              "      <td>0.640000</td>\n",
              "      <td>0.720000</td>\n",
              "      <td>4.000000</td>\n",
              "      <td>200.000000</td>\n",
              "      <td>3.000000</td>\n",
              "      <td>0.000000</td>\n",
              "      <td>0.000000</td>\n",
              "      <td>0.000000</td>\n",
              "    </tr>\n",
              "    <tr>\n",
              "      <th>75%</th>\n",
              "      <td>0.820000</td>\n",
              "      <td>0.870000</td>\n",
              "      <td>5.000000</td>\n",
              "      <td>245.000000</td>\n",
              "      <td>4.000000</td>\n",
              "      <td>0.000000</td>\n",
              "      <td>0.000000</td>\n",
              "      <td>0.000000</td>\n",
              "    </tr>\n",
              "    <tr>\n",
              "      <th>max</th>\n",
              "      <td>1.000000</td>\n",
              "      <td>1.000000</td>\n",
              "      <td>7.000000</td>\n",
              "      <td>310.000000</td>\n",
              "      <td>10.000000</td>\n",
              "      <td>1.000000</td>\n",
              "      <td>1.000000</td>\n",
              "      <td>1.000000</td>\n",
              "    </tr>\n",
              "  </tbody>\n",
              "</table>\n",
              "</div>\n",
              "      <button class=\"colab-df-convert\" onclick=\"convertToInteractive('df-1897bbfe-703f-424f-9ae4-bf0c7dce3bde')\"\n",
              "              title=\"Convert this dataframe to an interactive table.\"\n",
              "              style=\"display:none;\">\n",
              "        \n",
              "  <svg xmlns=\"http://www.w3.org/2000/svg\" height=\"24px\"viewBox=\"0 0 24 24\"\n",
              "       width=\"24px\">\n",
              "    <path d=\"M0 0h24v24H0V0z\" fill=\"none\"/>\n",
              "    <path d=\"M18.56 5.44l.94 2.06.94-2.06 2.06-.94-2.06-.94-.94-2.06-.94 2.06-2.06.94zm-11 1L8.5 8.5l.94-2.06 2.06-.94-2.06-.94L8.5 2.5l-.94 2.06-2.06.94zm10 10l.94 2.06.94-2.06 2.06-.94-2.06-.94-.94-2.06-.94 2.06-2.06.94z\"/><path d=\"M17.41 7.96l-1.37-1.37c-.4-.4-.92-.59-1.43-.59-.52 0-1.04.2-1.43.59L10.3 9.45l-7.72 7.72c-.78.78-.78 2.05 0 2.83L4 21.41c.39.39.9.59 1.41.59.51 0 1.02-.2 1.41-.59l7.78-7.78 2.81-2.81c.8-.78.8-2.07 0-2.86zM5.41 20L4 18.59l7.72-7.72 1.47 1.35L5.41 20z\"/>\n",
              "  </svg>\n",
              "      </button>\n",
              "      \n",
              "  <style>\n",
              "    .colab-df-container {\n",
              "      display:flex;\n",
              "      flex-wrap:wrap;\n",
              "      gap: 12px;\n",
              "    }\n",
              "\n",
              "    .colab-df-convert {\n",
              "      background-color: #E8F0FE;\n",
              "      border: none;\n",
              "      border-radius: 50%;\n",
              "      cursor: pointer;\n",
              "      display: none;\n",
              "      fill: #1967D2;\n",
              "      height: 32px;\n",
              "      padding: 0 0 0 0;\n",
              "      width: 32px;\n",
              "    }\n",
              "\n",
              "    .colab-df-convert:hover {\n",
              "      background-color: #E2EBFA;\n",
              "      box-shadow: 0px 1px 2px rgba(60, 64, 67, 0.3), 0px 1px 3px 1px rgba(60, 64, 67, 0.15);\n",
              "      fill: #174EA6;\n",
              "    }\n",
              "\n",
              "    [theme=dark] .colab-df-convert {\n",
              "      background-color: #3B4455;\n",
              "      fill: #D2E3FC;\n",
              "    }\n",
              "\n",
              "    [theme=dark] .colab-df-convert:hover {\n",
              "      background-color: #434B5C;\n",
              "      box-shadow: 0px 1px 3px 1px rgba(0, 0, 0, 0.15);\n",
              "      filter: drop-shadow(0px 1px 2px rgba(0, 0, 0, 0.3));\n",
              "      fill: #FFFFFF;\n",
              "    }\n",
              "  </style>\n",
              "\n",
              "      <script>\n",
              "        const buttonEl =\n",
              "          document.querySelector('#df-1897bbfe-703f-424f-9ae4-bf0c7dce3bde button.colab-df-convert');\n",
              "        buttonEl.style.display =\n",
              "          google.colab.kernel.accessAllowed ? 'block' : 'none';\n",
              "\n",
              "        async function convertToInteractive(key) {\n",
              "          const element = document.querySelector('#df-1897bbfe-703f-424f-9ae4-bf0c7dce3bde');\n",
              "          const dataTable =\n",
              "            await google.colab.kernel.invokeFunction('convertToInteractive',\n",
              "                                                     [key], {});\n",
              "          if (!dataTable) return;\n",
              "\n",
              "          const docLinkHtml = 'Like what you see? Visit the ' +\n",
              "            '<a target=\"_blank\" href=https://colab.research.google.com/notebooks/data_table.ipynb>data table notebook</a>'\n",
              "            + ' to learn more about interactive tables.';\n",
              "          element.innerHTML = '';\n",
              "          dataTable['output_type'] = 'display_data';\n",
              "          await google.colab.output.renderOutput(dataTable, element);\n",
              "          const docLink = document.createElement('div');\n",
              "          docLink.innerHTML = docLinkHtml;\n",
              "          element.appendChild(docLink);\n",
              "        }\n",
              "      </script>\n",
              "    </div>\n",
              "  </div>\n",
              "  "
            ]
          },
          "metadata": {},
          "execution_count": 186
        }
      ]
    },
    {
      "cell_type": "code",
      "source": [
        "df.mode(numeric_only = False).loc[0] # мода"
      ],
      "metadata": {
        "colab": {
          "base_uri": "https://localhost:8080/"
        },
        "id": "YBm9x1UzO3Ma",
        "outputId": "f894131d-f250-4cb0-9fe7-79f69d86493e"
      },
      "execution_count": 187,
      "outputs": [
        {
          "output_type": "execute_result",
          "data": {
            "text/plain": [
              "satisfaction_level         0.1\n",
              "last_evaluation           0.55\n",
              "number_project             4.0\n",
              "average_montly_hours       135\n",
              "time_spend_company         3.0\n",
              "Work_accident              0.0\n",
              "left                       0.0\n",
              "promotion_last_5years      0.0\n",
              "department               sales\n",
              "salary                     low\n",
              "Name: 0, dtype: object"
            ]
          },
          "metadata": {},
          "execution_count": 187
        }
      ]
    },
    {
      "cell_type": "markdown",
      "source": [
        "**3. Рассчитайте и визуализируйте корреляционную матрицу для количественных переменных**"
      ],
      "metadata": {
        "id": "wXDXeZnll9Lm"
      }
    },
    {
      "cell_type": "code",
      "source": [
        "lst     = ['last_evaluation', 'number_project', 'average_montly_hours', 'time_spend_company']\n",
        "df_corr = df[lst].corr()\n",
        "\n",
        "sns.set(rc = {'figure.figsize':(9,5)})\n",
        "sns.heatmap(df_corr, cmap = 'YlOrBr', annot = True)\n",
        "plt.title('Корреляционная матрица для количественных переменных:\\n')\n",
        "plt.show()"
      ],
      "metadata": {
        "id": "ZTZeemn9VVtp",
        "colab": {
          "base_uri": "https://localhost:8080/",
          "height": 469
        },
        "outputId": "22608cb0-b2fb-460e-f4f1-8b54d0f9dd9d"
      },
      "execution_count": 188,
      "outputs": [
        {
          "output_type": "display_data",
          "data": {
            "text/plain": [
              "<Figure size 648x360 with 2 Axes>"
            ],
            "image/png": "[encoded data removed]"
          },
          "metadata": {}
        }
      ]
    },
    {
      "cell_type": "markdown",
      "source": [
        "**Определите две самые скоррелированные и две наименее скоррелированные переменные**"
      ],
      "metadata": {
        "id": "2LPtY5RLmHwQ"
      }
    },
    {
      "cell_type": "code",
      "source": [
        "# Первый вариант:\n",
        "dct = {}\n",
        "for i, j in list(itertools.combinations(df_corr, 2)):\n",
        "    dct[round(df_corr.loc[i, j], 4)] = (i, j)\n",
        "\n",
        "dict_sorted = dict(sorted(dct.items(), key = lambda x: x[0]))\n",
        "dict_sorted"
      ],
      "metadata": {
        "id": "1IgtjupbonMJ",
        "colab": {
          "base_uri": "https://localhost:8080/"
        },
        "outputId": "59818131-5a2c-43f8-d632-5aba550f0ffe"
      },
      "execution_count": 189,
      "outputs": [
        {
          "output_type": "execute_result",
          "data": {
            "text/plain": [
              "{0.1278: ('average_montly_hours', 'time_spend_company'),\n",
              " 0.1316: ('last_evaluation', 'time_spend_company'),\n",
              " 0.1968: ('number_project', 'time_spend_company'),\n",
              " 0.3397: ('last_evaluation', 'average_montly_hours'),\n",
              " 0.3493: ('last_evaluation', 'number_project'),\n",
              " 0.4172: ('number_project', 'average_montly_hours')}"
            ]
          },
          "metadata": {},
          "execution_count": 189
        }
      ]
    },
    {
      "cell_type": "code",
      "source": [
        "print('Ответ:')\n",
        "print(f'Две наименее скоррелированные переменные: {dict_sorted[min(dict_sorted.keys())]}')\n",
        "print(f'Две наиболее скоррелированные переменные: {dict_sorted[max(dict_sorted.keys())]}')"
      ],
      "metadata": {
        "id": "zJzVEqyYqA8a",
        "colab": {
          "base_uri": "https://localhost:8080/"
        },
        "outputId": "e601894f-fbe6-4d31-8b5e-06fbd7e8a7ac"
      },
      "execution_count": 190,
      "outputs": [
        {
          "output_type": "stream",
          "name": "stdout",
          "text": [
            "Ответ:\n",
            "Две наименее скоррелированные переменные: ('average_montly_hours', 'time_spend_company')\n",
            "Две наиболее скоррелированные переменные: ('number_project', 'average_montly_hours')\n"
          ]
        }
      ]
    },
    {
      "cell_type": "code",
      "source": [
        "# Второй вариант:\n",
        "list_ = list(itertools.combinations(df_corr, 2))\n",
        "\n",
        "df_   = pd.DataFrame({'corr':      [df_corr.loc[i, j] for i, j in list_], \n",
        "                      'variables': [(i,j) for i, j in list_]})\n",
        "df_   = df_.sort_values(['corr'])\n",
        "df_"
      ],
      "metadata": {
        "colab": {
          "base_uri": "https://localhost:8080/",
          "height": 238
        },
        "id": "fl3TtF4e_1kW",
        "outputId": "adc15543-4a59-436b-94b6-00dd9f3c8830"
      },
      "execution_count": 191,
      "outputs": [
        {
          "output_type": "execute_result",
          "data": {
            "text/plain": [
              "       corr                                   variables\n",
              "5  0.127755  (average_montly_hours, time_spend_company)\n",
              "2  0.131591       (last_evaluation, time_spend_company)\n",
              "4  0.196786        (number_project, time_spend_company)\n",
              "1  0.339742     (last_evaluation, average_montly_hours)\n",
              "0  0.349333           (last_evaluation, number_project)\n",
              "3  0.417211      (number_project, average_montly_hours)"
            ],
            "text/html": [
              "\n",
              "  <div id=\"df-fd19b499-2edd-4529-8656-0655fe3d6f41\">\n",
              "    <div class=\"colab-df-container\">\n",
              "      <div>\n",
              "<style scoped>\n",
              "    .dataframe tbody tr th:only-of-type {\n",
              "        vertical-align: middle;\n",
              "    }\n",
              "\n",
              "    .dataframe tbody tr th {\n",
              "        vertical-align: top;\n",
              "    }\n",
              "\n",
              "    .dataframe thead th {\n",
              "        text-align: right;\n",
              "    }\n",
              "</style>\n",
              "<table border=\"1\" class=\"dataframe\">\n",
              "  <thead>\n",
              "    <tr style=\"text-align: right;\">\n",
              "      <th></th>\n",
              "      <th>corr</th>\n",
              "      <th>variables</th>\n",
              "    </tr>\n",
              "  </thead>\n",
              "  <tbody>\n",
              "    <tr>\n",
              "      <th>5</th>\n",
              "      <td>0.127755</td>\n",
              "      <td>(average_montly_hours, time_spend_company)</td>\n",
              "    </tr>\n",
              "    <tr>\n",
              "      <th>2</th>\n",
              "      <td>0.131591</td>\n",
              "      <td>(last_evaluation, time_spend_company)</td>\n",
              "    </tr>\n",
              "    <tr>\n",
              "      <th>4</th>\n",
              "      <td>0.196786</td>\n",
              "      <td>(number_project, time_spend_company)</td>\n",
              "    </tr>\n",
              "    <tr>\n",
              "      <th>1</th>\n",
              "      <td>0.339742</td>\n",
              "      <td>(last_evaluation, average_montly_hours)</td>\n",
              "    </tr>\n",
              "    <tr>\n",
              "      <th>0</th>\n",
              "      <td>0.349333</td>\n",
              "      <td>(last_evaluation, number_project)</td>\n",
              "    </tr>\n",
              "    <tr>\n",
              "      <th>3</th>\n",
              "      <td>0.417211</td>\n",
              "      <td>(number_project, average_montly_hours)</td>\n",
              "    </tr>\n",
              "  </tbody>\n",
              "</table>\n",
              "</div>\n",
              "      <button class=\"colab-df-convert\" onclick=\"convertToInteractive('df-fd19b499-2edd-4529-8656-0655fe3d6f41')\"\n",
              "              title=\"Convert this dataframe to an interactive table.\"\n",
              "              style=\"display:none;\">\n",
              "        \n",
              "  <svg xmlns=\"http://www.w3.org/2000/svg\" height=\"24px\"viewBox=\"0 0 24 24\"\n",
              "       width=\"24px\">\n",
              "    <path d=\"M0 0h24v24H0V0z\" fill=\"none\"/>\n",
              "    <path d=\"M18.56 5.44l.94 2.06.94-2.06 2.06-.94-2.06-.94-.94-2.06-.94 2.06-2.06.94zm-11 1L8.5 8.5l.94-2.06 2.06-.94-2.06-.94L8.5 2.5l-.94 2.06-2.06.94zm10 10l.94 2.06.94-2.06 2.06-.94-2.06-.94-.94-2.06-.94 2.06-2.06.94z\"/><path d=\"M17.41 7.96l-1.37-1.37c-.4-.4-.92-.59-1.43-.59-.52 0-1.04.2-1.43.59L10.3 9.45l-7.72 7.72c-.78.78-.78 2.05 0 2.83L4 21.41c.39.39.9.59 1.41.59.51 0 1.02-.2 1.41-.59l7.78-7.78 2.81-2.81c.8-.78.8-2.07 0-2.86zM5.41 20L4 18.59l7.72-7.72 1.47 1.35L5.41 20z\"/>\n",
              "  </svg>\n",
              "      </button>\n",
              "      \n",
              "  <style>\n",
              "    .colab-df-container {\n",
              "      display:flex;\n",
              "      flex-wrap:wrap;\n",
              "      gap: 12px;\n",
              "    }\n",
              "\n",
              "    .colab-df-convert {\n",
              "      background-color: #E8F0FE;\n",
              "      border: none;\n",
              "      border-radius: 50%;\n",
              "      cursor: pointer;\n",
              "      display: none;\n",
              "      fill: #1967D2;\n",
              "      height: 32px;\n",
              "      padding: 0 0 0 0;\n",
              "      width: 32px;\n",
              "    }\n",
              "\n",
              "    .colab-df-convert:hover {\n",
              "      background-color: #E2EBFA;\n",
              "      box-shadow: 0px 1px 2px rgba(60, 64, 67, 0.3), 0px 1px 3px 1px rgba(60, 64, 67, 0.15);\n",
              "      fill: #174EA6;\n",
              "    }\n",
              "\n",
              "    [theme=dark] .colab-df-convert {\n",
              "      background-color: #3B4455;\n",
              "      fill: #D2E3FC;\n",
              "    }\n",
              "\n",
              "    [theme=dark] .colab-df-convert:hover {\n",
              "      background-color: #434B5C;\n",
              "      box-shadow: 0px 1px 3px 1px rgba(0, 0, 0, 0.15);\n",
              "      filter: drop-shadow(0px 1px 2px rgba(0, 0, 0, 0.3));\n",
              "      fill: #FFFFFF;\n",
              "    }\n",
              "  </style>\n",
              "\n",
              "      <script>\n",
              "        const buttonEl =\n",
              "          document.querySelector('#df-fd19b499-2edd-4529-8656-0655fe3d6f41 button.colab-df-convert');\n",
              "        buttonEl.style.display =\n",
              "          google.colab.kernel.accessAllowed ? 'block' : 'none';\n",
              "\n",
              "        async function convertToInteractive(key) {\n",
              "          const element = document.querySelector('#df-fd19b499-2edd-4529-8656-0655fe3d6f41');\n",
              "          const dataTable =\n",
              "            await google.colab.kernel.invokeFunction('convertToInteractive',\n",
              "                                                     [key], {});\n",
              "          if (!dataTable) return;\n",
              "\n",
              "          const docLinkHtml = 'Like what you see? Visit the ' +\n",
              "            '<a target=\"_blank\" href=https://colab.research.google.com/notebooks/data_table.ipynb>data table notebook</a>'\n",
              "            + ' to learn more about interactive tables.';\n",
              "          element.innerHTML = '';\n",
              "          dataTable['output_type'] = 'display_data';\n",
              "          await google.colab.output.renderOutput(dataTable, element);\n",
              "          const docLink = document.createElement('div');\n",
              "          docLink.innerHTML = docLinkHtml;\n",
              "          element.appendChild(docLink);\n",
              "        }\n",
              "      </script>\n",
              "    </div>\n",
              "  </div>\n",
              "  "
            ]
          },
          "metadata": {},
          "execution_count": 191
        }
      ]
    },
    {
      "cell_type": "code",
      "source": [
        "print('Ответ:')\n",
        "print(f'Две наименее скоррелированные переменные: {df_.variables.loc[5]}')\n",
        "print(f'Две наиболее скоррелированные переменные: {df_.variables.loc[3]}')\n"
      ],
      "metadata": {
        "colab": {
          "base_uri": "https://localhost:8080/"
        },
        "id": "4lMNh5gds2Fv",
        "outputId": "094114f7-dc3f-44a0-ffc7-7b05a9870868"
      },
      "execution_count": 192,
      "outputs": [
        {
          "output_type": "stream",
          "name": "stdout",
          "text": [
            "Ответ:\n",
            "Две наименее скоррелированные переменные: ('average_montly_hours', 'time_spend_company')\n",
            "Две наиболее скоррелированные переменные: ('number_project', 'average_montly_hours')\n"
          ]
        }
      ]
    },
    {
      "cell_type": "code",
      "source": [
        ""
      ],
      "metadata": {
        "id": "VfAQOHZpILMO"
      },
      "execution_count": 192,
      "outputs": []
    },
    {
      "cell_type": "markdown",
      "source": [
        "**4. Рассчитайте сколько сотрудников работает в каждом департаменте**"
      ],
      "metadata": {
        "id": "vuI1UHKumPNM"
      }
    },
    {
      "cell_type": "code",
      "source": [
        "df.department.value_counts()"
      ],
      "metadata": {
        "colab": {
          "base_uri": "https://localhost:8080/"
        },
        "id": "P7sIL9IiVeym",
        "outputId": "ab53ecac-5168-445f-cdf0-3efdb40869e0"
      },
      "execution_count": 193,
      "outputs": [
        {
          "output_type": "execute_result",
          "data": {
            "text/plain": [
              "sales          4140\n",
              "technical      2720\n",
              "support        2229\n",
              "IT             1227\n",
              "product_mng     902\n",
              "marketing       858\n",
              "RandD           787\n",
              "accounting      767\n",
              "hr              739\n",
              "management      630\n",
              "Name: department, dtype: int64"
            ]
          },
          "metadata": {},
          "execution_count": 193
        }
      ]
    },
    {
      "cell_type": "markdown",
      "source": [
        "**5. Показать распределение сотрудников по зарплатам**"
      ],
      "metadata": {
        "id": "A4Z8Sm6MmTG6"
      }
    },
    {
      "cell_type": "code",
      "source": [
        "df.salary.value_counts()"
      ],
      "metadata": {
        "colab": {
          "base_uri": "https://localhost:8080/"
        },
        "id": "Q0tSyOYHWT4X",
        "outputId": "bb81c845-3a1c-44cb-b779-3debfe5f57fa"
      },
      "execution_count": 194,
      "outputs": [
        {
          "output_type": "execute_result",
          "data": {
            "text/plain": [
              "low       7316\n",
              "medium    6446\n",
              "high      1237\n",
              "Name: salary, dtype: int64"
            ]
          },
          "metadata": {},
          "execution_count": 194
        }
      ]
    },
    {
      "cell_type": "code",
      "source": [
        "# визуализируем\n",
        "sns.set(rc = {'figure.figsize':(5,3)})\n",
        "df.salary.value_counts().plot(kind = 'bar', color = ['blue', 'green', 'red'], stacked = True)\n",
        "plt.title('Распределение сотрудников по зарплатам')\n",
        "plt.ylabel('Число сотрудников')\n",
        "plt.show()"
      ],
      "metadata": {
        "colab": {
          "base_uri": "https://localhost:8080/",
          "height": 265
        },
        "id": "gStobpCnrff1",
        "outputId": "48119d90-b80e-44ab-aa42-82fe3fc123e9"
      },
      "execution_count": 195,
      "outputs": [
        {
          "output_type": "display_data",
          "data": {
            "text/plain": [
              "<Figure size 360x216 with 1 Axes>"
            ],
            "image/png": "[encoded data removed]"
          },
          "metadata": {}
        }
      ]
    },
    {
      "cell_type": "markdown",
      "source": [
        "**6. Показать распределение сотрудников по зарплатам в каждом департаменте по отдельности**"
      ],
      "metadata": {
        "id": "rKMMhYsrmarQ"
      }
    },
    {
      "cell_type": "code",
      "source": [
        "df_salary = df.groupby('department')['salary'].value_counts()\n",
        "df_salary"
      ],
      "metadata": {
        "colab": {
          "base_uri": "https://localhost:8080/"
        },
        "id": "ClTjxfGIWlaR",
        "outputId": "e76f91d0-ffc9-43ba-c944-0c922c708a97"
      },
      "execution_count": 196,
      "outputs": [
        {
          "output_type": "execute_result",
          "data": {
            "text/plain": [
              "department   salary\n",
              "IT           low        609\n",
              "             medium     535\n",
              "             high        83\n",
              "RandD        medium     372\n",
              "             low        364\n",
              "             high        51\n",
              "accounting   low        358\n",
              "             medium     335\n",
              "             high        74\n",
              "hr           medium     359\n",
              "             low        335\n",
              "             high        45\n",
              "management   high       225\n",
              "             medium     225\n",
              "             low        180\n",
              "marketing    low        402\n",
              "             medium     376\n",
              "             high        80\n",
              "product_mng  low        451\n",
              "             medium     383\n",
              "             high        68\n",
              "sales        low       2099\n",
              "             medium    1772\n",
              "             high       269\n",
              "support      low       1146\n",
              "             medium     942\n",
              "             high       141\n",
              "technical    low       1372\n",
              "             medium    1147\n",
              "             high       201\n",
              "Name: salary, dtype: int64"
            ]
          },
          "metadata": {},
          "execution_count": 196
        }
      ]
    },
    {
      "cell_type": "code",
      "source": [
        "# визуализируем\n",
        "sns.set(rc = {'figure.figsize':(10,5)})\n",
        "df_salary.unstack().plot(kind = 'bar', color = ['red', 'blue', 'green'], stacked = False)\n",
        "plt.title('Распределение сотрудников по зарплатам в каждом департаменте')\n",
        "plt.ylabel('Число сотрудников')\n",
        "plt.show()"
      ],
      "metadata": {
        "colab": {
          "base_uri": "https://localhost:8080/",
          "height": 419
        },
        "id": "Mi504k3NgUms",
        "outputId": "2b404d49-219e-4aec-a004-d58047d58c76"
      },
      "execution_count": 197,
      "outputs": [
        {
          "output_type": "display_data",
          "data": {
            "text/plain": [
              "<Figure size 720x360 with 1 Axes>"
            ],
            "image/png": "[encoded data removed]"
          },
          "metadata": {}
        }
      ]
    },
    {
      "cell_type": "code",
      "source": [
        ""
      ],
      "metadata": {
        "id": "xwDv6_q2iKMz"
      },
      "execution_count": 197,
      "outputs": []
    },
    {
      "cell_type": "markdown",
      "source": [
        "**7. Проверить гипотезу, что сотрудники с ВЫСОКИМ окладом проводят на работе БОЛЬШЕ времени, чем сотрудники с низким окладом**"
      ],
      "metadata": {
        "id": "lsvc-2QemgEx"
      }
    },
    {
      "cell_type": "code",
      "source": [
        "df_high = df.loc[df.salary == 'high'].average_montly_hours\n",
        "df_low  = df.loc[df.salary == 'low'].average_montly_hours\n",
        "\n",
        "# проверим сначала, есть ли выбросы\n",
        "plt.figure(figsize = (12, 5))\n",
        "plt.subplot(221)\n",
        "sns.boxplot(df_high)\n",
        "\n",
        "plt.subplot(222)\n",
        "sns.boxplot(df_low)\n",
        "plt.show()\n",
        "# выбросов нет!"
      ],
      "metadata": {
        "id": "PdzyZGiKXP9h",
        "colab": {
          "base_uri": "https://localhost:8080/",
          "height": 280
        },
        "outputId": "900acdb8-89d9-4775-a97e-5c824b3a9e94"
      },
      "execution_count": 198,
      "outputs": [
        {
          "output_type": "stream",
          "name": "stderr",
          "text": [
            "/usr/local/lib/python3.7/dist-packages/seaborn/_decorators.py:43: FutureWarning: Pass the following variable as a keyword arg: x. From version 0.12, the only valid positional argument will be `data`, and passing other arguments without an explicit keyword will result in an error or misinterpretation.\n",
            "  FutureWarning\n",
            "/usr/local/lib/python3.7/dist-packages/seaborn/_decorators.py:43: FutureWarning: Pass the following variable as a keyword arg: x. From version 0.12, the only valid positional argument will be `data`, and passing other arguments without an explicit keyword will result in an error or misinterpretation.\n",
            "  FutureWarning\n"
          ]
        },
        {
          "output_type": "display_data",
          "data": {
            "text/plain": [
              "<Figure size 864x360 with 2 Axes>"
            ],
            "image/png": "[encoded data removed]"
          },
          "metadata": {}
        }
      ]
    },
    {
      "cell_type": "markdown",
      "source": [
        "**H0:** сотрудники с высоким окладом проводят на работе **столько же** в среднем часов, сколько и сотрудники с низким окладом.\n",
        "\n",
        "**H1:** сотрудники с **разным** окладом проводят в среднем **разное** количество часов на работе."
      ],
      "metadata": {
        "id": "97M5PO-0tioa"
      }
    },
    {
      "cell_type": "code",
      "source": [
        "result = st.ttest_ind(df_high, df_low, equal_var = False)\n",
        "print(f'pvalue: {round(result.pvalue, 2)}')\n",
        "\n",
        "if (result.pvalue < 0.05):\n",
        "    # отвергаем нулевую гипотезу:\n",
        "    print('\\nВывод: Cотрудники с НИЗКИМ и ВЫСОКИМ окладом в среднем проводят на работе РАЗНОЕ количество часов в месяц.')  \n",
        "\n",
        "    # НЕ отвергаем нулевую гипотезу   \n",
        "else:\n",
        "    print('\\nВывод: Cотрудники с НИЗКИМ и ВЫСОКИМ окладом в среднем проводят на работе ОДИНАКОВОЕ количество часов в месяц.') \n",
        "\n",
        "print('\\nСреднее количество часов сотрудников на рабочем месте в месяц:')\n",
        "print(f'- с высоким окладом: {int(df_high.mean())}')\n",
        "print(f'- с низким  окладом: {int(df_low.mean())}')"
      ],
      "metadata": {
        "colab": {
          "base_uri": "https://localhost:8080/"
        },
        "id": "_HvsbKXrtAWG",
        "outputId": "153b9f4a-d283-4508-eec2-70aa16e96cae"
      },
      "execution_count": 199,
      "outputs": [
        {
          "output_type": "stream",
          "name": "stdout",
          "text": [
            "pvalue: 0.45\n",
            "\n",
            "Вывод: Cотрудники с НИЗКИМ и ВЫСОКИМ окладом в среднем проводят на работе ОДИНАКОВОЕ количество часов в месяц.\n",
            "\n",
            "Среднее количество часов сотрудников на рабочем месте в месяц:\n",
            "- с высоким окладом: 199\n",
            "- с низким  окладом: 200\n"
          ]
        }
      ]
    },
    {
      "cell_type": "code",
      "source": [
        ""
      ],
      "metadata": {
        "id": "B7rY-MMcm3cn"
      },
      "execution_count": 199,
      "outputs": []
    },
    {
      "cell_type": "markdown",
      "source": [
        "**8. Рассчитать следующие показатели среди уволившихся и не уволившихся сотрудников (по отдельности):**\n",
        "* Доля сотрудников с повышением за последние 5 лет\n",
        "* Средняя степень удовлетворенности\n",
        "* Среднее количество проектов\n",
        "\n",
        "\n"
      ],
      "metadata": {
        "id": "oTaAdHy3mpyR"
      }
    },
    {
      "cell_type": "code",
      "source": [
        "print('Уволившиеся сотрудники:\\n')\n",
        "df_fired_prom = df.loc[(df.left == True) & (df.promotion_last_5years == True)]\n",
        "print(f'Доля уволившихся сотрудников \\nс повышением за последние 5 лет:   {round(100 * len(df_fired_prom) / len(df), 1)}%')\n",
        "print(f'Средняя степень удовлетворенности: {round(df[df.left == True].satisfaction_level.mean(), 1)}')\n",
        "print(f'Среднее количество проектов:       {int(df[df.left == True].number_project.mean())}')\n",
        "\n",
        "print('\\n\\nНеуволившиеся сотрудники:\\n')\n",
        "df_notfired_prom = df.loc[(df.left == False) & (df.promotion_last_5years == True)]\n",
        "print(f'Доля неуволившихся сотрудников \\nс повышением за последние 5 лет:   {round(100 * len(df_notfired_prom) / len(df), 1)}%')\n",
        "print(f'Средняя степень удовлетворенности: {round(df[df.left == False].satisfaction_level.mean(), 1)}')\n",
        "print(f'Среднее количество проектов:       {int(df[df.left == False].number_project.mean())}')"
      ],
      "metadata": {
        "colab": {
          "base_uri": "https://localhost:8080/"
        },
        "id": "b8T9FBmm0Lc4",
        "outputId": "2f77a9dd-b893-4ec7-d517-6fa9393ceedd"
      },
      "execution_count": 200,
      "outputs": [
        {
          "output_type": "stream",
          "name": "stdout",
          "text": [
            "Уволившиеся сотрудники:\n",
            "\n",
            "Доля уволившихся сотрудников \n",
            "с повышением за последние 5 лет:   0.1%\n",
            "Средняя степень удовлетворенности: 0.4\n",
            "Среднее количество проектов:       3\n",
            "\n",
            "\n",
            "Неуволившиеся сотрудники:\n",
            "\n",
            "Доля неуволившихся сотрудников \n",
            "с повышением за последние 5 лет:   2.0%\n",
            "Средняя степень удовлетворенности: 0.7\n",
            "Среднее количество проектов:       3\n"
          ]
        }
      ]
    },
    {
      "cell_type": "code",
      "source": [
        ""
      ],
      "metadata": {
        "id": "lyfSusdg4YJH"
      },
      "execution_count": 200,
      "outputs": []
    },
    {
      "cell_type": "markdown",
      "source": [
        "**9. Разделить данные на тестовую и обучающую выборки.**\n",
        "* Построить модель LDA, предсказывающую уволился ли сотрудник на основе имеющихся факторов (кроме department и salary).\n",
        "* Оценить качество модели на тестовой выборкe."
      ],
      "metadata": {
        "id": "E4uqZeevm9IJ"
      }
    },
    {
      "cell_type": "code",
      "source": [
        "# столбец df.left - категориальный, поэтому применяем линейный дискриминантный анализ (ЛДА)\n",
        "lda = LinearDiscriminantAnalysis() # инициализация модели ЛДА\n",
        "\n",
        "# разделяем выборку на тренировочную и тестовую:\n",
        "data = df[['satisfaction_level', 'last_evaluation', 'number_project', 'average_montly_hours', 'time_spend_company', 'Work_accident', 'promotion_last_5years']]\n",
        "X_train, X_test, y_train, y_test = train_test_split(data, df.left, test_size = 0.3, random_state = 42)\n",
        "\n",
        "lda.fit(X_train, y_train)       # обучаем данные\n",
        "y_predict = lda.predict(X_test) # делаем прогноз на тестовой выборке\n",
        "\n",
        "# Проверка работы модели LDA:\n",
        "print(f'Модель дает {round(accuracy_score(y_test, y_predict), 3) * 100} % правильно спрогнозированных выборок среди всех тестовых.')\n",
        "\n",
        "print('\\nПодробные результаты работы LDA модели, предсказывающей уволился ли сотрудник:') \n",
        "LDA_result = confusion_matrix(y_test, y_predict)\n",
        "LDA_result"
      ],
      "metadata": {
        "id": "_jxERvYr6ncQ",
        "colab": {
          "base_uri": "https://localhost:8080/"
        },
        "outputId": "91652136-bf9f-4fd3-ccfc-c4b6705bcc32"
      },
      "execution_count": 201,
      "outputs": [
        {
          "output_type": "stream",
          "name": "stdout",
          "text": [
            "Модель дает 75.6 % правильно спрогнозированных выборок среди всех тестовых.\n",
            "\n",
            "Подробные результаты работы LDA модели, предсказывающей уволился ли сотрудник:\n"
          ]
        },
        {
          "output_type": "execute_result",
          "data": {
            "text/plain": [
              "array([[3138,  290],\n",
              "       [ 809,  263]])"
            ]
          },
          "metadata": {},
          "execution_count": 201
        }
      ]
    },
    {
      "cell_type": "code",
      "source": [
        ""
      ],
      "metadata": {
        "id": "BbrMu2wjdTGa"
      },
      "execution_count": 201,
      "outputs": []
    },
    {
      "cell_type": "code",
      "source": [
        "# Расшифровка матрицы ошибок:\n",
        "\n",
        "true_negatives, false_positives, false_negatives, true_positives = confusion_matrix(y_test, y_predict).ravel()\n",
        "\n",
        "print(f'Истино-отрицательное предсказание: {true_negatives}')\n",
        "print(f'- модель верно предсказала, что {LDA_result[0][0]} сотрудников действительно уволилось.\\n')\n",
        "\n",
        "print(f'Ложно-положительное предсказание:  {false_positives}')\n",
        "print(f'- модель ошибочно предсказала, что {LDA_result[0][1]} сотрудников осталось на работе. На самом деле они уволились.\\n')\n",
        "\n",
        "print(f'Ложно-отрицательное предсказание:  {false_negatives}')\n",
        "print(f'- модель ошибочно предсказала, что {LDA_result[1][0]} сотрудников уволилось с работы. А на самом деле они остались на работе.\\n')\n",
        "\n",
        "print(f'Истино-положительное предсказание: {true_positives}')\n",
        "print(f'- модель верно предсказала, что {LDA_result[1][1]} сотрудников действительно не уволилось.')"
      ],
      "metadata": {
        "colab": {
          "base_uri": "https://localhost:8080/"
        },
        "id": "2MZXXYjJ9Rqe",
        "outputId": "3e8506c3-3af3-40e4-f0ac-f828700e9433"
      },
      "execution_count": 202,
      "outputs": [
        {
          "output_type": "stream",
          "name": "stdout",
          "text": [
            "Истино-отрицательное предсказание: 3138\n",
            "- модель верно предсказала, что 3138 сотрудников действительно уволилось.\n",
            "\n",
            "Ложно-положительное предсказание:  290\n",
            "- модель ошибочно предсказала, что 290 сотрудников осталось на работе. На самом деле они уволились.\n",
            "\n",
            "Ложно-отрицательное предсказание:  809\n",
            "- модель ошибочно предсказала, что 809 сотрудников уволилось с работы. А на самом деле они остались на работе.\n",
            "\n",
            "Истино-положительное предсказание: 263\n",
            "- модель верно предсказала, что 263 сотрудников действительно не уволилось.\n"
          ]
        }
      ]
    },
    {
      "cell_type": "code",
      "source": [
        ""
      ],
      "metadata": {
        "id": "GbSrpYnkGFS_"
      },
      "execution_count": 202,
      "outputs": []
    },
    {
      "cell_type": "code",
      "source": [
        "# коэффициенты дискриминатных линий для двух классов по 7 признаков в каждом\n",
        "lda.coef_"
      ],
      "metadata": {
        "colab": {
          "base_uri": "https://localhost:8080/"
        },
        "id": "5IV10MZbkuTp",
        "outputId": "6b67b399-2af2-43ae-ab8b-9eaeda455026"
      },
      "execution_count": 203,
      "outputs": [
        {
          "output_type": "execute_result",
          "data": {
            "text/plain": [
              "array([[-4.57738626e+00,  6.13822647e-01, -2.10613368e-01,\n",
              "         4.55442333e-03,  2.21314862e-01, -1.05033789e+00,\n",
              "        -1.08559074e+00]])"
            ]
          },
          "metadata": {},
          "execution_count": 203
        }
      ]
    },
    {
      "cell_type": "code",
      "source": [
        "print(f'Признак № {np.argmin(np.abs(lda.coef_[0])) + 1} наименее значим.')\n",
        "print(f'Признак № {np.argmax(np.abs(lda.coef_[0])) + 1} наиболее значим.')"
      ],
      "metadata": {
        "colab": {
          "base_uri": "https://localhost:8080/"
        },
        "id": "9x7mZvaOsj_6",
        "outputId": "71bcac68-b2c4-458e-e68c-c0758c538bfa"
      },
      "execution_count": 204,
      "outputs": [
        {
          "output_type": "stream",
          "name": "stdout",
          "text": [
            "Признак № 4 наименее значим.\n",
            "Признак № 1 наиболее значим.\n"
          ]
        }
      ]
    },
    {
      "cell_type": "code",
      "source": [
        "# Признак № 4 - average_montly_hours (Среднее количество часов на рабочем месте в месяц)\n",
        "\n",
        "sns.set(rc = {'figure.figsize':(7,7)})\n",
        "plt.scatter(df.left, df.average_montly_hours, s = 5, c = 'green')\n",
        "plt.xlabel('уволился (1) или нет (0) сотрудник')\n",
        "plt.ylabel('average_montly_hours')\n",
        "\n",
        "# Видим, что уволившиеся сотрудники на работе проводили БОЛЬШЕ времени, чем действующие работники.\n",
        "# Сотрудники, которые не уволились, в месяц проводили наименьшее количество часов."
      ],
      "metadata": {
        "colab": {
          "base_uri": "https://localhost:8080/",
          "height": 465
        },
        "id": "SBbxbWmoGqTw",
        "outputId": "a87bffa3-688e-48be-a32a-9f3c017ec237"
      },
      "execution_count": 205,
      "outputs": [
        {
          "output_type": "execute_result",
          "data": {
            "text/plain": [
              "Text(0, 0.5, 'average_montly_hours')"
            ]
          },
          "metadata": {},
          "execution_count": 205
        },
        {
          "output_type": "display_data",
          "data": {
            "text/plain": [
              "<Figure size 504x504 with 1 Axes>"
            ],
            "image/png": "[encoded data removed]"
          },
          "metadata": {}
        }
      ]
    },
    {
      "cell_type": "code",
      "source": [
        "# Признак № 1 - satisfaction_level (уровень удовлетворенности работой)\n",
        "\n",
        "sns.set(rc = {'figure.figsize':(7,7)})\n",
        "plt.scatter(x = df.left, y = df.satisfaction_level, s = 5, c = 'green')\n",
        "plt.xlabel('уволился (1) или нет (0) сотрудник')\n",
        "plt.ylabel('satisfaction_level')\n",
        "\n",
        "# Видим, что уровень удовлетворенности работой ВЫШЕ у неуволившихся сотрудников.\n",
        "# Уволившиеся же сотрудники при этом обладают самым низким уровнем удовлетворенности работой."
      ],
      "metadata": {
        "id": "lKQtwiOdxGPJ",
        "colab": {
          "base_uri": "https://localhost:8080/",
          "height": 465
        },
        "outputId": "c0597636-50af-4c81-867b-d7cebca2f881"
      },
      "execution_count": 206,
      "outputs": [
        {
          "output_type": "execute_result",
          "data": {
            "text/plain": [
              "Text(0, 0.5, 'satisfaction_level')"
            ]
          },
          "metadata": {},
          "execution_count": 206
        },
        {
          "output_type": "display_data",
          "data": {
            "text/plain": [
              "<Figure size 504x504 with 1 Axes>"
            ],
            "image/png": "[encoded data removed]"
          },
          "metadata": {}
        }
      ]
    }
  ]
}