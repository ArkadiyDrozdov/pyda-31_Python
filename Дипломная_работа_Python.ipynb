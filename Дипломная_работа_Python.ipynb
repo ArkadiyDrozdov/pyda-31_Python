{
  "nbformat": 4,
  "nbformat_minor": 0,
  "metadata": {
    "colab": {
      "name": "Дипломная_работа_Python.ipynb",
      "provenance": [],
      "collapsed_sections": [],
      "mount_file_id": "1MnEh2YQycjUcpBi4Qnzg2_W2uwfC8IIl",
      "authorship_tag": "ABX9TyPA5fOFKCZ1W/qViENCJHHw"
    },
    "kernelspec": {
      "name": "python3",
      "display_name": "Python 3"
    },
    "language_info": {
      "name": "python"
    }
  },
  "cells": [
    {
      "cell_type": "markdown",
      "source": [
        "**Задание к дипломной работе по курсу \"Python для анализа данных\"**\n"
      ],
      "metadata": {
        "id": "IedkbkAMB3Gz"
      }
    },
    {
      "cell_type": "code",
      "source": [
        "import pandas as pd\n",
        "import seaborn as sns\n",
        "import matplotlib.pyplot as plt\n",
        "import itertools\n",
        "import numpy as np\n",
        "import xgboost as xgb\n",
        "\n",
        "from scipy import stats as st\n",
        "from sklearn.model_selection import train_test_split\n",
        "from sklearn.discriminant_analysis import LinearDiscriminantAnalysis\n",
        "from sklearn.metrics import accuracy_score\n",
        "from sklearn.metrics import recall_score\n",
        "from sklearn.metrics import confusion_matrix\n",
        "from sklearn.ensemble import RandomForestClassifier\n",
        "from sklearn.model_selection import RandomizedSearchCV\n",
        "from sklearn.model_selection import GridSearchCV\n",
        "from IPython.display import display"
      ],
      "metadata": {
        "id": "yZ05zK9-CscB"
      },
      "execution_count": null,
      "outputs": []
    },
    {
      "cell_type": "markdown",
      "source": [
        "**1. Загрузите файл HR.csv в pandas dataframe**"
      ],
      "metadata": {
        "id": "35mXouxKluxS"
      }
    },
    {
      "cell_type": "code",
      "execution_count": null,
      "metadata": {
        "colab": {
          "base_uri": "https://localhost:8080/",
          "height": 206
        },
        "id": "pgA4gpkEB0yu",
        "outputId": "a94c87dc-5e98-4ec4-cd31-a136951a01b5"
      },
      "outputs": [
        {
          "output_type": "execute_result",
          "data": {
            "text/plain": [
              "   satisfaction_level  last_evaluation  number_project  average_montly_hours  \\\n",
              "0                0.38             0.53               2                   157   \n",
              "1                0.80             0.86               5                   262   \n",
              "2                0.11             0.88               7                   272   \n",
              "3                0.72             0.87               5                   223   \n",
              "4                0.37             0.52               2                   159   \n",
              "\n",
              "   time_spend_company  Work_accident  left  promotion_last_5years department  \\\n",
              "0                   3              0     1                      0      sales   \n",
              "1                   6              0     1                      0      sales   \n",
              "2                   4              0     1                      0      sales   \n",
              "3                   5              0     1                      0      sales   \n",
              "4                   3              0     1                      0      sales   \n",
              "\n",
              "   salary  \n",
              "0     low  \n",
              "1  medium  \n",
              "2  medium  \n",
              "3     low  \n",
              "4     low  "
            ],
            "text/html": [
              "\n",
              "  <div id=\"df-b07af030-403d-4593-8765-988da1df1ac7\">\n",
              "    <div class=\"colab-df-container\">\n",
              "      <div>\n",
              "<style scoped>\n",
              "    .dataframe tbody tr th:only-of-type {\n",
              "        vertical-align: middle;\n",
              "    }\n",
              "\n",
              "    .dataframe tbody tr th {\n",
              "        vertical-align: top;\n",
              "    }\n",
              "\n",
              "    .dataframe thead th {\n",
              "        text-align: right;\n",
              "    }\n",
              "</style>\n",
              "<table border=\"1\" class=\"dataframe\">\n",
              "  <thead>\n",
              "    <tr style=\"text-align: right;\">\n",
              "      <th></th>\n",
              "      <th>satisfaction_level</th>\n",
              "      <th>last_evaluation</th>\n",
              "      <th>number_project</th>\n",
              "      <th>average_montly_hours</th>\n",
              "      <th>time_spend_company</th>\n",
              "      <th>Work_accident</th>\n",
              "      <th>left</th>\n",
              "      <th>promotion_last_5years</th>\n",
              "      <th>department</th>\n",
              "      <th>salary</th>\n",
              "    </tr>\n",
              "  </thead>\n",
              "  <tbody>\n",
              "    <tr>\n",
              "      <th>0</th>\n",
              "      <td>0.38</td>\n",
              "      <td>0.53</td>\n",
              "      <td>2</td>\n",
              "      <td>157</td>\n",
              "      <td>3</td>\n",
              "      <td>0</td>\n",
              "      <td>1</td>\n",
              "      <td>0</td>\n",
              "      <td>sales</td>\n",
              "      <td>low</td>\n",
              "    </tr>\n",
              "    <tr>\n",
              "      <th>1</th>\n",
              "      <td>0.80</td>\n",
              "      <td>0.86</td>\n",
              "      <td>5</td>\n",
              "      <td>262</td>\n",
              "      <td>6</td>\n",
              "      <td>0</td>\n",
              "      <td>1</td>\n",
              "      <td>0</td>\n",
              "      <td>sales</td>\n",
              "      <td>medium</td>\n",
              "    </tr>\n",
              "    <tr>\n",
              "      <th>2</th>\n",
              "      <td>0.11</td>\n",
              "      <td>0.88</td>\n",
              "      <td>7</td>\n",
              "      <td>272</td>\n",
              "      <td>4</td>\n",
              "      <td>0</td>\n",
              "      <td>1</td>\n",
              "      <td>0</td>\n",
              "      <td>sales</td>\n",
              "      <td>medium</td>\n",
              "    </tr>\n",
              "    <tr>\n",
              "      <th>3</th>\n",
              "      <td>0.72</td>\n",
              "      <td>0.87</td>\n",
              "      <td>5</td>\n",
              "      <td>223</td>\n",
              "      <td>5</td>\n",
              "      <td>0</td>\n",
              "      <td>1</td>\n",
              "      <td>0</td>\n",
              "      <td>sales</td>\n",
              "      <td>low</td>\n",
              "    </tr>\n",
              "    <tr>\n",
              "      <th>4</th>\n",
              "      <td>0.37</td>\n",
              "      <td>0.52</td>\n",
              "      <td>2</td>\n",
              "      <td>159</td>\n",
              "      <td>3</td>\n",
              "      <td>0</td>\n",
              "      <td>1</td>\n",
              "      <td>0</td>\n",
              "      <td>sales</td>\n",
              "      <td>low</td>\n",
              "    </tr>\n",
              "  </tbody>\n",
              "</table>\n",
              "</div>\n",
              "      <button class=\"colab-df-convert\" onclick=\"convertToInteractive('df-b07af030-403d-4593-8765-988da1df1ac7')\"\n",
              "              title=\"Convert this dataframe to an interactive table.\"\n",
              "              style=\"display:none;\">\n",
              "        \n",
              "  <svg xmlns=\"http://www.w3.org/2000/svg\" height=\"24px\"viewBox=\"0 0 24 24\"\n",
              "       width=\"24px\">\n",
              "    <path d=\"M0 0h24v24H0V0z\" fill=\"none\"/>\n",
              "    <path d=\"M18.56 5.44l.94 2.06.94-2.06 2.06-.94-2.06-.94-.94-2.06-.94 2.06-2.06.94zm-11 1L8.5 8.5l.94-2.06 2.06-.94-2.06-.94L8.5 2.5l-.94 2.06-2.06.94zm10 10l.94 2.06.94-2.06 2.06-.94-2.06-.94-.94-2.06-.94 2.06-2.06.94z\"/><path d=\"M17.41 7.96l-1.37-1.37c-.4-.4-.92-.59-1.43-.59-.52 0-1.04.2-1.43.59L10.3 9.45l-7.72 7.72c-.78.78-.78 2.05 0 2.83L4 21.41c.39.39.9.59 1.41.59.51 0 1.02-.2 1.41-.59l7.78-7.78 2.81-2.81c.8-.78.8-2.07 0-2.86zM5.41 20L4 18.59l7.72-7.72 1.47 1.35L5.41 20z\"/>\n",
              "  </svg>\n",
              "      </button>\n",
              "      \n",
              "  <style>\n",
              "    .colab-df-container {\n",
              "      display:flex;\n",
              "      flex-wrap:wrap;\n",
              "      gap: 12px;\n",
              "    }\n",
              "\n",
              "    .colab-df-convert {\n",
              "      background-color: #E8F0FE;\n",
              "      border: none;\n",
              "      border-radius: 50%;\n",
              "      cursor: pointer;\n",
              "      display: none;\n",
              "      fill: #1967D2;\n",
              "      height: 32px;\n",
              "      padding: 0 0 0 0;\n",
              "      width: 32px;\n",
              "    }\n",
              "\n",
              "    .colab-df-convert:hover {\n",
              "      background-color: #E2EBFA;\n",
              "      box-shadow: 0px 1px 2px rgba(60, 64, 67, 0.3), 0px 1px 3px 1px rgba(60, 64, 67, 0.15);\n",
              "      fill: #174EA6;\n",
              "    }\n",
              "\n",
              "    [theme=dark] .colab-df-convert {\n",
              "      background-color: #3B4455;\n",
              "      fill: #D2E3FC;\n",
              "    }\n",
              "\n",
              "    [theme=dark] .colab-df-convert:hover {\n",
              "      background-color: #434B5C;\n",
              "      box-shadow: 0px 1px 3px 1px rgba(0, 0, 0, 0.15);\n",
              "      filter: drop-shadow(0px 1px 2px rgba(0, 0, 0, 0.3));\n",
              "      fill: #FFFFFF;\n",
              "    }\n",
              "  </style>\n",
              "\n",
              "      <script>\n",
              "        const buttonEl =\n",
              "          document.querySelector('#df-b07af030-403d-4593-8765-988da1df1ac7 button.colab-df-convert');\n",
              "        buttonEl.style.display =\n",
              "          google.colab.kernel.accessAllowed ? 'block' : 'none';\n",
              "\n",
              "        async function convertToInteractive(key) {\n",
              "          const element = document.querySelector('#df-b07af030-403d-4593-8765-988da1df1ac7');\n",
              "          const dataTable =\n",
              "            await google.colab.kernel.invokeFunction('convertToInteractive',\n",
              "                                                     [key], {});\n",
              "          if (!dataTable) return;\n",
              "\n",
              "          const docLinkHtml = 'Like what you see? Visit the ' +\n",
              "            '<a target=\"_blank\" href=https://colab.research.google.com/notebooks/data_table.ipynb>data table notebook</a>'\n",
              "            + ' to learn more about interactive tables.';\n",
              "          element.innerHTML = '';\n",
              "          dataTable['output_type'] = 'display_data';\n",
              "          await google.colab.output.renderOutput(dataTable, element);\n",
              "          const docLink = document.createElement('div');\n",
              "          docLink.innerHTML = docLinkHtml;\n",
              "          element.appendChild(docLink);\n",
              "        }\n",
              "      </script>\n",
              "    </div>\n",
              "  </div>\n",
              "  "
            ]
          },
          "metadata": {},
          "execution_count": 2
        }
      ],
      "source": [
        "df = pd.read_csv('https://raw.githubusercontent.com/ArkadiyDrozdov/pyda-31_Python/main/data/HR.csv')\n",
        "df.head()"
      ]
    },
    {
      "cell_type": "code",
      "source": [
        "# 1. satisfaction_level​    - Уровень удовлетворенности работой\n",
        "# 2. last_evaluation ​      - Время с момента последней оценки в годах\n",
        "# 3. number_projects​       - Количество проектов, выполненных за время работы\n",
        "# 4. average_monthly_hours​ - Среднее количество часов на рабочем месте в месяц\n",
        "# 5. time_spend_company​    - Стаж работы в компании в годах\n",
        "# 6. work_accident​         - Происходили ли несчастные случаи на рабочем месте с сотрудником\n",
        "# 7. left                  ​- Уволился ли сотрудник\n",
        "# 8. promotion_last_5years​ - Повышался ли сотрудник за последние пять лет\n",
        "# 9. department ​           - Отдел в котором работает сотрудник\n",
        "# 10. salary               ​- Относительный уровень зарплаты"
      ],
      "metadata": {
        "id": "Kr6OloLyNebB"
      },
      "execution_count": null,
      "outputs": []
    },
    {
      "cell_type": "code",
      "source": [
        "df.info()"
      ],
      "metadata": {
        "colab": {
          "base_uri": "https://localhost:8080/"
        },
        "id": "umf7joz40iDA",
        "outputId": "fb3c0776-882d-4312-83ba-9ec821726c99"
      },
      "execution_count": null,
      "outputs": [
        {
          "output_type": "stream",
          "name": "stdout",
          "text": [
            "<class 'pandas.core.frame.DataFrame'>\n",
            "RangeIndex: 14999 entries, 0 to 14998\n",
            "Data columns (total 10 columns):\n",
            " #   Column                 Non-Null Count  Dtype  \n",
            "---  ------                 --------------  -----  \n",
            " 0   satisfaction_level     14999 non-null  float64\n",
            " 1   last_evaluation        14999 non-null  float64\n",
            " 2   number_project         14999 non-null  int64  \n",
            " 3   average_montly_hours   14999 non-null  int64  \n",
            " 4   time_spend_company     14999 non-null  int64  \n",
            " 5   Work_accident          14999 non-null  int64  \n",
            " 6   left                   14999 non-null  int64  \n",
            " 7   promotion_last_5years  14999 non-null  int64  \n",
            " 8   department             14999 non-null  object \n",
            " 9   salary                 14999 non-null  object \n",
            "dtypes: float64(2), int64(6), object(2)\n",
            "memory usage: 1.1+ MB\n"
          ]
        }
      ]
    },
    {
      "cell_type": "markdown",
      "source": [
        "**2. Рассчитайте основные статистики для переменных**"
      ],
      "metadata": {
        "id": "2L34gBELl1Rx"
      }
    },
    {
      "cell_type": "code",
      "source": [
        "df.describe()\n",
        "# mean - среднее, 50% - медиана, min - мин, max - макс, std - сред.отклонение"
      ],
      "metadata": {
        "colab": {
          "base_uri": "https://localhost:8080/",
          "height": 300
        },
        "id": "2NVmKjNyN61y",
        "outputId": "f8c385fa-c6ef-4e59-9157-03b9a8caa8aa"
      },
      "execution_count": null,
      "outputs": [
        {
          "output_type": "execute_result",
          "data": {
            "text/plain": [
              "       satisfaction_level  last_evaluation  number_project  \\\n",
              "count        14999.000000     14999.000000    14999.000000   \n",
              "mean             0.612834         0.716102        3.803054   \n",
              "std              0.248631         0.171169        1.232592   \n",
              "min              0.090000         0.360000        2.000000   \n",
              "25%              0.440000         0.560000        3.000000   \n",
              "50%              0.640000         0.720000        4.000000   \n",
              "75%              0.820000         0.870000        5.000000   \n",
              "max              1.000000         1.000000        7.000000   \n",
              "\n",
              "       average_montly_hours  time_spend_company  Work_accident          left  \\\n",
              "count          14999.000000        14999.000000   14999.000000  14999.000000   \n",
              "mean             201.050337            3.498233       0.144610      0.238083   \n",
              "std               49.943099            1.460136       0.351719      0.425924   \n",
              "min               96.000000            2.000000       0.000000      0.000000   \n",
              "25%              156.000000            3.000000       0.000000      0.000000   \n",
              "50%              200.000000            3.000000       0.000000      0.000000   \n",
              "75%              245.000000            4.000000       0.000000      0.000000   \n",
              "max              310.000000           10.000000       1.000000      1.000000   \n",
              "\n",
              "       promotion_last_5years  \n",
              "count           14999.000000  \n",
              "mean                0.021268  \n",
              "std                 0.144281  \n",
              "min                 0.000000  \n",
              "25%                 0.000000  \n",
              "50%                 0.000000  \n",
              "75%                 0.000000  \n",
              "max                 1.000000  "
            ],
            "text/html": [
              "\n",
              "  <div id=\"df-53a5d808-9b13-4826-b0a0-6dcdc1c9bf74\">\n",
              "    <div class=\"colab-df-container\">\n",
              "      <div>\n",
              "<style scoped>\n",
              "    .dataframe tbody tr th:only-of-type {\n",
              "        vertical-align: middle;\n",
              "    }\n",
              "\n",
              "    .dataframe tbody tr th {\n",
              "        vertical-align: top;\n",
              "    }\n",
              "\n",
              "    .dataframe thead th {\n",
              "        text-align: right;\n",
              "    }\n",
              "</style>\n",
              "<table border=\"1\" class=\"dataframe\">\n",
              "  <thead>\n",
              "    <tr style=\"text-align: right;\">\n",
              "      <th></th>\n",
              "      <th>satisfaction_level</th>\n",
              "      <th>last_evaluation</th>\n",
              "      <th>number_project</th>\n",
              "      <th>average_montly_hours</th>\n",
              "      <th>time_spend_company</th>\n",
              "      <th>Work_accident</th>\n",
              "      <th>left</th>\n",
              "      <th>promotion_last_5years</th>\n",
              "    </tr>\n",
              "  </thead>\n",
              "  <tbody>\n",
              "    <tr>\n",
              "      <th>count</th>\n",
              "      <td>14999.000000</td>\n",
              "      <td>14999.000000</td>\n",
              "      <td>14999.000000</td>\n",
              "      <td>14999.000000</td>\n",
              "      <td>14999.000000</td>\n",
              "      <td>14999.000000</td>\n",
              "      <td>14999.000000</td>\n",
              "      <td>14999.000000</td>\n",
              "    </tr>\n",
              "    <tr>\n",
              "      <th>mean</th>\n",
              "      <td>0.612834</td>\n",
              "      <td>0.716102</td>\n",
              "      <td>3.803054</td>\n",
              "      <td>201.050337</td>\n",
              "      <td>3.498233</td>\n",
              "      <td>0.144610</td>\n",
              "      <td>0.238083</td>\n",
              "      <td>0.021268</td>\n",
              "    </tr>\n",
              "    <tr>\n",
              "      <th>std</th>\n",
              "      <td>0.248631</td>\n",
              "      <td>0.171169</td>\n",
              "      <td>1.232592</td>\n",
              "      <td>49.943099</td>\n",
              "      <td>1.460136</td>\n",
              "      <td>0.351719</td>\n",
              "      <td>0.425924</td>\n",
              "      <td>0.144281</td>\n",
              "    </tr>\n",
              "    <tr>\n",
              "      <th>min</th>\n",
              "      <td>0.090000</td>\n",
              "      <td>0.360000</td>\n",
              "      <td>2.000000</td>\n",
              "      <td>96.000000</td>\n",
              "      <td>2.000000</td>\n",
              "      <td>0.000000</td>\n",
              "      <td>0.000000</td>\n",
              "      <td>0.000000</td>\n",
              "    </tr>\n",
              "    <tr>\n",
              "      <th>25%</th>\n",
              "      <td>0.440000</td>\n",
              "      <td>0.560000</td>\n",
              "      <td>3.000000</td>\n",
              "      <td>156.000000</td>\n",
              "      <td>3.000000</td>\n",
              "      <td>0.000000</td>\n",
              "      <td>0.000000</td>\n",
              "      <td>0.000000</td>\n",
              "    </tr>\n",
              "    <tr>\n",
              "      <th>50%</th>\n",
              "      <td>0.640000</td>\n",
              "      <td>0.720000</td>\n",
              "      <td>4.000000</td>\n",
              "      <td>200.000000</td>\n",
              "      <td>3.000000</td>\n",
              "      <td>0.000000</td>\n",
              "      <td>0.000000</td>\n",
              "      <td>0.000000</td>\n",
              "    </tr>\n",
              "    <tr>\n",
              "      <th>75%</th>\n",
              "      <td>0.820000</td>\n",
              "      <td>0.870000</td>\n",
              "      <td>5.000000</td>\n",
              "      <td>245.000000</td>\n",
              "      <td>4.000000</td>\n",
              "      <td>0.000000</td>\n",
              "      <td>0.000000</td>\n",
              "      <td>0.000000</td>\n",
              "    </tr>\n",
              "    <tr>\n",
              "      <th>max</th>\n",
              "      <td>1.000000</td>\n",
              "      <td>1.000000</td>\n",
              "      <td>7.000000</td>\n",
              "      <td>310.000000</td>\n",
              "      <td>10.000000</td>\n",
              "      <td>1.000000</td>\n",
              "      <td>1.000000</td>\n",
              "      <td>1.000000</td>\n",
              "    </tr>\n",
              "  </tbody>\n",
              "</table>\n",
              "</div>\n",
              "      <button class=\"colab-df-convert\" onclick=\"convertToInteractive('df-53a5d808-9b13-4826-b0a0-6dcdc1c9bf74')\"\n",
              "              title=\"Convert this dataframe to an interactive table.\"\n",
              "              style=\"display:none;\">\n",
              "        \n",
              "  <svg xmlns=\"http://www.w3.org/2000/svg\" height=\"24px\"viewBox=\"0 0 24 24\"\n",
              "       width=\"24px\">\n",
              "    <path d=\"M0 0h24v24H0V0z\" fill=\"none\"/>\n",
              "    <path d=\"M18.56 5.44l.94 2.06.94-2.06 2.06-.94-2.06-.94-.94-2.06-.94 2.06-2.06.94zm-11 1L8.5 8.5l.94-2.06 2.06-.94-2.06-.94L8.5 2.5l-.94 2.06-2.06.94zm10 10l.94 2.06.94-2.06 2.06-.94-2.06-.94-.94-2.06-.94 2.06-2.06.94z\"/><path d=\"M17.41 7.96l-1.37-1.37c-.4-.4-.92-.59-1.43-.59-.52 0-1.04.2-1.43.59L10.3 9.45l-7.72 7.72c-.78.78-.78 2.05 0 2.83L4 21.41c.39.39.9.59 1.41.59.51 0 1.02-.2 1.41-.59l7.78-7.78 2.81-2.81c.8-.78.8-2.07 0-2.86zM5.41 20L4 18.59l7.72-7.72 1.47 1.35L5.41 20z\"/>\n",
              "  </svg>\n",
              "      </button>\n",
              "      \n",
              "  <style>\n",
              "    .colab-df-container {\n",
              "      display:flex;\n",
              "      flex-wrap:wrap;\n",
              "      gap: 12px;\n",
              "    }\n",
              "\n",
              "    .colab-df-convert {\n",
              "      background-color: #E8F0FE;\n",
              "      border: none;\n",
              "      border-radius: 50%;\n",
              "      cursor: pointer;\n",
              "      display: none;\n",
              "      fill: #1967D2;\n",
              "      height: 32px;\n",
              "      padding: 0 0 0 0;\n",
              "      width: 32px;\n",
              "    }\n",
              "\n",
              "    .colab-df-convert:hover {\n",
              "      background-color: #E2EBFA;\n",
              "      box-shadow: 0px 1px 2px rgba(60, 64, 67, 0.3), 0px 1px 3px 1px rgba(60, 64, 67, 0.15);\n",
              "      fill: #174EA6;\n",
              "    }\n",
              "\n",
              "    [theme=dark] .colab-df-convert {\n",
              "      background-color: #3B4455;\n",
              "      fill: #D2E3FC;\n",
              "    }\n",
              "\n",
              "    [theme=dark] .colab-df-convert:hover {\n",
              "      background-color: #434B5C;\n",
              "      box-shadow: 0px 1px 3px 1px rgba(0, 0, 0, 0.15);\n",
              "      filter: drop-shadow(0px 1px 2px rgba(0, 0, 0, 0.3));\n",
              "      fill: #FFFFFF;\n",
              "    }\n",
              "  </style>\n",
              "\n",
              "      <script>\n",
              "        const buttonEl =\n",
              "          document.querySelector('#df-53a5d808-9b13-4826-b0a0-6dcdc1c9bf74 button.colab-df-convert');\n",
              "        buttonEl.style.display =\n",
              "          google.colab.kernel.accessAllowed ? 'block' : 'none';\n",
              "\n",
              "        async function convertToInteractive(key) {\n",
              "          const element = document.querySelector('#df-53a5d808-9b13-4826-b0a0-6dcdc1c9bf74');\n",
              "          const dataTable =\n",
              "            await google.colab.kernel.invokeFunction('convertToInteractive',\n",
              "                                                     [key], {});\n",
              "          if (!dataTable) return;\n",
              "\n",
              "          const docLinkHtml = 'Like what you see? Visit the ' +\n",
              "            '<a target=\"_blank\" href=https://colab.research.google.com/notebooks/data_table.ipynb>data table notebook</a>'\n",
              "            + ' to learn more about interactive tables.';\n",
              "          element.innerHTML = '';\n",
              "          dataTable['output_type'] = 'display_data';\n",
              "          await google.colab.output.renderOutput(dataTable, element);\n",
              "          const docLink = document.createElement('div');\n",
              "          docLink.innerHTML = docLinkHtml;\n",
              "          element.appendChild(docLink);\n",
              "        }\n",
              "      </script>\n",
              "    </div>\n",
              "  </div>\n",
              "  "
            ]
          },
          "metadata": {},
          "execution_count": 5
        }
      ]
    },
    {
      "cell_type": "code",
      "source": [
        "df.mode(numeric_only = False).loc[0] # мода"
      ],
      "metadata": {
        "colab": {
          "base_uri": "https://localhost:8080/"
        },
        "id": "YBm9x1UzO3Ma",
        "outputId": "9bf0ded9-c937-4d6a-9cec-b009fb0359c5"
      },
      "execution_count": null,
      "outputs": [
        {
          "output_type": "execute_result",
          "data": {
            "text/plain": [
              "satisfaction_level         0.1\n",
              "last_evaluation           0.55\n",
              "number_project             4.0\n",
              "average_montly_hours       135\n",
              "time_spend_company         3.0\n",
              "Work_accident              0.0\n",
              "left                       0.0\n",
              "promotion_last_5years      0.0\n",
              "department               sales\n",
              "salary                     low\n",
              "Name: 0, dtype: object"
            ]
          },
          "metadata": {},
          "execution_count": 6
        }
      ]
    },
    {
      "cell_type": "markdown",
      "source": [
        "**3. Рассчитайте и визуализируйте корреляционную матрицу для количественных переменных**"
      ],
      "metadata": {
        "id": "wXDXeZnll9Lm"
      }
    },
    {
      "cell_type": "code",
      "source": [
        "lst     = ['last_evaluation', 'number_project', 'average_montly_hours', 'time_spend_company']\n",
        "df_corr = df[lst].corr()\n",
        "\n",
        "sns.set(rc = {'figure.figsize':(9,5)})\n",
        "sns.heatmap(df_corr, cmap = 'YlOrBr', annot = True)\n",
        "plt.title('Корреляционная матрица для количественных переменных:\\n', weight = 'bold')\n",
        "plt.show()"
      ],
      "metadata": {
        "id": "ZTZeemn9VVtp",
        "colab": {
          "base_uri": "https://localhost:8080/",
          "height": 469
        },
        "outputId": "3de95dc8-f8de-4261-b4ca-9ae73a39cc80"
      },
      "execution_count": null,
      "outputs": [
        {
          "output_type": "display_data",
          "data": {
            "text/plain": [
              "<Figure size 648x360 with 2 Axes>"
            ],
            "image/png": "[encoded data removed]"
          },
          "metadata": {}
        }
      ]
    },
    {
      "cell_type": "markdown",
      "source": [
        "**Определите две самые скоррелированные и две наименее скоррелированные переменные**"
      ],
      "metadata": {
        "id": "2LPtY5RLmHwQ"
      }
    },
    {
      "cell_type": "code",
      "source": [
        "# Первый вариант:\n",
        "dct = {}\n",
        "for i, j in list(itertools.combinations(df_corr, 2)):\n",
        "    dct[round(df_corr.loc[i, j], 4)] = (i, j)\n",
        "\n",
        "dict_sorted = dict(sorted(dct.items(), key = lambda x: x[0]))\n",
        "dict_sorted"
      ],
      "metadata": {
        "id": "1IgtjupbonMJ",
        "colab": {
          "base_uri": "https://localhost:8080/"
        },
        "outputId": "70833f70-45b5-4209-ac7c-90082d64b240"
      },
      "execution_count": null,
      "outputs": [
        {
          "output_type": "execute_result",
          "data": {
            "text/plain": [
              "{0.1278: ('average_montly_hours', 'time_spend_company'),\n",
              " 0.1316: ('last_evaluation', 'time_spend_company'),\n",
              " 0.1968: ('number_project', 'time_spend_company'),\n",
              " 0.3397: ('last_evaluation', 'average_montly_hours'),\n",
              " 0.3493: ('last_evaluation', 'number_project'),\n",
              " 0.4172: ('number_project', 'average_montly_hours')}"
            ]
          },
          "metadata": {},
          "execution_count": 8
        }
      ]
    },
    {
      "cell_type": "code",
      "source": [
        "print('Ответ:')\n",
        "print(f'Две наименее скоррелированные переменные: {dict_sorted[min(dict_sorted.keys())]}')\n",
        "print(f'Две наиболее скоррелированные переменные: {dict_sorted[max(dict_sorted.keys())]}')"
      ],
      "metadata": {
        "id": "zJzVEqyYqA8a",
        "colab": {
          "base_uri": "https://localhost:8080/"
        },
        "outputId": "04df40ea-e74a-4630-d353-a923a5403712"
      },
      "execution_count": null,
      "outputs": [
        {
          "output_type": "stream",
          "name": "stdout",
          "text": [
            "Ответ:\n",
            "Две наименее скоррелированные переменные: ('average_montly_hours', 'time_spend_company')\n",
            "Две наиболее скоррелированные переменные: ('number_project', 'average_montly_hours')\n"
          ]
        }
      ]
    },
    {
      "cell_type": "code",
      "source": [
        "# Второй вариант:\n",
        "list_ = list(itertools.combinations(df_corr, 2))\n",
        "\n",
        "df_   = pd.DataFrame({'corr':      [df_corr.loc[i, j] for i, j in list_], \n",
        "                      'variables': [(i,j) for i, j in list_]})\n",
        "df_   = df_.sort_values(['corr'])\n",
        "df_"
      ],
      "metadata": {
        "colab": {
          "base_uri": "https://localhost:8080/",
          "height": 237
        },
        "id": "fl3TtF4e_1kW",
        "outputId": "1ae491e1-e164-4ed2-a2a2-ec6067967b66"
      },
      "execution_count": null,
      "outputs": [
        {
          "output_type": "execute_result",
          "data": {
            "text/plain": [
              "       corr                                   variables\n",
              "5  0.127755  (average_montly_hours, time_spend_company)\n",
              "2  0.131591       (last_evaluation, time_spend_company)\n",
              "4  0.196786        (number_project, time_spend_company)\n",
              "1  0.339742     (last_evaluation, average_montly_hours)\n",
              "0  0.349333           (last_evaluation, number_project)\n",
              "3  0.417211      (number_project, average_montly_hours)"
            ],
            "text/html": [
              "\n",
              "  <div id=\"df-71eae52b-2276-4fcc-9cfd-d702e6c12f63\">\n",
              "    <div class=\"colab-df-container\">\n",
              "      <div>\n",
              "<style scoped>\n",
              "    .dataframe tbody tr th:only-of-type {\n",
              "        vertical-align: middle;\n",
              "    }\n",
              "\n",
              "    .dataframe tbody tr th {\n",
              "        vertical-align: top;\n",
              "    }\n",
              "\n",
              "    .dataframe thead th {\n",
              "        text-align: right;\n",
              "    }\n",
              "</style>\n",
              "<table border=\"1\" class=\"dataframe\">\n",
              "  <thead>\n",
              "    <tr style=\"text-align: right;\">\n",
              "      <th></th>\n",
              "      <th>corr</th>\n",
              "      <th>variables</th>\n",
              "    </tr>\n",
              "  </thead>\n",
              "  <tbody>\n",
              "    <tr>\n",
              "      <th>5</th>\n",
              "      <td>0.127755</td>\n",
              "      <td>(average_montly_hours, time_spend_company)</td>\n",
              "    </tr>\n",
              "    <tr>\n",
              "      <th>2</th>\n",
              "      <td>0.131591</td>\n",
              "      <td>(last_evaluation, time_spend_company)</td>\n",
              "    </tr>\n",
              "    <tr>\n",
              "      <th>4</th>\n",
              "      <td>0.196786</td>\n",
              "      <td>(number_project, time_spend_company)</td>\n",
              "    </tr>\n",
              "    <tr>\n",
              "      <th>1</th>\n",
              "      <td>0.339742</td>\n",
              "      <td>(last_evaluation, average_montly_hours)</td>\n",
              "    </tr>\n",
              "    <tr>\n",
              "      <th>0</th>\n",
              "      <td>0.349333</td>\n",
              "      <td>(last_evaluation, number_project)</td>\n",
              "    </tr>\n",
              "    <tr>\n",
              "      <th>3</th>\n",
              "      <td>0.417211</td>\n",
              "      <td>(number_project, average_montly_hours)</td>\n",
              "    </tr>\n",
              "  </tbody>\n",
              "</table>\n",
              "</div>\n",
              "      <button class=\"colab-df-convert\" onclick=\"convertToInteractive('df-71eae52b-2276-4fcc-9cfd-d702e6c12f63')\"\n",
              "              title=\"Convert this dataframe to an interactive table.\"\n",
              "              style=\"display:none;\">\n",
              "        \n",
              "  <svg xmlns=\"http://www.w3.org/2000/svg\" height=\"24px\"viewBox=\"0 0 24 24\"\n",
              "       width=\"24px\">\n",
              "    <path d=\"M0 0h24v24H0V0z\" fill=\"none\"/>\n",
              "    <path d=\"M18.56 5.44l.94 2.06.94-2.06 2.06-.94-2.06-.94-.94-2.06-.94 2.06-2.06.94zm-11 1L8.5 8.5l.94-2.06 2.06-.94-2.06-.94L8.5 2.5l-.94 2.06-2.06.94zm10 10l.94 2.06.94-2.06 2.06-.94-2.06-.94-.94-2.06-.94 2.06-2.06.94z\"/><path d=\"M17.41 7.96l-1.37-1.37c-.4-.4-.92-.59-1.43-.59-.52 0-1.04.2-1.43.59L10.3 9.45l-7.72 7.72c-.78.78-.78 2.05 0 2.83L4 21.41c.39.39.9.59 1.41.59.51 0 1.02-.2 1.41-.59l7.78-7.78 2.81-2.81c.8-.78.8-2.07 0-2.86zM5.41 20L4 18.59l7.72-7.72 1.47 1.35L5.41 20z\"/>\n",
              "  </svg>\n",
              "      </button>\n",
              "      \n",
              "  <style>\n",
              "    .colab-df-container {\n",
              "      display:flex;\n",
              "      flex-wrap:wrap;\n",
              "      gap: 12px;\n",
              "    }\n",
              "\n",
              "    .colab-df-convert {\n",
              "      background-color: #E8F0FE;\n",
              "      border: none;\n",
              "      border-radius: 50%;\n",
              "      cursor: pointer;\n",
              "      display: none;\n",
              "      fill: #1967D2;\n",
              "      height: 32px;\n",
              "      padding: 0 0 0 0;\n",
              "      width: 32px;\n",
              "    }\n",
              "\n",
              "    .colab-df-convert:hover {\n",
              "      background-color: #E2EBFA;\n",
              "      box-shadow: 0px 1px 2px rgba(60, 64, 67, 0.3), 0px 1px 3px 1px rgba(60, 64, 67, 0.15);\n",
              "      fill: #174EA6;\n",
              "    }\n",
              "\n",
              "    [theme=dark] .colab-df-convert {\n",
              "      background-color: #3B4455;\n",
              "      fill: #D2E3FC;\n",
              "    }\n",
              "\n",
              "    [theme=dark] .colab-df-convert:hover {\n",
              "      background-color: #434B5C;\n",
              "      box-shadow: 0px 1px 3px 1px rgba(0, 0, 0, 0.15);\n",
              "      filter: drop-shadow(0px 1px 2px rgba(0, 0, 0, 0.3));\n",
              "      fill: #FFFFFF;\n",
              "    }\n",
              "  </style>\n",
              "\n",
              "      <script>\n",
              "        const buttonEl =\n",
              "          document.querySelector('#df-71eae52b-2276-4fcc-9cfd-d702e6c12f63 button.colab-df-convert');\n",
              "        buttonEl.style.display =\n",
              "          google.colab.kernel.accessAllowed ? 'block' : 'none';\n",
              "\n",
              "        async function convertToInteractive(key) {\n",
              "          const element = document.querySelector('#df-71eae52b-2276-4fcc-9cfd-d702e6c12f63');\n",
              "          const dataTable =\n",
              "            await google.colab.kernel.invokeFunction('convertToInteractive',\n",
              "                                                     [key], {});\n",
              "          if (!dataTable) return;\n",
              "\n",
              "          const docLinkHtml = 'Like what you see? Visit the ' +\n",
              "            '<a target=\"_blank\" href=https://colab.research.google.com/notebooks/data_table.ipynb>data table notebook</a>'\n",
              "            + ' to learn more about interactive tables.';\n",
              "          element.innerHTML = '';\n",
              "          dataTable['output_type'] = 'display_data';\n",
              "          await google.colab.output.renderOutput(dataTable, element);\n",
              "          const docLink = document.createElement('div');\n",
              "          docLink.innerHTML = docLinkHtml;\n",
              "          element.appendChild(docLink);\n",
              "        }\n",
              "      </script>\n",
              "    </div>\n",
              "  </div>\n",
              "  "
            ]
          },
          "metadata": {},
          "execution_count": 10
        }
      ]
    },
    {
      "cell_type": "code",
      "source": [
        "print('Ответ:')\n",
        "print(f'Две наименее скоррелированные переменные: {df_.variables.loc[5]}')\n",
        "print(f'Две наиболее скоррелированные переменные: {df_.variables.loc[3]}')\n"
      ],
      "metadata": {
        "colab": {
          "base_uri": "https://localhost:8080/"
        },
        "id": "4lMNh5gds2Fv",
        "outputId": "d12e3f4f-f0f9-488a-bbc2-ff5fa11a5add"
      },
      "execution_count": null,
      "outputs": [
        {
          "output_type": "stream",
          "name": "stdout",
          "text": [
            "Ответ:\n",
            "Две наименее скоррелированные переменные: ('average_montly_hours', 'time_spend_company')\n",
            "Две наиболее скоррелированные переменные: ('number_project', 'average_montly_hours')\n"
          ]
        }
      ]
    },
    {
      "cell_type": "code",
      "source": [
        ""
      ],
      "metadata": {
        "id": "VfAQOHZpILMO"
      },
      "execution_count": null,
      "outputs": []
    },
    {
      "cell_type": "markdown",
      "source": [
        "**4. Рассчитайте сколько сотрудников работает в каждом департаменте**"
      ],
      "metadata": {
        "id": "vuI1UHKumPNM"
      }
    },
    {
      "cell_type": "code",
      "source": [
        "df.department.value_counts()"
      ],
      "metadata": {
        "colab": {
          "base_uri": "https://localhost:8080/"
        },
        "id": "P7sIL9IiVeym",
        "outputId": "84f05b4f-f0c2-430e-9aac-7efcb7d84691"
      },
      "execution_count": null,
      "outputs": [
        {
          "output_type": "execute_result",
          "data": {
            "text/plain": [
              "sales          4140\n",
              "technical      2720\n",
              "support        2229\n",
              "IT             1227\n",
              "product_mng     902\n",
              "marketing       858\n",
              "RandD           787\n",
              "accounting      767\n",
              "hr              739\n",
              "management      630\n",
              "Name: department, dtype: int64"
            ]
          },
          "metadata": {},
          "execution_count": 12
        }
      ]
    },
    {
      "cell_type": "markdown",
      "source": [
        "**5. Показать распределение сотрудников по зарплатам**"
      ],
      "metadata": {
        "id": "A4Z8Sm6MmTG6"
      }
    },
    {
      "cell_type": "code",
      "source": [
        "df.salary.value_counts()"
      ],
      "metadata": {
        "colab": {
          "base_uri": "https://localhost:8080/"
        },
        "id": "Q0tSyOYHWT4X",
        "outputId": "48448b97-cb64-4cea-9274-f2d9d0ef05c2"
      },
      "execution_count": null,
      "outputs": [
        {
          "output_type": "execute_result",
          "data": {
            "text/plain": [
              "low       7316\n",
              "medium    6446\n",
              "high      1237\n",
              "Name: salary, dtype: int64"
            ]
          },
          "metadata": {},
          "execution_count": 13
        }
      ]
    },
    {
      "cell_type": "code",
      "source": [
        "# визуализируем\n",
        "sns.set(rc = {'figure.figsize':(5,3)})\n",
        "df.salary.value_counts().plot(kind = 'bar', color = ['blue', 'green', 'red'], stacked = True)\n",
        "plt.title('Распределение сотрудников по зарплатам', weight = 'bold')\n",
        "plt.ylabel('Число сотрудников', weight = 'bold')\n",
        "plt.show()"
      ],
      "metadata": {
        "colab": {
          "base_uri": "https://localhost:8080/",
          "height": 265
        },
        "id": "gStobpCnrff1",
        "outputId": "32f41232-8e1c-4238-d302-03a253045688"
      },
      "execution_count": null,
      "outputs": [
        {
          "output_type": "display_data",
          "data": {
            "text/plain": [
              "<Figure size 360x216 with 1 Axes>"
            ],
            "image/png": "[encoded data removed]"
          },
          "metadata": {}
        }
      ]
    },
    {
      "cell_type": "markdown",
      "source": [
        "**6. Показать распределение сотрудников по зарплатам в каждом департаменте по отдельности**"
      ],
      "metadata": {
        "id": "rKMMhYsrmarQ"
      }
    },
    {
      "cell_type": "code",
      "source": [
        "df_salary = df.groupby('department')['salary'].value_counts()\n",
        "df_salary"
      ],
      "metadata": {
        "colab": {
          "base_uri": "https://localhost:8080/"
        },
        "id": "ClTjxfGIWlaR",
        "outputId": "bd719b80-2d88-4aaa-eda5-a0aab20ed25e"
      },
      "execution_count": null,
      "outputs": [
        {
          "output_type": "execute_result",
          "data": {
            "text/plain": [
              "department   salary\n",
              "IT           low        609\n",
              "             medium     535\n",
              "             high        83\n",
              "RandD        medium     372\n",
              "             low        364\n",
              "             high        51\n",
              "accounting   low        358\n",
              "             medium     335\n",
              "             high        74\n",
              "hr           medium     359\n",
              "             low        335\n",
              "             high        45\n",
              "management   high       225\n",
              "             medium     225\n",
              "             low        180\n",
              "marketing    low        402\n",
              "             medium     376\n",
              "             high        80\n",
              "product_mng  low        451\n",
              "             medium     383\n",
              "             high        68\n",
              "sales        low       2099\n",
              "             medium    1772\n",
              "             high       269\n",
              "support      low       1146\n",
              "             medium     942\n",
              "             high       141\n",
              "technical    low       1372\n",
              "             medium    1147\n",
              "             high       201\n",
              "Name: salary, dtype: int64"
            ]
          },
          "metadata": {},
          "execution_count": 15
        }
      ]
    },
    {
      "cell_type": "code",
      "source": [
        "# визуализируем\n",
        "sns.set(rc = {'figure.figsize':(10,5)})\n",
        "df_salary.unstack().plot(kind = 'bar', color = ['red', 'blue', 'green'], stacked = False)\n",
        "plt.title('Распределение сотрудников по зарплатам в каждом департаменте', weight = 'bold')\n",
        "plt.xlabel('Департамент', weight = 'bold')\n",
        "plt.ylabel('Число сотрудников', weight = 'bold')\n",
        "plt.show()"
      ],
      "metadata": {
        "colab": {
          "base_uri": "https://localhost:8080/",
          "height": 419
        },
        "id": "Mi504k3NgUms",
        "outputId": "68447f69-a62e-4d75-f973-f3042778ef87"
      },
      "execution_count": null,
      "outputs": [
        {
          "output_type": "display_data",
          "data": {
            "text/plain": [
              "<Figure size 720x360 with 1 Axes>"
            ],
            "image/png": "[encoded data removed]"
          },
          "metadata": {}
        }
      ]
    },
    {
      "cell_type": "code",
      "source": [
        ""
      ],
      "metadata": {
        "id": "xwDv6_q2iKMz"
      },
      "execution_count": null,
      "outputs": []
    },
    {
      "cell_type": "markdown",
      "source": [
        "**7. Проверить гипотезу, что сотрудники с ВЫСОКИМ окладом проводят на работе БОЛЬШЕ времени, чем сотрудники с низким окладом**"
      ],
      "metadata": {
        "id": "lsvc-2QemgEx"
      }
    },
    {
      "cell_type": "code",
      "source": [
        "df_high = df.loc[df.salary == 'high'].average_montly_hours\n",
        "df_low  = df.loc[df.salary == 'low'].average_montly_hours\n",
        "\n",
        "# проверим сначала, есть ли выбросы\n",
        "plt.figure(figsize = (12, 5))\n",
        "plt.subplot(221)\n",
        "sns.boxplot(df_high)\n",
        "\n",
        "plt.subplot(222)\n",
        "sns.boxplot(df_low)\n",
        "plt.show()\n",
        "# выбросов нет!"
      ],
      "metadata": {
        "id": "PdzyZGiKXP9h",
        "colab": {
          "base_uri": "https://localhost:8080/",
          "height": 280
        },
        "outputId": "f5d47f2e-586a-4364-9f1e-393ea6dfce10"
      },
      "execution_count": null,
      "outputs": [
        {
          "output_type": "stream",
          "name": "stderr",
          "text": [
            "/usr/local/lib/python3.7/dist-packages/seaborn/_decorators.py:43: FutureWarning: Pass the following variable as a keyword arg: x. From version 0.12, the only valid positional argument will be `data`, and passing other arguments without an explicit keyword will result in an error or misinterpretation.\n",
            "  FutureWarning\n",
            "/usr/local/lib/python3.7/dist-packages/seaborn/_decorators.py:43: FutureWarning: Pass the following variable as a keyword arg: x. From version 0.12, the only valid positional argument will be `data`, and passing other arguments without an explicit keyword will result in an error or misinterpretation.\n",
            "  FutureWarning\n"
          ]
        },
        {
          "output_type": "display_data",
          "data": {
            "text/plain": [
              "<Figure size 864x360 with 2 Axes>"
            ],
            "image/png": "[encoded data removed]"
          },
          "metadata": {}
        }
      ]
    },
    {
      "cell_type": "markdown",
      "source": [
        "**H0:** сотрудники с высоким окладом проводят на работе **столько же** в среднем часов, сколько и сотрудники с низким окладом.\n",
        "\n",
        "**H1:** сотрудники с **разным** окладом проводят в среднем **разное** количество часов на работе."
      ],
      "metadata": {
        "id": "97M5PO-0tioa"
      }
    },
    {
      "cell_type": "code",
      "source": [
        "result = st.ttest_ind(df_high, df_low, equal_var = False)\n",
        "print(f'pvalue: {round(result.pvalue, 2)}')\n",
        "\n",
        "if (result.pvalue < 0.05):\n",
        "    # отвергаем нулевую гипотезу:\n",
        "    print('\\nВывод: Cотрудники с НИЗКИМ и ВЫСОКИМ окладом в среднем проводят на работе РАЗНОЕ количество часов в месяц.')  \n",
        "\n",
        "    # НЕ отвергаем нулевую гипотезу:\n",
        "else:\n",
        "    print('\\nВывод: Cотрудники с НИЗКИМ и ВЫСОКИМ окладом в среднем проводят на работе ОДИНАКОВОЕ количество часов в месяц.') \n",
        "\n",
        "print('\\nСреднее количество часов сотрудников на рабочем месте в месяц:')\n",
        "print(f'- с высоким окладом: {int(df_high.mean())}')\n",
        "print(f'- с низким  окладом: {int(df_low.mean())}')"
      ],
      "metadata": {
        "colab": {
          "base_uri": "https://localhost:8080/"
        },
        "id": "_HvsbKXrtAWG",
        "outputId": "befb0b4f-f04a-44a0-9730-d11f0b203368"
      },
      "execution_count": null,
      "outputs": [
        {
          "output_type": "stream",
          "name": "stdout",
          "text": [
            "pvalue: 0.45\n",
            "\n",
            "Вывод: Cотрудники с НИЗКИМ и ВЫСОКИМ окладом в среднем проводят на работе ОДИНАКОВОЕ количество часов в месяц.\n",
            "\n",
            "Среднее количество часов сотрудников на рабочем месте в месяц:\n",
            "- с высоким окладом: 199\n",
            "- с низким  окладом: 200\n"
          ]
        }
      ]
    },
    {
      "cell_type": "code",
      "source": [
        ""
      ],
      "metadata": {
        "id": "B7rY-MMcm3cn"
      },
      "execution_count": null,
      "outputs": []
    },
    {
      "cell_type": "markdown",
      "source": [
        "**8. Рассчитать следующие показатели среди уволившихся и не уволившихся сотрудников (по отдельности):**\n",
        "* Доля сотрудников с повышением за последние 5 лет\n",
        "* Средняя степень удовлетворенности\n",
        "* Среднее количество проектов\n",
        "\n",
        "\n"
      ],
      "metadata": {
        "id": "oTaAdHy3mpyR"
      }
    },
    {
      "cell_type": "code",
      "source": [
        "print('Уволившиеся сотрудники:\\n')\n",
        "df_fired_prom = df.loc[(df.left == True) & (df.promotion_last_5years == True)]\n",
        "print(f'Доля уволившихся сотрудников \\nс повышением за последние 5 лет:   {round(100 * len(df_fired_prom) / len(df), 1)}%')\n",
        "print(f'Средняя степень удовлетворенности: {round(df[df.left == True].satisfaction_level.mean(), 1)}')\n",
        "print(f'Среднее количество проектов:       {int(df[df.left == True].number_project.mean())}')\n",
        "\n",
        "print('\\n\\nНеуволившиеся сотрудники:\\n')\n",
        "df_notfired_prom = df.loc[(df.left == False) & (df.promotion_last_5years == True)]\n",
        "print(f'Доля неуволившихся сотрудников \\nс повышением за последние 5 лет:   {round(100 * len(df_notfired_prom) / len(df), 1)}%')\n",
        "print(f'Средняя степень удовлетворенности: {round(df[df.left == False].satisfaction_level.mean(), 1)}')\n",
        "print(f'Среднее количество проектов:       {int(df[df.left == False].number_project.mean())}')"
      ],
      "metadata": {
        "colab": {
          "base_uri": "https://localhost:8080/"
        },
        "id": "b8T9FBmm0Lc4",
        "outputId": "613456ac-1fc1-43b3-be23-32e7fa4db087"
      },
      "execution_count": null,
      "outputs": [
        {
          "output_type": "stream",
          "name": "stdout",
          "text": [
            "Уволившиеся сотрудники:\n",
            "\n",
            "Доля уволившихся сотрудников \n",
            "с повышением за последние 5 лет:   0.1%\n",
            "Средняя степень удовлетворенности: 0.4\n",
            "Среднее количество проектов:       3\n",
            "\n",
            "\n",
            "Неуволившиеся сотрудники:\n",
            "\n",
            "Доля неуволившихся сотрудников \n",
            "с повышением за последние 5 лет:   2.0%\n",
            "Средняя степень удовлетворенности: 0.7\n",
            "Среднее количество проектов:       3\n"
          ]
        }
      ]
    },
    {
      "cell_type": "code",
      "source": [
        ""
      ],
      "metadata": {
        "id": "lyfSusdg4YJH"
      },
      "execution_count": null,
      "outputs": []
    },
    {
      "cell_type": "markdown",
      "source": [
        "**9. Разделить данные на тестовую и обучающую выборки.**\n",
        "* Построить модель LDA, предсказывающую уволился ли сотрудник на основе имеющихся факторов (кроме department и salary).\n",
        "* Оценить качество модели на тестовой выборкe."
      ],
      "metadata": {
        "id": "E4uqZeevm9IJ"
      }
    },
    {
      "cell_type": "code",
      "source": [
        "# столбец df.left - категориальный, поэтому применяем линейный дискриминантный анализ (ЛДА)\n",
        "lda = LinearDiscriminantAnalysis() # инициализация модели ЛДА\n",
        "\n",
        "# разделяем выборку на тренировочную и тестовую:\n",
        "names = ['satisfaction_level', 'last_evaluation', 'number_project', 'average_montly_hours', 'time_spend_company', 'Work_accident', 'promotion_last_5years']\n",
        "data = df[names]\n",
        "\n",
        "X_train, X_test, y_train, y_test = train_test_split(data, df.left, test_size = 0.3, random_state = 42)\n",
        "\n",
        "lda.fit(X_train, y_train)       # обучаем данные\n",
        "y_predict = lda.predict(X_test) # делаем прогноз на тестовой выборке\n",
        "\n",
        "# Проверка работы модели LDA:\n",
        "print(f'Модель дает {round(accuracy_score(y_test, y_predict), 3) * 100} % правильно спрогнозированных выборок среди всех тестовых.')\n",
        "\n",
        "print('\\nПодробные результаты работы LDA модели, предсказывающей уволился ли сотрудник:') \n",
        "print('LDA confusion matrix:\\n')\n",
        "LDA_result = confusion_matrix(y_test, y_predict)\n",
        "display(LDA_result)\n",
        "\n",
        "print(f'\\nЧисло строк датафрейма с неверными предсказаниями для LDA модели: {LDA_result[0][1] + LDA_result[1][0]}.')"
      ],
      "metadata": {
        "id": "_jxERvYr6ncQ",
        "colab": {
          "base_uri": "https://localhost:8080/",
          "height": 173
        },
        "outputId": "f81f485f-f69c-41c4-fd4c-b057cc718321"
      },
      "execution_count": null,
      "outputs": [
        {
          "output_type": "stream",
          "name": "stdout",
          "text": [
            "Модель дает 75.6 % правильно спрогнозированных выборок среди всех тестовых.\n",
            "\n",
            "Подробные результаты работы LDA модели, предсказывающей уволился ли сотрудник:\n",
            "LDA confusion matrix:\n",
            "\n"
          ]
        },
        {
          "output_type": "display_data",
          "data": {
            "text/plain": [
              "array([[3138,  290],\n",
              "       [ 809,  263]])"
            ]
          },
          "metadata": {}
        },
        {
          "output_type": "stream",
          "name": "stdout",
          "text": [
            "\n",
            "Число строк датафрейма с неверными предсказаниями для LDA модели: 1099.\n"
          ]
        }
      ]
    },
    {
      "cell_type": "markdown",
      "source": [
        "**Расшифровка матрицы ошибок:**"
      ],
      "metadata": {
        "id": "BdPSaRFC-x0q"
      }
    },
    {
      "cell_type": "code",
      "source": [
        "true_negatives, false_positives, false_negatives, true_positives = confusion_matrix(y_test, y_predict).ravel()\n",
        "\n",
        "print(f'Истино-отрицательное предсказание: {true_negatives}')\n",
        "print(f'- модель верно предсказала, что {LDA_result[0][0]} сотрудников действительно уволилось.\\n')\n",
        "\n",
        "print(f'Ложно-положительное предсказание:  {false_positives}')\n",
        "print(f'- модель ошибочно предсказала, что {LDA_result[0][1]} сотрудников осталось на работе. На самом деле они уволились.\\n')\n",
        "\n",
        "print(f'Ложно-отрицательное предсказание:  {false_negatives}')\n",
        "print(f'- модель ошибочно предсказала, что {LDA_result[1][0]} сотрудников уволилось с работы. А на самом деле они остались на работе.\\n')\n",
        "\n",
        "print(f'Истино-положительное предсказание: {true_positives}')\n",
        "print(f'- модель верно предсказала, что {LDA_result[1][1]} сотрудников действительно не уволилось.')"
      ],
      "metadata": {
        "colab": {
          "base_uri": "https://localhost:8080/"
        },
        "id": "2MZXXYjJ9Rqe",
        "outputId": "72401176-6b3e-40e5-f545-6a0091e0d0c2"
      },
      "execution_count": null,
      "outputs": [
        {
          "output_type": "stream",
          "name": "stdout",
          "text": [
            "Истино-отрицательное предсказание: 3138\n",
            "- модель верно предсказала, что 3138 сотрудников действительно уволилось.\n",
            "\n",
            "Ложно-положительное предсказание:  290\n",
            "- модель ошибочно предсказала, что 290 сотрудников осталось на работе. На самом деле они уволились.\n",
            "\n",
            "Ложно-отрицательное предсказание:  809\n",
            "- модель ошибочно предсказала, что 809 сотрудников уволилось с работы. А на самом деле они остались на работе.\n",
            "\n",
            "Истино-положительное предсказание: 263\n",
            "- модель верно предсказала, что 263 сотрудников действительно не уволилось.\n"
          ]
        }
      ]
    },
    {
      "cell_type": "code",
      "source": [
        "# коэффициенты дискриминатных линий для двух классов по 7 признаков в каждом\n",
        "lda.coef_"
      ],
      "metadata": {
        "colab": {
          "base_uri": "https://localhost:8080/"
        },
        "id": "5IV10MZbkuTp",
        "outputId": "98e55fe9-b242-429b-c425-82d1afdcf0ac"
      },
      "execution_count": null,
      "outputs": [
        {
          "output_type": "execute_result",
          "data": {
            "text/plain": [
              "array([[-4.57738626e+00,  6.13822647e-01, -2.10613368e-01,\n",
              "         4.55442333e-03,  2.21314862e-01, -1.05033789e+00,\n",
              "        -1.08559074e+00]])"
            ]
          },
          "metadata": {},
          "execution_count": 22
        }
      ]
    },
    {
      "cell_type": "code",
      "source": [
        "print(f'Признак № {np.argmin(np.abs(lda.coef_[0])) + 1} наименее значим.')\n",
        "print(f'Признак № {np.argmax(np.abs(lda.coef_[0])) + 1} наиболее значим.')"
      ],
      "metadata": {
        "colab": {
          "base_uri": "https://localhost:8080/"
        },
        "id": "9x7mZvaOsj_6",
        "outputId": "fb140aee-2700-4af2-df9e-2ba2f914eb49"
      },
      "execution_count": null,
      "outputs": [
        {
          "output_type": "stream",
          "name": "stdout",
          "text": [
            "Признак № 4 наименее значим.\n",
            "Признак № 1 наиболее значим.\n"
          ]
        }
      ]
    },
    {
      "cell_type": "code",
      "source": [
        "# Признак № 4 - average_montly_hours (Среднее количество часов на рабочем месте в месяц)\n",
        "plt.figure(figsize = (15, 10))\n",
        "plt.subplot(221)\n",
        "plt.scatter(df.left, df.average_montly_hours, s = 4, c = 'green')\n",
        "plt.xlabel('уволился (1) или нет (0) сотрудник', weight = 'bold')\n",
        "plt.ylabel('average_montly_hours', weight = 'bold')\n",
        "# Видим, что уволившиеся сотрудники на работе проводили БОЛЬШЕ времени, чем действующие работники.\n",
        "# Сотрудники, которые не уволились, в месяц проводили наименьшее количество часов.\n",
        "\n",
        "# Признак № 1 - satisfaction_level (уровень удовлетворенности работой)\n",
        "plt.subplot(222)\n",
        "plt.scatter(x = df.left, y = df.satisfaction_level, s = 4, c = 'green')\n",
        "plt.xlabel('уволился (1) или нет (0) сотрудник', weight = 'bold')\n",
        "plt.ylabel('satisfaction_level', weight = 'bold')\n",
        "plt.show()\n",
        "# Видим, что уровень удовлетворенности работой ВЫШЕ у неуволившихся сотрудников.\n",
        "# Уволившиеся же сотрудники при этом обладают самым низким уровнем удовлетворенности работой."
      ],
      "metadata": {
        "colab": {
          "base_uri": "https://localhost:8080/",
          "height": 314
        },
        "id": "SBbxbWmoGqTw",
        "outputId": "ccbee957-dfe9-4972-eea6-3a686fdec7cc"
      },
      "execution_count": null,
      "outputs": [
        {
          "output_type": "display_data",
          "data": {
            "text/plain": [
              "<Figure size 1080x720 with 2 Axes>"
            ],
            "image/png": "[encoded data removed]"
          },
          "metadata": {}
        }
      ]
    },
    {
      "cell_type": "markdown",
      "source": [
        "**Улучшим показатели модели:**"
      ],
      "metadata": {
        "id": "gAvlDrgxEfhK"
      }
    },
    {
      "cell_type": "code",
      "source": [
        "rfc = RandomForestClassifier(n_estimators = 800, n_jobs = -1, random_state = 42)\n",
        "rfc.fit(X_train, y_train)\n",
        "y_predict_rfc = rfc.predict(X_test)\n",
        "\n",
        "# recall_score - для минимизации ложноотрицательных прогнозов:\n",
        "print('Результаты работы LDA и RFC моделей:')\n",
        "print(f'LinearDiscriminantAnalysis: {round(recall_score(y_test, y_predict),3)}')\n",
        "print(f'RandomForestClassifier:     {round(recall_score(y_test, y_predict_rfc),3)}')"
      ],
      "metadata": {
        "colab": {
          "base_uri": "https://localhost:8080/"
        },
        "id": "3OSz6VJm8Tlc",
        "outputId": "ee98867f-2b01-4b67-84a0-f087850c3275"
      },
      "execution_count": null,
      "outputs": [
        {
          "output_type": "stream",
          "name": "stdout",
          "text": [
            "Результаты работы LDA и RFC моделей:\n",
            "LinearDiscriminantAnalysis: 0.245\n",
            "RandomForestClassifier:     0.956\n"
          ]
        }
      ]
    },
    {
      "cell_type": "code",
      "source": [
        "RFC_matrix = confusion_matrix(y_test, y_predict_rfc)\n",
        "print('RandomForestClassifier confusion matrix:')\n",
        "display(RFC_matrix)"
      ],
      "metadata": {
        "colab": {
          "base_uri": "https://localhost:8080/",
          "height": 69
        },
        "id": "rkBM5U-0IKkT",
        "outputId": "6b91a8e8-ffbb-4dc2-a31f-72d31b81b64b"
      },
      "execution_count": null,
      "outputs": [
        {
          "output_type": "stream",
          "name": "stdout",
          "text": [
            "RandomForestClassifier confusion matrix:\n"
          ]
        },
        {
          "output_type": "display_data",
          "data": {
            "text/plain": [
              "array([[3421,    7],\n",
              "       [  47, 1025]])"
            ]
          },
          "metadata": {}
        }
      ]
    },
    {
      "cell_type": "markdown",
      "source": [
        "**Датафрейм с НЕправильными предсказаниями об увольнении сотрудников для RandomForestClassifier модели:**"
      ],
      "metadata": {
        "id": "uL7hLpM0C2vC"
      }
    },
    {
      "cell_type": "code",
      "source": [
        "df_res = pd.DataFrame({'Fact': y_test, 'Predict_RFC': y_predict_rfc})\n",
        "df_res = df_res.loc[df_res.Fact != df_res.Predict_RFC]\n",
        "df_res = df_res.join(df[['satisfaction_level', 'time_spend_company', 'number_project']]).sort_values('satisfaction_level', ascending = False)\n",
        "display(df_res.head())\n",
        "\n",
        "print(f'\\nЧисло строк датафрейма с неверными предсказаниями для RandomForestClassifier: {RFC_matrix[0][1] + RFC_matrix[1][0]}.')"
      ],
      "metadata": {
        "colab": {
          "base_uri": "https://localhost:8080/",
          "height": 241
        },
        "id": "VS9HCMPF9Bda",
        "outputId": "2604a847-b676-487a-b97b-6cf64e88bb56"
      },
      "execution_count": null,
      "outputs": [
        {
          "output_type": "display_data",
          "data": {
            "text/plain": [
              "       Fact  Predict_RFC  satisfaction_level  time_spend_company  \\\n",
              "1071      1            0                0.90                   3   \n",
              "7077      0            1                0.90                   6   \n",
              "1606      1            0                0.89                   5   \n",
              "683       1            0                0.86                   5   \n",
              "12683     1            0                0.86                   5   \n",
              "\n",
              "       number_project  \n",
              "1071                5  \n",
              "7077                4  \n",
              "1606                3  \n",
              "683                 3  \n",
              "12683               3  "
            ],
            "text/html": [
              "\n",
              "  <div id=\"df-5f26497a-a377-447d-ba9c-b1cb80a02b16\">\n",
              "    <div class=\"colab-df-container\">\n",
              "      <div>\n",
              "<style scoped>\n",
              "    .dataframe tbody tr th:only-of-type {\n",
              "        vertical-align: middle;\n",
              "    }\n",
              "\n",
              "    .dataframe tbody tr th {\n",
              "        vertical-align: top;\n",
              "    }\n",
              "\n",
              "    .dataframe thead th {\n",
              "        text-align: right;\n",
              "    }\n",
              "</style>\n",
              "<table border=\"1\" class=\"dataframe\">\n",
              "  <thead>\n",
              "    <tr style=\"text-align: right;\">\n",
              "      <th></th>\n",
              "      <th>Fact</th>\n",
              "      <th>Predict_RFC</th>\n",
              "      <th>satisfaction_level</th>\n",
              "      <th>time_spend_company</th>\n",
              "      <th>number_project</th>\n",
              "    </tr>\n",
              "  </thead>\n",
              "  <tbody>\n",
              "    <tr>\n",
              "      <th>1071</th>\n",
              "      <td>1</td>\n",
              "      <td>0</td>\n",
              "      <td>0.90</td>\n",
              "      <td>3</td>\n",
              "      <td>5</td>\n",
              "    </tr>\n",
              "    <tr>\n",
              "      <th>7077</th>\n",
              "      <td>0</td>\n",
              "      <td>1</td>\n",
              "      <td>0.90</td>\n",
              "      <td>6</td>\n",
              "      <td>4</td>\n",
              "    </tr>\n",
              "    <tr>\n",
              "      <th>1606</th>\n",
              "      <td>1</td>\n",
              "      <td>0</td>\n",
              "      <td>0.89</td>\n",
              "      <td>5</td>\n",
              "      <td>3</td>\n",
              "    </tr>\n",
              "    <tr>\n",
              "      <th>683</th>\n",
              "      <td>1</td>\n",
              "      <td>0</td>\n",
              "      <td>0.86</td>\n",
              "      <td>5</td>\n",
              "      <td>3</td>\n",
              "    </tr>\n",
              "    <tr>\n",
              "      <th>12683</th>\n",
              "      <td>1</td>\n",
              "      <td>0</td>\n",
              "      <td>0.86</td>\n",
              "      <td>5</td>\n",
              "      <td>3</td>\n",
              "    </tr>\n",
              "  </tbody>\n",
              "</table>\n",
              "</div>\n",
              "      <button class=\"colab-df-convert\" onclick=\"convertToInteractive('df-5f26497a-a377-447d-ba9c-b1cb80a02b16')\"\n",
              "              title=\"Convert this dataframe to an interactive table.\"\n",
              "              style=\"display:none;\">\n",
              "        \n",
              "  <svg xmlns=\"http://www.w3.org/2000/svg\" height=\"24px\"viewBox=\"0 0 24 24\"\n",
              "       width=\"24px\">\n",
              "    <path d=\"M0 0h24v24H0V0z\" fill=\"none\"/>\n",
              "    <path d=\"M18.56 5.44l.94 2.06.94-2.06 2.06-.94-2.06-.94-.94-2.06-.94 2.06-2.06.94zm-11 1L8.5 8.5l.94-2.06 2.06-.94-2.06-.94L8.5 2.5l-.94 2.06-2.06.94zm10 10l.94 2.06.94-2.06 2.06-.94-2.06-.94-.94-2.06-.94 2.06-2.06.94z\"/><path d=\"M17.41 7.96l-1.37-1.37c-.4-.4-.92-.59-1.43-.59-.52 0-1.04.2-1.43.59L10.3 9.45l-7.72 7.72c-.78.78-.78 2.05 0 2.83L4 21.41c.39.39.9.59 1.41.59.51 0 1.02-.2 1.41-.59l7.78-7.78 2.81-2.81c.8-.78.8-2.07 0-2.86zM5.41 20L4 18.59l7.72-7.72 1.47 1.35L5.41 20z\"/>\n",
              "  </svg>\n",
              "      </button>\n",
              "      \n",
              "  <style>\n",
              "    .colab-df-container {\n",
              "      display:flex;\n",
              "      flex-wrap:wrap;\n",
              "      gap: 12px;\n",
              "    }\n",
              "\n",
              "    .colab-df-convert {\n",
              "      background-color: #E8F0FE;\n",
              "      border: none;\n",
              "      border-radius: 50%;\n",
              "      cursor: pointer;\n",
              "      display: none;\n",
              "      fill: #1967D2;\n",
              "      height: 32px;\n",
              "      padding: 0 0 0 0;\n",
              "      width: 32px;\n",
              "    }\n",
              "\n",
              "    .colab-df-convert:hover {\n",
              "      background-color: #E2EBFA;\n",
              "      box-shadow: 0px 1px 2px rgba(60, 64, 67, 0.3), 0px 1px 3px 1px rgba(60, 64, 67, 0.15);\n",
              "      fill: #174EA6;\n",
              "    }\n",
              "\n",
              "    [theme=dark] .colab-df-convert {\n",
              "      background-color: #3B4455;\n",
              "      fill: #D2E3FC;\n",
              "    }\n",
              "\n",
              "    [theme=dark] .colab-df-convert:hover {\n",
              "      background-color: #434B5C;\n",
              "      box-shadow: 0px 1px 3px 1px rgba(0, 0, 0, 0.15);\n",
              "      filter: drop-shadow(0px 1px 2px rgba(0, 0, 0, 0.3));\n",
              "      fill: #FFFFFF;\n",
              "    }\n",
              "  </style>\n",
              "\n",
              "      <script>\n",
              "        const buttonEl =\n",
              "          document.querySelector('#df-5f26497a-a377-447d-ba9c-b1cb80a02b16 button.colab-df-convert');\n",
              "        buttonEl.style.display =\n",
              "          google.colab.kernel.accessAllowed ? 'block' : 'none';\n",
              "\n",
              "        async function convertToInteractive(key) {\n",
              "          const element = document.querySelector('#df-5f26497a-a377-447d-ba9c-b1cb80a02b16');\n",
              "          const dataTable =\n",
              "            await google.colab.kernel.invokeFunction('convertToInteractive',\n",
              "                                                     [key], {});\n",
              "          if (!dataTable) return;\n",
              "\n",
              "          const docLinkHtml = 'Like what you see? Visit the ' +\n",
              "            '<a target=\"_blank\" href=https://colab.research.google.com/notebooks/data_table.ipynb>data table notebook</a>'\n",
              "            + ' to learn more about interactive tables.';\n",
              "          element.innerHTML = '';\n",
              "          dataTable['output_type'] = 'display_data';\n",
              "          await google.colab.output.renderOutput(dataTable, element);\n",
              "          const docLink = document.createElement('div');\n",
              "          docLink.innerHTML = docLinkHtml;\n",
              "          element.appendChild(docLink);\n",
              "        }\n",
              "      </script>\n",
              "    </div>\n",
              "  </div>\n",
              "  "
            ]
          },
          "metadata": {}
        },
        {
          "output_type": "stream",
          "name": "stdout",
          "text": [
            "\n",
            "Число строк датафрейма с неверными предсказаниями для RandomForestClassifier: 54.\n"
          ]
        }
      ]
    },
    {
      "cell_type": "markdown",
      "source": [
        "**Самые важные признаки для RandomForestClassifier модели**"
      ],
      "metadata": {
        "id": "FGiIOMt5hiVM"
      }
    },
    {
      "cell_type": "code",
      "source": [
        "df_importances = pd.DataFrame({'Importance': rfc.feature_importances_, 'Features': names}).sort_values('Importance', ascending = False)\n",
        "\n",
        "plt.figure(figsize = (16, 7))\n",
        "ax = sns.barplot(x = df_importances.Importance, y = df_importances.Features)\n",
        "ax.set_title('Важность признаков для RandomForestClassifier модели', weight = 'bold')\n",
        "ax.set_xlabel('Важность признаков', weight = 'bold')\n",
        "ax.set_ylabel('Признаки', weight = 'bold')\n",
        "plt.show()"
      ],
      "metadata": {
        "colab": {
          "base_uri": "https://localhost:8080/",
          "height": 464
        },
        "id": "8N4tNUGGRGEy",
        "outputId": "bda3b111-3a40-4bb0-ac8e-43b9a90eb595"
      },
      "execution_count": null,
      "outputs": [
        {
          "output_type": "display_data",
          "data": {
            "text/plain": [
              "<Figure size 1152x504 with 1 Axes>"
            ],
            "image/png": "[encoded data removed]"
          },
          "metadata": {}
        }
      ]
    },
    {
      "cell_type": "code",
      "source": [
        ""
      ],
      "metadata": {
        "id": "R6ixs8MZ3Z5V"
      },
      "execution_count": null,
      "outputs": []
    },
    {
      "cell_type": "markdown",
      "source": [
        "**Оптимизация гиперпараметров № 1. RandomizedSearchCV**"
      ],
      "metadata": {
        "id": "IHHpSMVVkuSk"
      }
    },
    {
      "cell_type": "code",
      "source": [
        "param_dist = {'n_estimators':       list(range(100,1001,100)),\n",
        "               'max_features':      ['log2', 'sqrt'],\n",
        "               'max_depth':         list(range(1,16,1)),\n",
        "               'min_samples_split': list(range(2,53,5)),\n",
        "               'min_samples_leaf':  list(range(2,53,5)),\n",
        "               'bootstrap':         [True, False]}"
      ],
      "metadata": {
        "id": "xH1P33gqkx82"
      },
      "execution_count": null,
      "outputs": []
    },
    {
      "cell_type": "code",
      "source": [
        "rs = RandomizedSearchCV(rfc, param_dist, n_iter = 100, cv = 3, verbose = 1, n_jobs = -1, random_state = 42)\n",
        "rs.fit(X_train, y_train)\n",
        "print('\\nRandomizedSearchCV best_params:')\n",
        "display(rs.best_params_)"
      ],
      "metadata": {
        "colab": {
          "base_uri": "https://localhost:8080/",
          "height": 173
        },
        "id": "fyTlIlyGm2jb",
        "outputId": "14f78cbd-f07b-40df-82a1-a4d30c5ac35a"
      },
      "execution_count": null,
      "outputs": [
        {
          "output_type": "stream",
          "name": "stdout",
          "text": [
            "Fitting 3 folds for each of 100 candidates, totalling 300 fits\n",
            "\n",
            "RandomizedSearchCV best_params:\n"
          ]
        },
        {
          "output_type": "display_data",
          "data": {
            "text/plain": [
              "{'bootstrap': False,\n",
              " 'max_depth': 13,\n",
              " 'max_features': 'sqrt',\n",
              " 'min_samples_leaf': 2,\n",
              " 'min_samples_split': 2,\n",
              " 'n_estimators': 800}"
            ]
          },
          "metadata": {}
        }
      ]
    },
    {
      "cell_type": "code",
      "source": [
        "y_predict_rs = rs.best_estimator_.predict(X_test)\n",
        "RS_matrix    = confusion_matrix(y_test, y_predict_rs)\n",
        "print('\\nRandomizedSearchCV matrix:')\n",
        "display(RS_matrix)"
      ],
      "metadata": {
        "id": "tNj-kwgr08qX",
        "colab": {
          "base_uri": "https://localhost:8080/",
          "height": 86
        },
        "outputId": "376b58e9-eca4-4c73-c3cb-1d6d01d99f8a"
      },
      "execution_count": null,
      "outputs": [
        {
          "output_type": "stream",
          "name": "stdout",
          "text": [
            "\n",
            "RandomizedSearchCV matrix:\n"
          ]
        },
        {
          "output_type": "display_data",
          "data": {
            "text/plain": [
              "array([[3420,    8],\n",
              "       [  74,  998]])"
            ]
          },
          "metadata": {}
        }
      ]
    },
    {
      "cell_type": "code",
      "source": [
        "print('Результаты работы алгоритма RandomizedSearchCV:\\n')\n",
        "\n",
        "rs_df = pd.DataFrame(rs.cv_results_).reset_index(drop = True)\n",
        "rs_df = rs_df.drop([\n",
        "            'mean_fit_time', \n",
        "            'std_fit_time', \n",
        "            'mean_score_time',\n",
        "            'std_score_time', \n",
        "            'params', \n",
        "            'split0_test_score', \n",
        "            'split1_test_score', \n",
        "            'split2_test_score', \n",
        "            'std_test_score'],\n",
        "            axis = 1)\n",
        "rs_df.sort_values('rank_test_score', ascending = False).head(10)"
      ],
      "metadata": {
        "colab": {
          "base_uri": "https://localhost:8080/",
          "height": 398
        },
        "id": "NqqOt2OsyGvn",
        "outputId": "48136831-59fc-4069-b12d-74a77bd4a035"
      },
      "execution_count": null,
      "outputs": [
        {
          "output_type": "stream",
          "name": "stdout",
          "text": [
            "Результаты работы алгоритма RandomizedSearchCV:\n",
            "\n"
          ]
        },
        {
          "output_type": "execute_result",
          "data": {
            "text/plain": [
              "   param_n_estimators param_min_samples_split param_min_samples_leaf  \\\n",
              "54                600                      52                     32   \n",
              "4                 500                       7                     42   \n",
              "67                500                      47                     22   \n",
              "58                700                      12                     47   \n",
              "11               1000                      52                     32   \n",
              "83                100                      27                     52   \n",
              "1                 100                      47                     37   \n",
              "75                600                      27                     12   \n",
              "65               1000                      22                     17   \n",
              "72                900                      17                      7   \n",
              "\n",
              "   param_max_features param_max_depth param_bootstrap  mean_test_score  \\\n",
              "54               log2               1           False         0.761596   \n",
              "4                log2               1           False         0.761596   \n",
              "67               sqrt               1           False         0.761596   \n",
              "58               log2               1            True         0.761787   \n",
              "11               log2               1            True         0.761787   \n",
              "83               sqrt               1           False         0.761787   \n",
              "1                log2               1            True         0.761882   \n",
              "75               log2               2            True         0.901992   \n",
              "65               log2               2           False         0.903516   \n",
              "72               log2               2            True         0.909706   \n",
              "\n",
              "    rank_test_score  \n",
              "54               98  \n",
              "4                98  \n",
              "67               98  \n",
              "58               96  \n",
              "11               96  \n",
              "83               95  \n",
              "1                94  \n",
              "75               93  \n",
              "65               92  \n",
              "72               91  "
            ],
            "text/html": [
              "\n",
              "  <div id=\"df-cd6cfd3c-d6ad-4981-8418-2251e4f895c3\">\n",
              "    <div class=\"colab-df-container\">\n",
              "      <div>\n",
              "<style scoped>\n",
              "    .dataframe tbody tr th:only-of-type {\n",
              "        vertical-align: middle;\n",
              "    }\n",
              "\n",
              "    .dataframe tbody tr th {\n",
              "        vertical-align: top;\n",
              "    }\n",
              "\n",
              "    .dataframe thead th {\n",
              "        text-align: right;\n",
              "    }\n",
              "</style>\n",
              "<table border=\"1\" class=\"dataframe\">\n",
              "  <thead>\n",
              "    <tr style=\"text-align: right;\">\n",
              "      <th></th>\n",
              "      <th>param_n_estimators</th>\n",
              "      <th>param_min_samples_split</th>\n",
              "      <th>param_min_samples_leaf</th>\n",
              "      <th>param_max_features</th>\n",
              "      <th>param_max_depth</th>\n",
              "      <th>param_bootstrap</th>\n",
              "      <th>mean_test_score</th>\n",
              "      <th>rank_test_score</th>\n",
              "    </tr>\n",
              "  </thead>\n",
              "  <tbody>\n",
              "    <tr>\n",
              "      <th>54</th>\n",
              "      <td>600</td>\n",
              "      <td>52</td>\n",
              "      <td>32</td>\n",
              "      <td>log2</td>\n",
              "      <td>1</td>\n",
              "      <td>False</td>\n",
              "      <td>0.761596</td>\n",
              "      <td>98</td>\n",
              "    </tr>\n",
              "    <tr>\n",
              "      <th>4</th>\n",
              "      <td>500</td>\n",
              "      <td>7</td>\n",
              "      <td>42</td>\n",
              "      <td>log2</td>\n",
              "      <td>1</td>\n",
              "      <td>False</td>\n",
              "      <td>0.761596</td>\n",
              "      <td>98</td>\n",
              "    </tr>\n",
              "    <tr>\n",
              "      <th>67</th>\n",
              "      <td>500</td>\n",
              "      <td>47</td>\n",
              "      <td>22</td>\n",
              "      <td>sqrt</td>\n",
              "      <td>1</td>\n",
              "      <td>False</td>\n",
              "      <td>0.761596</td>\n",
              "      <td>98</td>\n",
              "    </tr>\n",
              "    <tr>\n",
              "      <th>58</th>\n",
              "      <td>700</td>\n",
              "      <td>12</td>\n",
              "      <td>47</td>\n",
              "      <td>log2</td>\n",
              "      <td>1</td>\n",
              "      <td>True</td>\n",
              "      <td>0.761787</td>\n",
              "      <td>96</td>\n",
              "    </tr>\n",
              "    <tr>\n",
              "      <th>11</th>\n",
              "      <td>1000</td>\n",
              "      <td>52</td>\n",
              "      <td>32</td>\n",
              "      <td>log2</td>\n",
              "      <td>1</td>\n",
              "      <td>True</td>\n",
              "      <td>0.761787</td>\n",
              "      <td>96</td>\n",
              "    </tr>\n",
              "    <tr>\n",
              "      <th>83</th>\n",
              "      <td>100</td>\n",
              "      <td>27</td>\n",
              "      <td>52</td>\n",
              "      <td>sqrt</td>\n",
              "      <td>1</td>\n",
              "      <td>False</td>\n",
              "      <td>0.761787</td>\n",
              "      <td>95</td>\n",
              "    </tr>\n",
              "    <tr>\n",
              "      <th>1</th>\n",
              "      <td>100</td>\n",
              "      <td>47</td>\n",
              "      <td>37</td>\n",
              "      <td>log2</td>\n",
              "      <td>1</td>\n",
              "      <td>True</td>\n",
              "      <td>0.761882</td>\n",
              "      <td>94</td>\n",
              "    </tr>\n",
              "    <tr>\n",
              "      <th>75</th>\n",
              "      <td>600</td>\n",
              "      <td>27</td>\n",
              "      <td>12</td>\n",
              "      <td>log2</td>\n",
              "      <td>2</td>\n",
              "      <td>True</td>\n",
              "      <td>0.901992</td>\n",
              "      <td>93</td>\n",
              "    </tr>\n",
              "    <tr>\n",
              "      <th>65</th>\n",
              "      <td>1000</td>\n",
              "      <td>22</td>\n",
              "      <td>17</td>\n",
              "      <td>log2</td>\n",
              "      <td>2</td>\n",
              "      <td>False</td>\n",
              "      <td>0.903516</td>\n",
              "      <td>92</td>\n",
              "    </tr>\n",
              "    <tr>\n",
              "      <th>72</th>\n",
              "      <td>900</td>\n",
              "      <td>17</td>\n",
              "      <td>7</td>\n",
              "      <td>log2</td>\n",
              "      <td>2</td>\n",
              "      <td>True</td>\n",
              "      <td>0.909706</td>\n",
              "      <td>91</td>\n",
              "    </tr>\n",
              "  </tbody>\n",
              "</table>\n",
              "</div>\n",
              "      <button class=\"colab-df-convert\" onclick=\"convertToInteractive('df-cd6cfd3c-d6ad-4981-8418-2251e4f895c3')\"\n",
              "              title=\"Convert this dataframe to an interactive table.\"\n",
              "              style=\"display:none;\">\n",
              "        \n",
              "  <svg xmlns=\"http://www.w3.org/2000/svg\" height=\"24px\"viewBox=\"0 0 24 24\"\n",
              "       width=\"24px\">\n",
              "    <path d=\"M0 0h24v24H0V0z\" fill=\"none\"/>\n",
              "    <path d=\"M18.56 5.44l.94 2.06.94-2.06 2.06-.94-2.06-.94-.94-2.06-.94 2.06-2.06.94zm-11 1L8.5 8.5l.94-2.06 2.06-.94-2.06-.94L8.5 2.5l-.94 2.06-2.06.94zm10 10l.94 2.06.94-2.06 2.06-.94-2.06-.94-.94-2.06-.94 2.06-2.06.94z\"/><path d=\"M17.41 7.96l-1.37-1.37c-.4-.4-.92-.59-1.43-.59-.52 0-1.04.2-1.43.59L10.3 9.45l-7.72 7.72c-.78.78-.78 2.05 0 2.83L4 21.41c.39.39.9.59 1.41.59.51 0 1.02-.2 1.41-.59l7.78-7.78 2.81-2.81c.8-.78.8-2.07 0-2.86zM5.41 20L4 18.59l7.72-7.72 1.47 1.35L5.41 20z\"/>\n",
              "  </svg>\n",
              "      </button>\n",
              "      \n",
              "  <style>\n",
              "    .colab-df-container {\n",
              "      display:flex;\n",
              "      flex-wrap:wrap;\n",
              "      gap: 12px;\n",
              "    }\n",
              "\n",
              "    .colab-df-convert {\n",
              "      background-color: #E8F0FE;\n",
              "      border: none;\n",
              "      border-radius: 50%;\n",
              "      cursor: pointer;\n",
              "      display: none;\n",
              "      fill: #1967D2;\n",
              "      height: 32px;\n",
              "      padding: 0 0 0 0;\n",
              "      width: 32px;\n",
              "    }\n",
              "\n",
              "    .colab-df-convert:hover {\n",
              "      background-color: #E2EBFA;\n",
              "      box-shadow: 0px 1px 2px rgba(60, 64, 67, 0.3), 0px 1px 3px 1px rgba(60, 64, 67, 0.15);\n",
              "      fill: #174EA6;\n",
              "    }\n",
              "\n",
              "    [theme=dark] .colab-df-convert {\n",
              "      background-color: #3B4455;\n",
              "      fill: #D2E3FC;\n",
              "    }\n",
              "\n",
              "    [theme=dark] .colab-df-convert:hover {\n",
              "      background-color: #434B5C;\n",
              "      box-shadow: 0px 1px 3px 1px rgba(0, 0, 0, 0.15);\n",
              "      filter: drop-shadow(0px 1px 2px rgba(0, 0, 0, 0.3));\n",
              "      fill: #FFFFFF;\n",
              "    }\n",
              "  </style>\n",
              "\n",
              "      <script>\n",
              "        const buttonEl =\n",
              "          document.querySelector('#df-cd6cfd3c-d6ad-4981-8418-2251e4f895c3 button.colab-df-convert');\n",
              "        buttonEl.style.display =\n",
              "          google.colab.kernel.accessAllowed ? 'block' : 'none';\n",
              "\n",
              "        async function convertToInteractive(key) {\n",
              "          const element = document.querySelector('#df-cd6cfd3c-d6ad-4981-8418-2251e4f895c3');\n",
              "          const dataTable =\n",
              "            await google.colab.kernel.invokeFunction('convertToInteractive',\n",
              "                                                     [key], {});\n",
              "          if (!dataTable) return;\n",
              "\n",
              "          const docLinkHtml = 'Like what you see? Visit the ' +\n",
              "            '<a target=\"_blank\" href=https://colab.research.google.com/notebooks/data_table.ipynb>data table notebook</a>'\n",
              "            + ' to learn more about interactive tables.';\n",
              "          element.innerHTML = '';\n",
              "          dataTable['output_type'] = 'display_data';\n",
              "          await google.colab.output.renderOutput(dataTable, element);\n",
              "          const docLink = document.createElement('div');\n",
              "          docLink.innerHTML = docLinkHtml;\n",
              "          element.appendChild(docLink);\n",
              "        }\n",
              "      </script>\n",
              "    </div>\n",
              "  </div>\n",
              "  "
            ]
          },
          "metadata": {},
          "execution_count": 45
        }
      ]
    },
    {
      "cell_type": "markdown",
      "source": [
        "**Среднее влияние каждого гиперпараметра на модель RandomizedSearchCV:**"
      ],
      "metadata": {
        "id": "EkhSp2VjJXvw"
      }
    },
    {
      "cell_type": "code",
      "source": [
        "sns.set(style = \"whitegrid\", color_codes = True)\n",
        "\n",
        "plt.figure(figsize = (16,12))\n",
        "plt.subplot(231)\n",
        "sns.barplot(x = 'param_n_estimators', y = 'mean_test_score', data = rs_df, color = 'red').\\\n",
        "set_title(label = 'n_estimators', size = 10, weight = 'bold')\n",
        "\n",
        "plt.subplot(232)\n",
        "sns.barplot(x = 'param_min_samples_split', y = 'mean_test_score', data = rs_df, color = 'green').\\\n",
        "set_title(label = 'min_samples_split', size = 10, weight = 'bold')\n",
        "\n",
        "plt.subplot(233)\n",
        "sns.barplot(x = 'param_min_samples_leaf', y = 'mean_test_score', data=rs_df, color='orange').\\\n",
        "set_title(label = 'min_samples_leaf', size = 10, weight = 'bold')\n",
        "\n",
        "plt.subplot(234)\n",
        "sns.barplot(x = 'param_max_features', y = 'mean_test_score', data=rs_df, color = 'blue').\\\n",
        "set_title(label = 'max_features', size = 10, weight = 'bold')\n",
        "\n",
        "plt.subplot(235)\n",
        "sns.barplot(x = 'param_max_depth', y = 'mean_test_score', data=rs_df, color = 'brown').\\\n",
        "set_title(label = 'max_depth', size = 10, weight = 'bold')\n",
        "\n",
        "plt.subplot(236)\n",
        "sns.barplot(x = 'param_bootstrap', y = 'mean_test_score', data = rs_df, color = 'grey').\\\n",
        "set_title(label = 'bootstrap', size = 10, weight = 'bold')\n",
        "plt.show()"
      ],
      "metadata": {
        "colab": {
          "base_uri": "https://localhost:8080/",
          "height": 734
        },
        "id": "4nzYf_myDBfD",
        "outputId": "72b1934b-1383-433a-a278-a008d796555d"
      },
      "execution_count": null,
      "outputs": [
        {
          "output_type": "display_data",
          "data": {
            "text/plain": [
              "<Figure size 1152x864 with 6 Axes>"
            ],
            "image/png": "[encoded data removed]"
          },
          "metadata": {}
        }
      ]
    },
    {
      "cell_type": "markdown",
      "source": [
        "**Оптимизация гиперпараметров № 2: GridSearchCV**"
      ],
      "metadata": {
        "id": "eymWUEfu24T4"
      }
    },
    {
      "cell_type": "code",
      "source": [
        "# теперь воспользуемся данным алгоритмом для проведения более точного поиска наилучшей комбинации гиперпараметров:\n",
        "\n",
        "param_dist_GS = {'n_estimators':    [800, 900],\n",
        "               'max_features':      ['log2', 'sqrt'],\n",
        "               'max_depth':         [15, 16],\n",
        "               'min_samples_split': [2],\n",
        "               'min_samples_leaf':  [2],\n",
        "               'bootstrap':         [True, False]}"
      ],
      "metadata": {
        "id": "6fu3RYYvImTi"
      },
      "execution_count": null,
      "outputs": []
    },
    {
      "cell_type": "code",
      "source": [
        "gs = GridSearchCV(rfc, param_dist_GS, cv = 3, verbose = 1, n_jobs = -1)\n",
        "gs.fit(X_train, y_train)\n",
        "\n",
        "print('GridSearchCV best_params:')\n",
        "display(gs.best_params_)"
      ],
      "metadata": {
        "id": "gfyUEfv2ywce",
        "colab": {
          "base_uri": "https://localhost:8080/",
          "height": 156
        },
        "outputId": "2d3b8b6e-a64a-43c7-ecb6-037e08367880"
      },
      "execution_count": null,
      "outputs": [
        {
          "output_type": "stream",
          "name": "stdout",
          "text": [
            "Fitting 3 folds for each of 16 candidates, totalling 48 fits\n",
            "GridSearchCV best_params:\n"
          ]
        },
        {
          "output_type": "display_data",
          "data": {
            "text/plain": [
              "{'bootstrap': False,\n",
              " 'max_depth': 16,\n",
              " 'max_features': 'log2',\n",
              " 'min_samples_leaf': 2,\n",
              " 'min_samples_split': 2,\n",
              " 'n_estimators': 800}"
            ]
          },
          "metadata": {}
        }
      ]
    },
    {
      "cell_type": "code",
      "source": [
        "y_predict_gs = gs.best_estimator_.predict(X_test)\n",
        "GS_matrix    = confusion_matrix(y_test, y_predict_gs)\n",
        "\n",
        "print('Матрица ошибок для GridSearchCV:')\n",
        "display(GS_matrix)"
      ],
      "metadata": {
        "id": "LIUhJbgN0q3s",
        "colab": {
          "base_uri": "https://localhost:8080/",
          "height": 69
        },
        "outputId": "fe439aa9-7c22-40a5-a449-a8ac760905d0"
      },
      "execution_count": null,
      "outputs": [
        {
          "output_type": "stream",
          "name": "stdout",
          "text": [
            "Матрица ошибок для GridSearchCV:\n"
          ]
        },
        {
          "output_type": "display_data",
          "data": {
            "text/plain": [
              "array([[3421,    7],\n",
              "       [  63, 1009]])"
            ]
          },
          "metadata": {}
        }
      ]
    },
    {
      "cell_type": "code",
      "source": [
        "print('Матрица ошибок для RandomizedSearchCV:')\n",
        "display(RS_matrix)"
      ],
      "metadata": {
        "id": "6b0CovXH4BfF",
        "colab": {
          "base_uri": "https://localhost:8080/",
          "height": 69
        },
        "outputId": "335d5356-5d3f-4cae-e794-215ce75b91f2"
      },
      "execution_count": null,
      "outputs": [
        {
          "output_type": "stream",
          "name": "stdout",
          "text": [
            "Матрица ошибок для RandomizedSearchCV:\n"
          ]
        },
        {
          "output_type": "display_data",
          "data": {
            "text/plain": [
              "array([[3420,    8],\n",
              "       [  74,  998]])"
            ]
          },
          "metadata": {}
        }
      ]
    },
    {
      "cell_type": "code",
      "source": [
        "print('Матрица ошибок для RandomForestClassifier:')\n",
        "display(RFC_matrix)"
      ],
      "metadata": {
        "id": "qN4dhzCK3HcT",
        "colab": {
          "base_uri": "https://localhost:8080/",
          "height": 69
        },
        "outputId": "e5dc6ebb-725f-4692-901d-1fc564d4307a"
      },
      "execution_count": null,
      "outputs": [
        {
          "output_type": "stream",
          "name": "stdout",
          "text": [
            "Матрица ошибок для RandomForestClassifier:\n"
          ]
        },
        {
          "output_type": "display_data",
          "data": {
            "text/plain": [
              "array([[3421,    7],\n",
              "       [  47, 1025]])"
            ]
          },
          "metadata": {}
        }
      ]
    },
    {
      "cell_type": "code",
      "source": [
        "print('Результаты работы трех моделей, recall_score:\\n')\n",
        "print(f'1. RandomForestClassifier: {round(recall_score(y_test, y_predict_rfc),2)}')\n",
        "print(f'2. GridSearchCV:           {round(recall_score(y_test, y_predict_gs),2)}')\n",
        "print(f'3. RandomizedSearchCV:     {round(recall_score(y_test, y_predict_rs),2)}')"
      ],
      "metadata": {
        "id": "l6K01mDJ5ya1",
        "colab": {
          "base_uri": "https://localhost:8080/"
        },
        "outputId": "8955ca53-896c-4cc6-e5f1-13ef80479a44"
      },
      "execution_count": null,
      "outputs": [
        {
          "output_type": "stream",
          "name": "stdout",
          "text": [
            "Результаты работы трех моделей, recall_score:\n",
            "\n",
            "1. RandomForestClassifier: 0.96\n",
            "2. GridSearchCV:           0.94\n",
            "3. RandomizedSearchCV:     0.93\n"
          ]
        }
      ]
    },
    {
      "cell_type": "markdown",
      "source": [
        "Модель на основе алгоритма **RandomForestClassifier** показала **наилучший** результат."
      ],
      "metadata": {
        "id": "XBi7a4my_jw9"
      }
    }
  ]
}