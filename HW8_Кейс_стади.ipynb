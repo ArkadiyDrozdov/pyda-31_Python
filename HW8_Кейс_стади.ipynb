{
  "nbformat": 4,
  "nbformat_minor": 0,
  "metadata": {
    "colab": {
      "name": "HW8_Кейс-стади.ipynb",
      "provenance": [],
      "collapsed_sections": [
        "4I-p8CNqxGQT",
        "zP1Dy5cS1ffk"
      ],
      "authorship_tag": "ABX9TyMvUwsfKElQLUt4Vx9CRhpW"
    },
    "kernelspec": {
      "name": "python3",
      "display_name": "Python 3"
    },
    "language_info": {
      "name": "python"
    }
  },
  "cells": [
    {
      "cell_type": "code",
      "execution_count": null,
      "metadata": {
        "id": "Gmi6-MgYwpJo",
        "colab": {
          "base_uri": "https://localhost:8080/"
        },
        "outputId": "9841b5e7-75f7-458b-80da-36ee7b617bde"
      },
      "outputs": [
        {
          "output_type": "stream",
          "name": "stderr",
          "text": [
            "[nltk_data] Downloading package stopwords to /root/nltk_data...\n",
            "[nltk_data]   Package stopwords is already up-to-date!\n",
            "[nltk_data] Downloading package omw-1.4 to /root/nltk_data...\n",
            "[nltk_data]   Package omw-1.4 is already up-to-date!\n",
            "[nltk_data] Downloading package wordnet to /root/nltk_data...\n",
            "[nltk_data]   Package wordnet is already up-to-date!\n"
          ]
        },
        {
          "output_type": "execute_result",
          "data": {
            "text/plain": [
              "True"
            ]
          },
          "metadata": {},
          "execution_count": 60
        }
      ],
      "source": [
        "import re\n",
        "import pandas as pd\n",
        "import numpy as np\n",
        "import matplotlib.pyplot as plt\n",
        "from scipy import stats as st\n",
        "from sklearn.feature_extraction.text import TfidfVectorizer\n",
        "from sklearn.model_selection import train_test_split\n",
        "from sklearn.metrics import accuracy_score\n",
        "from sklearn.metrics import recall_score\n",
        "from sklearn.linear_model import LogisticRegression\n",
        "from sklearn.metrics import confusion_matrix\n",
        "\n",
        "import nltk\n",
        "from nltk.corpus import stopwords\n",
        "nltk.download('stopwords')  # для удаления стоп-слов\n",
        "nltk.download('omw-1.4')\n",
        "from nltk.stem import WordNetLemmatizer\n",
        "nltk.download('wordnet')    # для приведения слов в нормальную форму (Лемматизация)"
      ]
    },
    {
      "cell_type": "markdown",
      "source": [
        "# Домашнее задание к лекции \"Статистика. Практика\""
      ],
      "metadata": {
        "id": "4I-p8CNqxGQT"
      }
    },
    {
      "cell_type": "code",
      "source": [
        "# !pip install --upgrade scipy"
      ],
      "metadata": {
        "id": "djp5YBX4DTn3"
      },
      "execution_count": null,
      "outputs": []
    },
    {
      "cell_type": "code",
      "source": [
        "df = pd.read_csv('https://raw.githubusercontent.com/obulygin/pyda_homeworks/master/stat_case_study/vgsales.csv')\n",
        "df.head(3)"
      ],
      "metadata": {
        "colab": {
          "base_uri": "https://localhost:8080/"
        },
        "id": "aSvqVczxxCJz",
        "outputId": "e9323095-9662-4c7d-f9e4-26f6a1b990d2"
      },
      "execution_count": null,
      "outputs": [
        {
          "output_type": "execute_result",
          "data": {
            "text/plain": [
              "                Name Platform  Year_of_Release     Genre Publisher  NA_Sales  \\\n",
              "0         Wii Sports      Wii           2006.0    Sports  Nintendo     41.36   \n",
              "1  Super Mario Bros.      NES           1985.0  Platform  Nintendo     29.08   \n",
              "2     Mario Kart Wii      Wii           2008.0    Racing  Nintendo     15.68   \n",
              "\n",
              "   EU_Sales  JP_Sales  Other_Sales  Global_Sales  Critic_Score  Critic_Count  \\\n",
              "0     28.96      3.77         8.45         82.53          76.0          51.0   \n",
              "1      3.58      6.81         0.77         40.24           NaN           NaN   \n",
              "2     12.76      3.79         3.29         35.52          82.0          73.0   \n",
              "\n",
              "  User_Score  User_Count Developer Rating  \n",
              "0          8       322.0  Nintendo      E  \n",
              "1        NaN         NaN       NaN    NaN  \n",
              "2        8.3       709.0  Nintendo      E  "
            ],
            "text/html": [
              "\n",
              "  <div id=\"df-5a11b051-b3c3-45e6-af1b-170da904faeb\">\n",
              "    <div class=\"colab-df-container\">\n",
              "      <div>\n",
              "<style scoped>\n",
              "    .dataframe tbody tr th:only-of-type {\n",
              "        vertical-align: middle;\n",
              "    }\n",
              "\n",
              "    .dataframe tbody tr th {\n",
              "        vertical-align: top;\n",
              "    }\n",
              "\n",
              "    .dataframe thead th {\n",
              "        text-align: right;\n",
              "    }\n",
              "</style>\n",
              "<table border=\"1\" class=\"dataframe\">\n",
              "  <thead>\n",
              "    <tr style=\"text-align: right;\">\n",
              "      <th></th>\n",
              "      <th>Name</th>\n",
              "      <th>Platform</th>\n",
              "      <th>Year_of_Release</th>\n",
              "      <th>Genre</th>\n",
              "      <th>Publisher</th>\n",
              "      <th>NA_Sales</th>\n",
              "      <th>EU_Sales</th>\n",
              "      <th>JP_Sales</th>\n",
              "      <th>Other_Sales</th>\n",
              "      <th>Global_Sales</th>\n",
              "      <th>Critic_Score</th>\n",
              "      <th>Critic_Count</th>\n",
              "      <th>User_Score</th>\n",
              "      <th>User_Count</th>\n",
              "      <th>Developer</th>\n",
              "      <th>Rating</th>\n",
              "    </tr>\n",
              "  </thead>\n",
              "  <tbody>\n",
              "    <tr>\n",
              "      <th>0</th>\n",
              "      <td>Wii Sports</td>\n",
              "      <td>Wii</td>\n",
              "      <td>2006.0</td>\n",
              "      <td>Sports</td>\n",
              "      <td>Nintendo</td>\n",
              "      <td>41.36</td>\n",
              "      <td>28.96</td>\n",
              "      <td>3.77</td>\n",
              "      <td>8.45</td>\n",
              "      <td>82.53</td>\n",
              "      <td>76.0</td>\n",
              "      <td>51.0</td>\n",
              "      <td>8</td>\n",
              "      <td>322.0</td>\n",
              "      <td>Nintendo</td>\n",
              "      <td>E</td>\n",
              "    </tr>\n",
              "    <tr>\n",
              "      <th>1</th>\n",
              "      <td>Super Mario Bros.</td>\n",
              "      <td>NES</td>\n",
              "      <td>1985.0</td>\n",
              "      <td>Platform</td>\n",
              "      <td>Nintendo</td>\n",
              "      <td>29.08</td>\n",
              "      <td>3.58</td>\n",
              "      <td>6.81</td>\n",
              "      <td>0.77</td>\n",
              "      <td>40.24</td>\n",
              "      <td>NaN</td>\n",
              "      <td>NaN</td>\n",
              "      <td>NaN</td>\n",
              "      <td>NaN</td>\n",
              "      <td>NaN</td>\n",
              "      <td>NaN</td>\n",
              "    </tr>\n",
              "    <tr>\n",
              "      <th>2</th>\n",
              "      <td>Mario Kart Wii</td>\n",
              "      <td>Wii</td>\n",
              "      <td>2008.0</td>\n",
              "      <td>Racing</td>\n",
              "      <td>Nintendo</td>\n",
              "      <td>15.68</td>\n",
              "      <td>12.76</td>\n",
              "      <td>3.79</td>\n",
              "      <td>3.29</td>\n",
              "      <td>35.52</td>\n",
              "      <td>82.0</td>\n",
              "      <td>73.0</td>\n",
              "      <td>8.3</td>\n",
              "      <td>709.0</td>\n",
              "      <td>Nintendo</td>\n",
              "      <td>E</td>\n",
              "    </tr>\n",
              "  </tbody>\n",
              "</table>\n",
              "</div>\n",
              "      <button class=\"colab-df-convert\" onclick=\"convertToInteractive('df-5a11b051-b3c3-45e6-af1b-170da904faeb')\"\n",
              "              title=\"Convert this dataframe to an interactive table.\"\n",
              "              style=\"display:none;\">\n",
              "        \n",
              "  <svg xmlns=\"http://www.w3.org/2000/svg\" height=\"24px\"viewBox=\"0 0 24 24\"\n",
              "       width=\"24px\">\n",
              "    <path d=\"M0 0h24v24H0V0z\" fill=\"none\"/>\n",
              "    <path d=\"M18.56 5.44l.94 2.06.94-2.06 2.06-.94-2.06-.94-.94-2.06-.94 2.06-2.06.94zm-11 1L8.5 8.5l.94-2.06 2.06-.94-2.06-.94L8.5 2.5l-.94 2.06-2.06.94zm10 10l.94 2.06.94-2.06 2.06-.94-2.06-.94-.94-2.06-.94 2.06-2.06.94z\"/><path d=\"M17.41 7.96l-1.37-1.37c-.4-.4-.92-.59-1.43-.59-.52 0-1.04.2-1.43.59L10.3 9.45l-7.72 7.72c-.78.78-.78 2.05 0 2.83L4 21.41c.39.39.9.59 1.41.59.51 0 1.02-.2 1.41-.59l7.78-7.78 2.81-2.81c.8-.78.8-2.07 0-2.86zM5.41 20L4 18.59l7.72-7.72 1.47 1.35L5.41 20z\"/>\n",
              "  </svg>\n",
              "      </button>\n",
              "      \n",
              "  <style>\n",
              "    .colab-df-container {\n",
              "      display:flex;\n",
              "      flex-wrap:wrap;\n",
              "      gap: 12px;\n",
              "    }\n",
              "\n",
              "    .colab-df-convert {\n",
              "      background-color: #E8F0FE;\n",
              "      border: none;\n",
              "      border-radius: 50%;\n",
              "      cursor: pointer;\n",
              "      display: none;\n",
              "      fill: #1967D2;\n",
              "      height: 32px;\n",
              "      padding: 0 0 0 0;\n",
              "      width: 32px;\n",
              "    }\n",
              "\n",
              "    .colab-df-convert:hover {\n",
              "      background-color: #E2EBFA;\n",
              "      box-shadow: 0px 1px 2px rgba(60, 64, 67, 0.3), 0px 1px 3px 1px rgba(60, 64, 67, 0.15);\n",
              "      fill: #174EA6;\n",
              "    }\n",
              "\n",
              "    [theme=dark] .colab-df-convert {\n",
              "      background-color: #3B4455;\n",
              "      fill: #D2E3FC;\n",
              "    }\n",
              "\n",
              "    [theme=dark] .colab-df-convert:hover {\n",
              "      background-color: #434B5C;\n",
              "      box-shadow: 0px 1px 3px 1px rgba(0, 0, 0, 0.15);\n",
              "      filter: drop-shadow(0px 1px 2px rgba(0, 0, 0, 0.3));\n",
              "      fill: #FFFFFF;\n",
              "    }\n",
              "  </style>\n",
              "\n",
              "      <script>\n",
              "        const buttonEl =\n",
              "          document.querySelector('#df-5a11b051-b3c3-45e6-af1b-170da904faeb button.colab-df-convert');\n",
              "        buttonEl.style.display =\n",
              "          google.colab.kernel.accessAllowed ? 'block' : 'none';\n",
              "\n",
              "        async function convertToInteractive(key) {\n",
              "          const element = document.querySelector('#df-5a11b051-b3c3-45e6-af1b-170da904faeb');\n",
              "          const dataTable =\n",
              "            await google.colab.kernel.invokeFunction('convertToInteractive',\n",
              "                                                     [key], {});\n",
              "          if (!dataTable) return;\n",
              "\n",
              "          const docLinkHtml = 'Like what you see? Visit the ' +\n",
              "            '<a target=\"_blank\" href=https://colab.research.google.com/notebooks/data_table.ipynb>data table notebook</a>'\n",
              "            + ' to learn more about interactive tables.';\n",
              "          element.innerHTML = '';\n",
              "          dataTable['output_type'] = 'display_data';\n",
              "          await google.colab.output.renderOutput(dataTable, element);\n",
              "          const docLink = document.createElement('div');\n",
              "          docLink.innerHTML = docLinkHtml;\n",
              "          element.appendChild(docLink);\n",
              "        }\n",
              "      </script>\n",
              "    </div>\n",
              "  </div>\n",
              "  "
            ]
          },
          "metadata": {},
          "execution_count": 62
        }
      ]
    },
    {
      "cell_type": "markdown",
      "source": [
        "# **Задание 1**\n",
        "Ответьте на следующие вопросы:\n",
        "\n",
        "1) Как критики относятся к спортивным играм?\n",
        "\n",
        "2) Критикам нравятся больше игры на PC или на PS4?\n",
        "\n",
        "3) Критикам больше нравятся стрелялки или стратегии?"
      ],
      "metadata": {
        "id": "zP1Dy5cS1ffk"
      }
    },
    {
      "cell_type": "code",
      "source": [
        "list_col = ['Critic_Score', 'Genre', 'Platform'] # столбцы данных для всех 3 подзадач\n",
        "df = df[list_col]\n",
        "df.head(3)"
      ],
      "metadata": {
        "colab": {
          "base_uri": "https://localhost:8080/",
          "height": 143
        },
        "id": "CizDBzsjDsrs",
        "outputId": "1e75c208-18bc-43e0-a81e-18a74cce8239"
      },
      "execution_count": null,
      "outputs": [
        {
          "output_type": "execute_result",
          "data": {
            "text/plain": [
              "   Critic_Score     Genre Platform\n",
              "0          76.0    Sports      Wii\n",
              "1           NaN  Platform      NES\n",
              "2          82.0    Racing      Wii"
            ],
            "text/html": [
              "\n",
              "  <div id=\"df-36a0becb-ceb3-4e57-b8f0-2d6234486d02\">\n",
              "    <div class=\"colab-df-container\">\n",
              "      <div>\n",
              "<style scoped>\n",
              "    .dataframe tbody tr th:only-of-type {\n",
              "        vertical-align: middle;\n",
              "    }\n",
              "\n",
              "    .dataframe tbody tr th {\n",
              "        vertical-align: top;\n",
              "    }\n",
              "\n",
              "    .dataframe thead th {\n",
              "        text-align: right;\n",
              "    }\n",
              "</style>\n",
              "<table border=\"1\" class=\"dataframe\">\n",
              "  <thead>\n",
              "    <tr style=\"text-align: right;\">\n",
              "      <th></th>\n",
              "      <th>Critic_Score</th>\n",
              "      <th>Genre</th>\n",
              "      <th>Platform</th>\n",
              "    </tr>\n",
              "  </thead>\n",
              "  <tbody>\n",
              "    <tr>\n",
              "      <th>0</th>\n",
              "      <td>76.0</td>\n",
              "      <td>Sports</td>\n",
              "      <td>Wii</td>\n",
              "    </tr>\n",
              "    <tr>\n",
              "      <th>1</th>\n",
              "      <td>NaN</td>\n",
              "      <td>Platform</td>\n",
              "      <td>NES</td>\n",
              "    </tr>\n",
              "    <tr>\n",
              "      <th>2</th>\n",
              "      <td>82.0</td>\n",
              "      <td>Racing</td>\n",
              "      <td>Wii</td>\n",
              "    </tr>\n",
              "  </tbody>\n",
              "</table>\n",
              "</div>\n",
              "      <button class=\"colab-df-convert\" onclick=\"convertToInteractive('df-36a0becb-ceb3-4e57-b8f0-2d6234486d02')\"\n",
              "              title=\"Convert this dataframe to an interactive table.\"\n",
              "              style=\"display:none;\">\n",
              "        \n",
              "  <svg xmlns=\"http://www.w3.org/2000/svg\" height=\"24px\"viewBox=\"0 0 24 24\"\n",
              "       width=\"24px\">\n",
              "    <path d=\"M0 0h24v24H0V0z\" fill=\"none\"/>\n",
              "    <path d=\"M18.56 5.44l.94 2.06.94-2.06 2.06-.94-2.06-.94-.94-2.06-.94 2.06-2.06.94zm-11 1L8.5 8.5l.94-2.06 2.06-.94-2.06-.94L8.5 2.5l-.94 2.06-2.06.94zm10 10l.94 2.06.94-2.06 2.06-.94-2.06-.94-.94-2.06-.94 2.06-2.06.94z\"/><path d=\"M17.41 7.96l-1.37-1.37c-.4-.4-.92-.59-1.43-.59-.52 0-1.04.2-1.43.59L10.3 9.45l-7.72 7.72c-.78.78-.78 2.05 0 2.83L4 21.41c.39.39.9.59 1.41.59.51 0 1.02-.2 1.41-.59l7.78-7.78 2.81-2.81c.8-.78.8-2.07 0-2.86zM5.41 20L4 18.59l7.72-7.72 1.47 1.35L5.41 20z\"/>\n",
              "  </svg>\n",
              "      </button>\n",
              "      \n",
              "  <style>\n",
              "    .colab-df-container {\n",
              "      display:flex;\n",
              "      flex-wrap:wrap;\n",
              "      gap: 12px;\n",
              "    }\n",
              "\n",
              "    .colab-df-convert {\n",
              "      background-color: #E8F0FE;\n",
              "      border: none;\n",
              "      border-radius: 50%;\n",
              "      cursor: pointer;\n",
              "      display: none;\n",
              "      fill: #1967D2;\n",
              "      height: 32px;\n",
              "      padding: 0 0 0 0;\n",
              "      width: 32px;\n",
              "    }\n",
              "\n",
              "    .colab-df-convert:hover {\n",
              "      background-color: #E2EBFA;\n",
              "      box-shadow: 0px 1px 2px rgba(60, 64, 67, 0.3), 0px 1px 3px 1px rgba(60, 64, 67, 0.15);\n",
              "      fill: #174EA6;\n",
              "    }\n",
              "\n",
              "    [theme=dark] .colab-df-convert {\n",
              "      background-color: #3B4455;\n",
              "      fill: #D2E3FC;\n",
              "    }\n",
              "\n",
              "    [theme=dark] .colab-df-convert:hover {\n",
              "      background-color: #434B5C;\n",
              "      box-shadow: 0px 1px 3px 1px rgba(0, 0, 0, 0.15);\n",
              "      filter: drop-shadow(0px 1px 2px rgba(0, 0, 0, 0.3));\n",
              "      fill: #FFFFFF;\n",
              "    }\n",
              "  </style>\n",
              "\n",
              "      <script>\n",
              "        const buttonEl =\n",
              "          document.querySelector('#df-36a0becb-ceb3-4e57-b8f0-2d6234486d02 button.colab-df-convert');\n",
              "        buttonEl.style.display =\n",
              "          google.colab.kernel.accessAllowed ? 'block' : 'none';\n",
              "\n",
              "        async function convertToInteractive(key) {\n",
              "          const element = document.querySelector('#df-36a0becb-ceb3-4e57-b8f0-2d6234486d02');\n",
              "          const dataTable =\n",
              "            await google.colab.kernel.invokeFunction('convertToInteractive',\n",
              "                                                     [key], {});\n",
              "          if (!dataTable) return;\n",
              "\n",
              "          const docLinkHtml = 'Like what you see? Visit the ' +\n",
              "            '<a target=\"_blank\" href=https://colab.research.google.com/notebooks/data_table.ipynb>data table notebook</a>'\n",
              "            + ' to learn more about interactive tables.';\n",
              "          element.innerHTML = '';\n",
              "          dataTable['output_type'] = 'display_data';\n",
              "          await google.colab.output.renderOutput(dataTable, element);\n",
              "          const docLink = document.createElement('div');\n",
              "          docLink.innerHTML = docLinkHtml;\n",
              "          element.appendChild(docLink);\n",
              "        }\n",
              "      </script>\n",
              "    </div>\n",
              "  </div>\n",
              "  "
            ]
          },
          "metadata": {},
          "execution_count": 63
        }
      ]
    },
    {
      "cell_type": "code",
      "source": [
        "df.info()"
      ],
      "metadata": {
        "colab": {
          "base_uri": "https://localhost:8080/"
        },
        "id": "UR2UcCgPGgcW",
        "outputId": "123517a2-aba4-4c70-e7a0-402c9dd5164d"
      },
      "execution_count": null,
      "outputs": [
        {
          "output_type": "stream",
          "name": "stdout",
          "text": [
            "<class 'pandas.core.frame.DataFrame'>\n",
            "RangeIndex: 16719 entries, 0 to 16718\n",
            "Data columns (total 3 columns):\n",
            " #   Column        Non-Null Count  Dtype  \n",
            "---  ------        --------------  -----  \n",
            " 0   Critic_Score  8137 non-null   float64\n",
            " 1   Genre         16717 non-null  object \n",
            " 2   Platform      16719 non-null  object \n",
            "dtypes: float64(1), object(2)\n",
            "memory usage: 392.0+ KB\n"
          ]
        }
      ]
    },
    {
      "cell_type": "code",
      "source": [
        "df_nonan = df.loc[df.Critic_Score.isna() == False] # исключаем np.nan для расчета выбросов в \"Critic_Score\"\n",
        "df_nonan.Critic_Score.isna().sum()"
      ],
      "metadata": {
        "colab": {
          "base_uri": "https://localhost:8080/"
        },
        "id": "0fSm4DCQDsjO",
        "outputId": "f98b86d8-7353-461c-ba0f-3a60ed5c6029"
      },
      "execution_count": null,
      "outputs": [
        {
          "output_type": "execute_result",
          "data": {
            "text/plain": [
              "0"
            ]
          },
          "metadata": {},
          "execution_count": 65
        }
      ]
    },
    {
      "cell_type": "code",
      "source": [
        "df_nonan.boxplot() # в \"Critic_Score\" есть выбросы, надо их исключить"
      ],
      "metadata": {
        "colab": {
          "base_uri": "https://localhost:8080/",
          "height": 283
        },
        "id": "W9Cq064GDsUd",
        "outputId": "3d75d27b-85d5-415a-ddbe-a0864e115848"
      },
      "execution_count": null,
      "outputs": [
        {
          "output_type": "execute_result",
          "data": {
            "text/plain": [
              "<matplotlib.axes._subplots.AxesSubplot at 0x7f825c91bad0>"
            ]
          },
          "metadata": {},
          "execution_count": 66
        },
        {
          "output_type": "display_data",
          "data": {
            "text/plain": [
              "<Figure size 432x288 with 1 Axes>"
            ],
            "image/png": "[encoded data removed]"
          },
          "metadata": {
            "needs_background": "light"
          }
        }
      ]
    },
    {
      "cell_type": "code",
      "source": [
        "q1     = df_nonan.Critic_Score.quantile(0.25)\n",
        "q3     = df_nonan.Critic_Score.quantile(0.75)\n",
        "iqr    = q3 - q1                 # межквартильный размах\n",
        "lower_bound  = q1 - (1.45 * iqr) # нижняя граница диапазона\n",
        "higher_bound = q3 + (1.45 * iqr) # верхняя граница диапазона\n",
        "\n",
        "# данные без выбросов:\n",
        "df_without = df_nonan.loc[df_nonan.Critic_Score.between(lower_bound, higher_bound, inclusive = True)]\n",
        "df_without.boxplot()"
      ],
      "metadata": {
        "colab": {
          "base_uri": "https://localhost:8080/",
          "height": 318
        },
        "id": "16zPMUJyD0yF",
        "outputId": "cc82df97-aab7-4f1c-f930-af42d1296dda"
      },
      "execution_count": null,
      "outputs": [
        {
          "output_type": "stream",
          "name": "stderr",
          "text": [
            "/usr/local/lib/python3.7/dist-packages/ipykernel_launcher.py:8: FutureWarning: Boolean inputs to the `inclusive` argument are deprecated infavour of `both` or `neither`.\n",
            "  \n"
          ]
        },
        {
          "output_type": "execute_result",
          "data": {
            "text/plain": [
              "<matplotlib.axes._subplots.AxesSubplot at 0x7f825c7380d0>"
            ]
          },
          "metadata": {},
          "execution_count": 67
        },
        {
          "output_type": "display_data",
          "data": {
            "text/plain": [
              "<Figure size 432x288 with 1 Axes>"
            ],
            "image/png": "[encoded data removed]"
          },
          "metadata": {
            "needs_background": "light"
          }
        }
      ]
    },
    {
      "cell_type": "code",
      "source": [
        "# посмотрим, например, на различие средних ДО и ПОСЛЕ удаления выбросов:\n",
        "print(round(df.Critic_Score.mean(), 1))\n",
        "print(round(df_without.Critic_Score.mean(), 1))"
      ],
      "metadata": {
        "colab": {
          "base_uri": "https://localhost:8080/"
        },
        "id": "0YneRlqtD5xW",
        "outputId": "d81ab4e4-e7fa-419b-aabf-29f66d56f683"
      },
      "execution_count": null,
      "outputs": [
        {
          "output_type": "stream",
          "name": "stdout",
          "text": [
            "69.0\n",
            "69.5\n"
          ]
        }
      ]
    },
    {
      "cell_type": "markdown",
      "source": [
        "**1) Как критики относятся к спортивным играм?**\n",
        "\n"
      ],
      "metadata": {
        "id": "aoZjZmPeDlAg"
      }
    },
    {
      "cell_type": "code",
      "source": [
        "sport = df_without.loc[df_without.Genre == 'Sports']\n",
        "sport.Genre.unique()"
      ],
      "metadata": {
        "id": "05p0GyR44Rte",
        "colab": {
          "base_uri": "https://localhost:8080/"
        },
        "outputId": "a2fe744a-c9e4-4d60-99b3-a6fd0212874b"
      },
      "execution_count": null,
      "outputs": [
        {
          "output_type": "execute_result",
          "data": {
            "text/plain": [
              "array(['Sports'], dtype=object)"
            ]
          },
          "metadata": {},
          "execution_count": 69
        }
      ]
    },
    {
      "cell_type": "code",
      "source": [
        "# H0: среднее отношение критиков к спортивным играм \"Sports\" <= 70 баллов\n",
        "# H1: среднее отношение критиков к спортивным играм \"Sports\" более 70 баллов\n",
        "#     пороговый уровень статистической значимости: 0.05"
      ],
      "metadata": {
        "id": "Q1-nr8zbDf2s"
      },
      "execution_count": null,
      "outputs": []
    },
    {
      "cell_type": "code",
      "source": [
        "res = st.ttest_1samp(sport.Critic_Score, popmean = 70, alternative = 'greater')\n",
        "print(f'pvalue: {res.pvalue:.2e}')\n",
        "print(f'Средняя оценка критиков: {round(sport.Critic_Score.mean(), 1)}')\n",
        "\n",
        "if res.pvalue < 0.05: \n",
        "    print('Отвергаем H0, критикам нравятся спортивные игры.')\n",
        "else:\n",
        "    print('Не отвергаем H0, критики не любят спортивные игры.')"
      ],
      "metadata": {
        "colab": {
          "base_uri": "https://localhost:8080/"
        },
        "id": "M2KPAysKDfss",
        "outputId": "2e920031-1695-46ca-80ea-15cb96ff1d2a"
      },
      "execution_count": null,
      "outputs": [
        {
          "output_type": "stream",
          "name": "stdout",
          "text": [
            "pvalue: 1.15e-12\n",
            "Средняя оценка критиков: 72.7\n",
            "Отвергаем H0, критикам нравятся спортивные игры.\n"
          ]
        }
      ]
    },
    {
      "cell_type": "code",
      "source": [
        "df_without.groupby('Genre')['Critic_Score'].mean().sort_values(ascending = False)\n",
        "\n",
        "# Видим, что в датафрейме БЕЗ выбросов средняя оценка критиков для спортивных игр \"Sports\" находится на 2 месте среди остальных средних оценок по жанрам!\n",
        "# Разрыв по баллам от первого места наблюдается лишь в третьем порядке после запятой!\n",
        "# Следовательно, критикам, в среднем, очень нравятся спортивные игры."
      ],
      "metadata": {
        "id": "HfsAtiScDfhk",
        "colab": {
          "base_uri": "https://localhost:8080/"
        },
        "outputId": "3ca2fa29-a2ba-4a0f-a57b-23e5bdfa3349"
      },
      "execution_count": null,
      "outputs": [
        {
          "output_type": "execute_result",
          "data": {
            "text/plain": [
              "Genre\n",
              "Role-Playing    72.652646\n",
              "Sports          72.650510\n",
              "Strategy        72.086093\n",
              "Shooter         70.616702\n",
              "Fighting        70.162500\n",
              "Simulation      68.726496\n",
              "Racing          68.625171\n",
              "Platform        68.305668\n",
              "Puzzle          67.792793\n",
              "Misc            67.547945\n",
              "Action          67.216971\n",
              "Adventure       65.858934\n",
              "Name: Critic_Score, dtype: float64"
            ]
          },
          "metadata": {},
          "execution_count": 72
        }
      ]
    },
    {
      "cell_type": "code",
      "source": [
        ""
      ],
      "metadata": {
        "id": "WiCsPjEfDfWU"
      },
      "execution_count": null,
      "outputs": []
    },
    {
      "cell_type": "markdown",
      "source": [
        "**2) Критикам нравятся больше игры на PC или на PS4?**"
      ],
      "metadata": {
        "id": "MTjwvl377oSS"
      }
    },
    {
      "cell_type": "code",
      "source": [
        "df_pc  = df_without.loc[df_without.Platform.isin(['PC'])]\n",
        "df_ps4 = df_without.loc[df_without.Platform.isin(['PS4'])]\n",
        "\n",
        "# H0: Критикам в среднем одинаково нравятся игры как на PC, так и на PS4.\n",
        "# H1: Критики в среднем по-разному относятся к играм на PC и PS4.\n",
        "#     пороговый уровень статистической значимости: 0.05"
      ],
      "metadata": {
        "id": "uGSaUf24LXK4"
      },
      "execution_count": null,
      "outputs": []
    },
    {
      "cell_type": "code",
      "source": [
        "print('Средние оценки критиков для')\n",
        "print(f'- игр на PC:  {round(df_pc.Critic_Score.mean(),1)}')\n",
        "print(f'- игр на PS4: {round(df_ps4.Critic_Score.mean(),1)}')\n",
        "\n",
        "result = st.ttest_ind(df_pc.Critic_Score, df_ps4.Critic_Score, equal_var = False)\n",
        "print(f'\\npvalue: {result.pvalue:.2e}')\n",
        "\n",
        "if result.pvalue < 0.05: \n",
        "    print('Отвергаем H0, критики в среднем по-разному относятся к играм на PC и PS4.')\n",
        "else:\n",
        "    print('Не отвергаем H0, критикам в среднем одинаково нравятся игры как на PC, так и на PS4.')\n",
        "\n",
        "# Среднее значение оценок критиков выше для игр на PC. \n",
        "# Следовательно, в среднем, критикам больше нравятся игры на PC, чем на PS4."
      ],
      "metadata": {
        "id": "zPkjAq2DDeOO",
        "colab": {
          "base_uri": "https://localhost:8080/"
        },
        "outputId": "8908c332-a08b-4ba9-c6b4-3d9314b1c65f"
      },
      "execution_count": null,
      "outputs": [
        {
          "output_type": "stream",
          "name": "stdout",
          "text": [
            "Средние оценки критиков для\n",
            "- игр на PC:  75.9\n",
            "- игр на PS4: 72.8\n",
            "\n",
            "pvalue: 1.79e-04\n",
            "Отвергаем H0, критики в среднем по-разному относятся к играм на PC и PS4.\n"
          ]
        }
      ]
    },
    {
      "cell_type": "markdown",
      "source": [
        "The ‘**omit**’ option is **not currently available** for permutation tests or **one-sided** asympyotic tests."
      ],
      "metadata": {
        "id": "2mNcl-sHs5-E"
      }
    },
    {
      "cell_type": "code",
      "source": [
        "# игнорируем пропуски с помощью параметра \"nan_policy\":\n",
        "\n",
        "df_pc_  = df.loc[df.Platform.isin(['PC'])]\n",
        "df_ps4_ = df.loc[df.Platform.isin(['PS4'])]\n",
        "\n",
        "print('Средние оценки критиков для')\n",
        "print(f'- игр на PC:  {round(df_pc_.Critic_Score.mean(),1)}')\n",
        "print(f'- игр на PS4: {round(df_ps4_.Critic_Score.mean(),1)}')\n",
        "\n",
        "result2 = st.ttest_ind(df_pc_.Critic_Score, df_ps4_.Critic_Score, equal_var = False, nan_policy = 'omit')\n",
        "print(f'\\npvalue: {result2.pvalue:.2e}')\n",
        "\n",
        "if result2.pvalue < 0.05: \n",
        "    print('Отвергаем H0, критики в среднем по-разному относятся к играм на PC и PS4.')\n",
        "else:\n",
        "    print('Не отвергаем H0, критикам в среднем одинаково нравятся игры как на PC, так и на PS4.')"
      ],
      "metadata": {
        "id": "kIuViEWwDghQ",
        "colab": {
          "base_uri": "https://localhost:8080/"
        },
        "outputId": "9f18ee9d-0f4e-4636-a6fe-2c6983e3c37b"
      },
      "execution_count": null,
      "outputs": [
        {
          "output_type": "stream",
          "name": "stdout",
          "text": [
            "Средние оценки критиков для\n",
            "- игр на PC:  75.9\n",
            "- игр на PS4: 72.1\n",
            "\n",
            "pvalue: 2.07e-05\n",
            "Отвергаем H0, критики в среднем по-разному относятся к играм на PC и PS4.\n"
          ]
        }
      ]
    },
    {
      "cell_type": "code",
      "source": [
        ""
      ],
      "metadata": {
        "id": "yLlBJK0ysWfF"
      },
      "execution_count": null,
      "outputs": []
    },
    {
      "cell_type": "markdown",
      "source": [
        "**3) Критикам больше нравятся стрелялки или стратегии?**"
      ],
      "metadata": {
        "id": "gOJ7e4GxNd2_"
      }
    },
    {
      "cell_type": "code",
      "source": [
        "shooter  = df_without.loc[df_without.Genre == 'Shooter']\n",
        "strategy = df_without.loc[df_without.Genre == 'Strategy']\n",
        "\n",
        "print('Средние оценки критиков для')\n",
        "print(f'- стрелялок: {round(shooter.Critic_Score.mean(),1)}')\n",
        "print(f'- стратегий: {round(strategy.Critic_Score.mean(),1)}')\n",
        "\n",
        "result_ = st.ttest_ind(shooter.Critic_Score, strategy.Critic_Score, equal_var = False)\n",
        "print(f'\\npvalue: {round(result_.pvalue, 2)}')\n",
        "\n",
        "if result_.pvalue < 0.05: \n",
        "    print('Отвергаем H0, критики в среднем по-разному относятся к стрелялкам и стратегиям.')\n",
        "else:\n",
        "    print('Не отвергаем H0, критикам в среднем одинаково нравятся стрелялки и стратегии.')"
      ],
      "metadata": {
        "id": "yzh88TIQDczf",
        "colab": {
          "base_uri": "https://localhost:8080/"
        },
        "outputId": "a69b9b3c-6cf8-4c55-9298-9eee2461154f"
      },
      "execution_count": null,
      "outputs": [
        {
          "output_type": "stream",
          "name": "stdout",
          "text": [
            "Средние оценки критиков для\n",
            "- стрелялок: 70.6\n",
            "- стратегий: 72.1\n",
            "\n",
            "pvalue: 0.07\n",
            "Не отвергаем H0, критикам в среднем одинаково нравятся стрелялки и стратегии.\n"
          ]
        }
      ]
    },
    {
      "cell_type": "code",
      "source": [
        "# игнорируем пропуски с помощью параметра \"nan_policy\":\n",
        "\n",
        "shooter_  = df.loc[df.Genre == 'Shooter']\n",
        "strategy_ = df.loc[df.Genre == 'Strategy']\n",
        "\n",
        "print('Средние оценки критиков для')\n",
        "print(f'- стрелялок: {round(shooter_.Critic_Score.mean(),1)}')\n",
        "print(f'- стратегий: {round(strategy_.Critic_Score.mean(),1)}')\n",
        "\n",
        "result2_ = st.ttest_ind(shooter_.Critic_Score, strategy_.Critic_Score, equal_var = False, nan_policy = 'omit')\n",
        "print(f'\\npvalue: {round(result2_.pvalue, 2)}')\n",
        "\n",
        "if result2_.pvalue < 0.05: \n",
        "    print('Отвергаем H0, критики в среднем по-разному относятся к стрелялкам и стратегиям.')\n",
        "else:\n",
        "    print('Не отвергаем H0, критикам в среднем одинаково нравятся стрелялки и стратегии.')"
      ],
      "metadata": {
        "id": "-mgoVhmQDb_G",
        "colab": {
          "base_uri": "https://localhost:8080/"
        },
        "outputId": "4b864d41-f5cd-4f74-d8b0-b375df75681d"
      },
      "execution_count": null,
      "outputs": [
        {
          "output_type": "stream",
          "name": "stdout",
          "text": [
            "Средние оценки критиков для\n",
            "- стрелялок: 70.2\n",
            "- стратегий: 72.1\n",
            "\n",
            "pvalue: 0.02\n",
            "Отвергаем H0, критики в среднем по-разному относятся к стрелялкам и стратегиям.\n"
          ]
        }
      ]
    },
    {
      "cell_type": "markdown",
      "source": [
        "С учетом **игнорирования** пропусков и **не**удаления выбросов, получили **другой** результат. "
      ],
      "metadata": {
        "id": "du1OwkZRwMAf"
      }
    },
    {
      "cell_type": "code",
      "source": [
        ""
      ],
      "metadata": {
        "id": "g0EmO8gyuBrv"
      },
      "execution_count": null,
      "outputs": []
    },
    {
      "cell_type": "markdown",
      "source": [
        "# **Задание 2**\n",
        "Реализуйте базовую модель **логистической** регрессии для классификации текстовых сообщений по признаку спама. \n",
        "\n",
        "Для этого:\n",
        "\n",
        "1) Приведите весь текст к нижнему регистру;\n",
        "\n",
        "2) Удалите мусорные символы;\n",
        "\n",
        "3) Удалите стоп-слова;\n",
        "\n",
        "4) Привидите все слова к нормальной форме;\n",
        "\n",
        "5) Преобразуйте все сообщения в вектора TF-IDF.\n",
        "Можете поэкспериментировать с параметрами TfidfVectorizer;\n",
        "\n",
        "6) Разделите данные на тестовые и тренировочные в соотношении 30/70, укажите random_state=42. Используйте train_test_split;\n",
        "\n",
        "7) Постройте модель логистической регрессии, укажите random_state=42, оцените ее точность на тестовых данных;\n",
        "\n",
        "8) Опишите результаты при помощи confusion_matrix;\n",
        "\n",
        "9) Постройте датафрейм, который будет содержать все исходные тексты сообщений, классифицированные неправильно (с указанием фактического и предсказанного)."
      ],
      "metadata": {
        "id": "TiOYB8wsaw4o"
      }
    },
    {
      "cell_type": "code",
      "source": [
        "\n",
        "df_spam = pd.read_csv('https://raw.githubusercontent.com/obulygin/pyda_homeworks/master/stat_case_study/spam.csv')\n",
        "df_spam.head()"
      ],
      "metadata": {
        "colab": {
          "base_uri": "https://localhost:8080/",
          "height": 206
        },
        "id": "JcywXv0ja2rW",
        "outputId": "dcc28d00-9b60-46fc-9d34-e2b8a6db2bca"
      },
      "execution_count": null,
      "outputs": [
        {
          "output_type": "execute_result",
          "data": {
            "text/plain": [
              "  Category                                            Message\n",
              "0      ham  Go until jurong point, crazy.. Available only ...\n",
              "1      ham                      Ok lar... Joking wif u oni...\n",
              "2     spam  Free entry in 2 a wkly comp to win FA Cup fina...\n",
              "3      ham  U dun say so early hor... U c already then say...\n",
              "4      ham  Nah I don't think he goes to usf, he lives aro..."
            ],
            "text/html": [
              "\n",
              "  <div id=\"df-55f670ec-6ceb-412d-a3a0-87a18cedf00c\">\n",
              "    <div class=\"colab-df-container\">\n",
              "      <div>\n",
              "<style scoped>\n",
              "    .dataframe tbody tr th:only-of-type {\n",
              "        vertical-align: middle;\n",
              "    }\n",
              "\n",
              "    .dataframe tbody tr th {\n",
              "        vertical-align: top;\n",
              "    }\n",
              "\n",
              "    .dataframe thead th {\n",
              "        text-align: right;\n",
              "    }\n",
              "</style>\n",
              "<table border=\"1\" class=\"dataframe\">\n",
              "  <thead>\n",
              "    <tr style=\"text-align: right;\">\n",
              "      <th></th>\n",
              "      <th>Category</th>\n",
              "      <th>Message</th>\n",
              "    </tr>\n",
              "  </thead>\n",
              "  <tbody>\n",
              "    <tr>\n",
              "      <th>0</th>\n",
              "      <td>ham</td>\n",
              "      <td>Go until jurong point, crazy.. Available only ...</td>\n",
              "    </tr>\n",
              "    <tr>\n",
              "      <th>1</th>\n",
              "      <td>ham</td>\n",
              "      <td>Ok lar... Joking wif u oni...</td>\n",
              "    </tr>\n",
              "    <tr>\n",
              "      <th>2</th>\n",
              "      <td>spam</td>\n",
              "      <td>Free entry in 2 a wkly comp to win FA Cup fina...</td>\n",
              "    </tr>\n",
              "    <tr>\n",
              "      <th>3</th>\n",
              "      <td>ham</td>\n",
              "      <td>U dun say so early hor... U c already then say...</td>\n",
              "    </tr>\n",
              "    <tr>\n",
              "      <th>4</th>\n",
              "      <td>ham</td>\n",
              "      <td>Nah I don't think he goes to usf, he lives aro...</td>\n",
              "    </tr>\n",
              "  </tbody>\n",
              "</table>\n",
              "</div>\n",
              "      <button class=\"colab-df-convert\" onclick=\"convertToInteractive('df-55f670ec-6ceb-412d-a3a0-87a18cedf00c')\"\n",
              "              title=\"Convert this dataframe to an interactive table.\"\n",
              "              style=\"display:none;\">\n",
              "        \n",
              "  <svg xmlns=\"http://www.w3.org/2000/svg\" height=\"24px\"viewBox=\"0 0 24 24\"\n",
              "       width=\"24px\">\n",
              "    <path d=\"M0 0h24v24H0V0z\" fill=\"none\"/>\n",
              "    <path d=\"M18.56 5.44l.94 2.06.94-2.06 2.06-.94-2.06-.94-.94-2.06-.94 2.06-2.06.94zm-11 1L8.5 8.5l.94-2.06 2.06-.94-2.06-.94L8.5 2.5l-.94 2.06-2.06.94zm10 10l.94 2.06.94-2.06 2.06-.94-2.06-.94-.94-2.06-.94 2.06-2.06.94z\"/><path d=\"M17.41 7.96l-1.37-1.37c-.4-.4-.92-.59-1.43-.59-.52 0-1.04.2-1.43.59L10.3 9.45l-7.72 7.72c-.78.78-.78 2.05 0 2.83L4 21.41c.39.39.9.59 1.41.59.51 0 1.02-.2 1.41-.59l7.78-7.78 2.81-2.81c.8-.78.8-2.07 0-2.86zM5.41 20L4 18.59l7.72-7.72 1.47 1.35L5.41 20z\"/>\n",
              "  </svg>\n",
              "      </button>\n",
              "      \n",
              "  <style>\n",
              "    .colab-df-container {\n",
              "      display:flex;\n",
              "      flex-wrap:wrap;\n",
              "      gap: 12px;\n",
              "    }\n",
              "\n",
              "    .colab-df-convert {\n",
              "      background-color: #E8F0FE;\n",
              "      border: none;\n",
              "      border-radius: 50%;\n",
              "      cursor: pointer;\n",
              "      display: none;\n",
              "      fill: #1967D2;\n",
              "      height: 32px;\n",
              "      padding: 0 0 0 0;\n",
              "      width: 32px;\n",
              "    }\n",
              "\n",
              "    .colab-df-convert:hover {\n",
              "      background-color: #E2EBFA;\n",
              "      box-shadow: 0px 1px 2px rgba(60, 64, 67, 0.3), 0px 1px 3px 1px rgba(60, 64, 67, 0.15);\n",
              "      fill: #174EA6;\n",
              "    }\n",
              "\n",
              "    [theme=dark] .colab-df-convert {\n",
              "      background-color: #3B4455;\n",
              "      fill: #D2E3FC;\n",
              "    }\n",
              "\n",
              "    [theme=dark] .colab-df-convert:hover {\n",
              "      background-color: #434B5C;\n",
              "      box-shadow: 0px 1px 3px 1px rgba(0, 0, 0, 0.15);\n",
              "      filter: drop-shadow(0px 1px 2px rgba(0, 0, 0, 0.3));\n",
              "      fill: #FFFFFF;\n",
              "    }\n",
              "  </style>\n",
              "\n",
              "      <script>\n",
              "        const buttonEl =\n",
              "          document.querySelector('#df-55f670ec-6ceb-412d-a3a0-87a18cedf00c button.colab-df-convert');\n",
              "        buttonEl.style.display =\n",
              "          google.colab.kernel.accessAllowed ? 'block' : 'none';\n",
              "\n",
              "        async function convertToInteractive(key) {\n",
              "          const element = document.querySelector('#df-55f670ec-6ceb-412d-a3a0-87a18cedf00c');\n",
              "          const dataTable =\n",
              "            await google.colab.kernel.invokeFunction('convertToInteractive',\n",
              "                                                     [key], {});\n",
              "          if (!dataTable) return;\n",
              "\n",
              "          const docLinkHtml = 'Like what you see? Visit the ' +\n",
              "            '<a target=\"_blank\" href=https://colab.research.google.com/notebooks/data_table.ipynb>data table notebook</a>'\n",
              "            + ' to learn more about interactive tables.';\n",
              "          element.innerHTML = '';\n",
              "          dataTable['output_type'] = 'display_data';\n",
              "          await google.colab.output.renderOutput(dataTable, element);\n",
              "          const docLink = document.createElement('div');\n",
              "          docLink.innerHTML = docLinkHtml;\n",
              "          element.appendChild(docLink);\n",
              "        }\n",
              "      </script>\n",
              "    </div>\n",
              "  </div>\n",
              "  "
            ]
          },
          "metadata": {},
          "execution_count": 78
        }
      ]
    },
    {
      "cell_type": "code",
      "source": [
        "df_initial = df_spam.copy() # для задачи № 9"
      ],
      "metadata": {
        "id": "FitiGOPpHSKL"
      },
      "execution_count": null,
      "outputs": []
    },
    {
      "cell_type": "code",
      "source": [
        "# привели весь текст к нижнему регистру:\n",
        "df_spam.Message = df_spam.Message.str.lower()\n",
        "df_spam.Message.loc[18]"
      ],
      "metadata": {
        "colab": {
          "base_uri": "https://localhost:8080/",
          "height": 35
        },
        "id": "TpN_h9eYj-lP",
        "outputId": "f442ed57-8ccb-4b01-c3b3-7c613dd412df"
      },
      "execution_count": null,
      "outputs": [
        {
          "output_type": "execute_result",
          "data": {
            "text/plain": [
              "'fine if that\\x92s the way u feel. that\\x92s the way its gota b'"
            ],
            "application/vnd.google.colaboratory.intrinsic+json": {
              "type": "string"
            }
          },
          "metadata": {},
          "execution_count": 80
        }
      ]
    },
    {
      "cell_type": "code",
      "source": [
        "# удалили мусорные символы и символ подчеркивания, заменив их на пробелы:\n",
        "df_spam.Message = df_spam.Message.str.replace(pat = r'[\\W_]+', repl = ' ', regex = True)\n",
        "df_spam.Message.loc[18]"
      ],
      "metadata": {
        "colab": {
          "base_uri": "https://localhost:8080/",
          "height": 35
        },
        "id": "YGDw3kU16JSg",
        "outputId": "4330f708-4cf0-49b9-ab25-cdf12c30aaec"
      },
      "execution_count": null,
      "outputs": [
        {
          "output_type": "execute_result",
          "data": {
            "text/plain": [
              "'fine if that s the way u feel that s the way its gota b'"
            ],
            "application/vnd.google.colaboratory.intrinsic+json": {
              "type": "string"
            }
          },
          "metadata": {},
          "execution_count": 81
        }
      ]
    },
    {
      "cell_type": "code",
      "source": [
        "# разделили английских текст на слова:\n",
        "df_spam.Message = df_spam.Message.str.split(' ')\n",
        "print(df_spam.Message.loc[18])\n",
        "print(f'Число слов в строке № 19 ДО удаления английских стоп-слов: {len(df_spam.Message.loc[18])}.')"
      ],
      "metadata": {
        "colab": {
          "base_uri": "https://localhost:8080/"
        },
        "id": "FosUcmlL6JC_",
        "outputId": "f36f7243-6560-423d-8f82-17b1432e4f8d"
      },
      "execution_count": null,
      "outputs": [
        {
          "output_type": "stream",
          "name": "stdout",
          "text": [
            "['fine', 'if', 'that', 's', 'the', 'way', 'u', 'feel', 'that', 's', 'the', 'way', 'its', 'gota', 'b']\n",
            "Число слов в строке № 19 ДО удаления английских стоп-слов: 15.\n"
          ]
        }
      ]
    },
    {
      "cell_type": "code",
      "source": [
        ""
      ],
      "metadata": {
        "id": "SXqmJcZsMjA8"
      },
      "execution_count": null,
      "outputs": []
    },
    {
      "cell_type": "markdown",
      "source": [
        "**Удаление английских стоп-слов:**"
      ],
      "metadata": {
        "id": "Ihn6PnvD1F--"
      }
    },
    {
      "cell_type": "code",
      "source": [
        "stopwords_set = set(stopwords.words('english'))\n",
        "print(stopwords_set)"
      ],
      "metadata": {
        "id": "rbXaWqxX4WyK",
        "colab": {
          "base_uri": "https://localhost:8080/"
        },
        "outputId": "771758b4-0654-46b0-b064-74315c2a95df"
      },
      "execution_count": null,
      "outputs": [
        {
          "output_type": "stream",
          "name": "stdout",
          "text": [
            "{'is', 'do', 'at', 'are', \"wouldn't\", 'then', 'between', 'in', 've', \"isn't\", \"couldn't\", 'when', 'has', 'have', 'should', 'shouldn', 'were', 'that', 'ain', 'themselves', 'against', 'her', 's', 'before', 'here', 'if', 'our', 'wouldn', 'about', 'under', 'itself', 'him', 'doesn', \"won't\", 'y', 'haven', 'hadn', \"don't\", 'ma', 'couldn', 're', \"you're\", 'd', 'don', 'through', \"you'll\", 'hers', 'they', \"you'd\", 'once', 'whom', 'or', 'he', 'as', 'am', 'm', 'doing', 'be', 'can', 'you', \"didn't\", 'after', 'yours', 'himself', 'own', 'so', 'not', 'while', 'won', 'been', 'herself', 'this', 'aren', 'most', 'didn', 'no', 'but', 'such', \"that'll\", 'my', 'them', 'out', \"you've\", 'll', 'above', 'more', 'below', 'only', 'all', 'few', 'we', \"hadn't\", 'too', 'until', 'further', \"haven't\", 'up', \"aren't\", \"mightn't\", 'with', 'to', 'me', 'off', 'those', 'was', 'will', 'needn', 'its', \"mustn't\", \"it's\", 'i', \"weren't\", 'and', 'ours', 'o', 'over', 'it', 'because', \"needn't\", 'his', 'both', 'again', 'had', 'did', 'she', 'where', 'just', 'a', 't', 'now', 'which', 'having', 'your', 'isn', 'shan', \"shouldn't\", 'other', 'into', 'of', 'yourself', 'nor', 'why', 'mustn', 'theirs', 'yourselves', 'during', 'who', \"shan't\", \"wasn't\", 'does', 'the', 'myself', 'than', 'there', 'wasn', 'from', 'hasn', 'each', 'some', 'being', 'down', 'very', 'their', 'mightn', 'how', \"hasn't\", \"she's\", 'these', 'by', 'on', 'what', 'weren', 'for', 'any', 'an', \"should've\", 'same', 'ourselves', \"doesn't\"}\n"
          ]
        }
      ]
    },
    {
      "cell_type": "code",
      "source": [
        "df_spam.Message = pd.Series([ [word for word in text if word not in stopwords_set] for text in df_spam.Message])\n",
        "print(df_spam.Message.loc[18])\n",
        "print(f'Число слов в строке № 19 ПОСЛЕ удаления английских стоп-слов: {len(df_spam.Message.loc[18])}.')"
      ],
      "metadata": {
        "id": "nltq7TVH7Dxo",
        "colab": {
          "base_uri": "https://localhost:8080/"
        },
        "outputId": "6facf0d8-8451-4f5d-cf63-6f39f691cfdb"
      },
      "execution_count": null,
      "outputs": [
        {
          "output_type": "stream",
          "name": "stdout",
          "text": [
            "['fine', 'way', 'u', 'feel', 'way', 'gota', 'b']\n",
            "Число слов в строке № 19 ПОСЛЕ удаления английских стоп-слов: 7.\n"
          ]
        }
      ]
    },
    {
      "cell_type": "code",
      "source": [
        ""
      ],
      "metadata": {
        "id": "_AfuHSmyMkQD"
      },
      "execution_count": null,
      "outputs": []
    },
    {
      "cell_type": "markdown",
      "source": [
        "**Лемматизация - приведение словоформы к её нормальной (словарной) форме:**"
      ],
      "metadata": {
        "id": "aHRIHSxY1pmR"
      }
    },
    {
      "cell_type": "code",
      "source": [
        "wordnet_lemmatizer = WordNetLemmatizer()\n",
        "df_spam.Message    = pd.Series([ [wordnet_lemmatizer.lemmatize(word) for word in text] for text in df_spam.Message])\n",
        "df_spam.tail()"
      ],
      "metadata": {
        "colab": {
          "base_uri": "https://localhost:8080/",
          "height": 206
        },
        "id": "KwLp_05x1Ag7",
        "outputId": "0baa95f7-491b-48ad-807e-efa16e14fb89"
      },
      "execution_count": null,
      "outputs": [
        {
          "output_type": "execute_result",
          "data": {
            "text/plain": [
              "     Category                                            Message\n",
              "5567     spam  [2nd, time, tried, 2, contact, u, u, 750, poun...\n",
              "5568      ham               [ü, b, going, esplanade, fr, home, ]\n",
              "5569      ham                         [pity, mood, suggestion, ]\n",
              "5570      ham  [guy, bitching, acted, like, interested, buyin...\n",
              "5571      ham                                 [rofl, true, name]"
            ],
            "text/html": [
              "\n",
              "  <div id=\"df-ae8a8327-93ae-4ae6-8afb-87d9b6df09ae\">\n",
              "    <div class=\"colab-df-container\">\n",
              "      <div>\n",
              "<style scoped>\n",
              "    .dataframe tbody tr th:only-of-type {\n",
              "        vertical-align: middle;\n",
              "    }\n",
              "\n",
              "    .dataframe tbody tr th {\n",
              "        vertical-align: top;\n",
              "    }\n",
              "\n",
              "    .dataframe thead th {\n",
              "        text-align: right;\n",
              "    }\n",
              "</style>\n",
              "<table border=\"1\" class=\"dataframe\">\n",
              "  <thead>\n",
              "    <tr style=\"text-align: right;\">\n",
              "      <th></th>\n",
              "      <th>Category</th>\n",
              "      <th>Message</th>\n",
              "    </tr>\n",
              "  </thead>\n",
              "  <tbody>\n",
              "    <tr>\n",
              "      <th>5567</th>\n",
              "      <td>spam</td>\n",
              "      <td>[2nd, time, tried, 2, contact, u, u, 750, poun...</td>\n",
              "    </tr>\n",
              "    <tr>\n",
              "      <th>5568</th>\n",
              "      <td>ham</td>\n",
              "      <td>[ü, b, going, esplanade, fr, home, ]</td>\n",
              "    </tr>\n",
              "    <tr>\n",
              "      <th>5569</th>\n",
              "      <td>ham</td>\n",
              "      <td>[pity, mood, suggestion, ]</td>\n",
              "    </tr>\n",
              "    <tr>\n",
              "      <th>5570</th>\n",
              "      <td>ham</td>\n",
              "      <td>[guy, bitching, acted, like, interested, buyin...</td>\n",
              "    </tr>\n",
              "    <tr>\n",
              "      <th>5571</th>\n",
              "      <td>ham</td>\n",
              "      <td>[rofl, true, name]</td>\n",
              "    </tr>\n",
              "  </tbody>\n",
              "</table>\n",
              "</div>\n",
              "      <button class=\"colab-df-convert\" onclick=\"convertToInteractive('df-ae8a8327-93ae-4ae6-8afb-87d9b6df09ae')\"\n",
              "              title=\"Convert this dataframe to an interactive table.\"\n",
              "              style=\"display:none;\">\n",
              "        \n",
              "  <svg xmlns=\"http://www.w3.org/2000/svg\" height=\"24px\"viewBox=\"0 0 24 24\"\n",
              "       width=\"24px\">\n",
              "    <path d=\"M0 0h24v24H0V0z\" fill=\"none\"/>\n",
              "    <path d=\"M18.56 5.44l.94 2.06.94-2.06 2.06-.94-2.06-.94-.94-2.06-.94 2.06-2.06.94zm-11 1L8.5 8.5l.94-2.06 2.06-.94-2.06-.94L8.5 2.5l-.94 2.06-2.06.94zm10 10l.94 2.06.94-2.06 2.06-.94-2.06-.94-.94-2.06-.94 2.06-2.06.94z\"/><path d=\"M17.41 7.96l-1.37-1.37c-.4-.4-.92-.59-1.43-.59-.52 0-1.04.2-1.43.59L10.3 9.45l-7.72 7.72c-.78.78-.78 2.05 0 2.83L4 21.41c.39.39.9.59 1.41.59.51 0 1.02-.2 1.41-.59l7.78-7.78 2.81-2.81c.8-.78.8-2.07 0-2.86zM5.41 20L4 18.59l7.72-7.72 1.47 1.35L5.41 20z\"/>\n",
              "  </svg>\n",
              "      </button>\n",
              "      \n",
              "  <style>\n",
              "    .colab-df-container {\n",
              "      display:flex;\n",
              "      flex-wrap:wrap;\n",
              "      gap: 12px;\n",
              "    }\n",
              "\n",
              "    .colab-df-convert {\n",
              "      background-color: #E8F0FE;\n",
              "      border: none;\n",
              "      border-radius: 50%;\n",
              "      cursor: pointer;\n",
              "      display: none;\n",
              "      fill: #1967D2;\n",
              "      height: 32px;\n",
              "      padding: 0 0 0 0;\n",
              "      width: 32px;\n",
              "    }\n",
              "\n",
              "    .colab-df-convert:hover {\n",
              "      background-color: #E2EBFA;\n",
              "      box-shadow: 0px 1px 2px rgba(60, 64, 67, 0.3), 0px 1px 3px 1px rgba(60, 64, 67, 0.15);\n",
              "      fill: #174EA6;\n",
              "    }\n",
              "\n",
              "    [theme=dark] .colab-df-convert {\n",
              "      background-color: #3B4455;\n",
              "      fill: #D2E3FC;\n",
              "    }\n",
              "\n",
              "    [theme=dark] .colab-df-convert:hover {\n",
              "      background-color: #434B5C;\n",
              "      box-shadow: 0px 1px 3px 1px rgba(0, 0, 0, 0.15);\n",
              "      filter: drop-shadow(0px 1px 2px rgba(0, 0, 0, 0.3));\n",
              "      fill: #FFFFFF;\n",
              "    }\n",
              "  </style>\n",
              "\n",
              "      <script>\n",
              "        const buttonEl =\n",
              "          document.querySelector('#df-ae8a8327-93ae-4ae6-8afb-87d9b6df09ae button.colab-df-convert');\n",
              "        buttonEl.style.display =\n",
              "          google.colab.kernel.accessAllowed ? 'block' : 'none';\n",
              "\n",
              "        async function convertToInteractive(key) {\n",
              "          const element = document.querySelector('#df-ae8a8327-93ae-4ae6-8afb-87d9b6df09ae');\n",
              "          const dataTable =\n",
              "            await google.colab.kernel.invokeFunction('convertToInteractive',\n",
              "                                                     [key], {});\n",
              "          if (!dataTable) return;\n",
              "\n",
              "          const docLinkHtml = 'Like what you see? Visit the ' +\n",
              "            '<a target=\"_blank\" href=https://colab.research.google.com/notebooks/data_table.ipynb>data table notebook</a>'\n",
              "            + ' to learn more about interactive tables.';\n",
              "          element.innerHTML = '';\n",
              "          dataTable['output_type'] = 'display_data';\n",
              "          await google.colab.output.renderOutput(dataTable, element);\n",
              "          const docLink = document.createElement('div');\n",
              "          docLink.innerHTML = docLinkHtml;\n",
              "          element.appendChild(docLink);\n",
              "        }\n",
              "      </script>\n",
              "    </div>\n",
              "  </div>\n",
              "  "
            ]
          },
          "metadata": {},
          "execution_count": 85
        }
      ]
    },
    {
      "cell_type": "code",
      "source": [
        ""
      ],
      "metadata": {
        "id": "YoyzigSQNvR7"
      },
      "execution_count": null,
      "outputs": []
    },
    {
      "cell_type": "code",
      "source": [
        "# Преобразуйте все сообщения в вектора TF-IDF.\n",
        "\n",
        "df_lemma = df_spam.copy()\n",
        "df_lemma.Message = [\" \".join(word) for word in df_lemma.Message.values]\n",
        "\n",
        "vectorizer    = TfidfVectorizer(stop_words = stopwords_set)\n",
        "\n",
        "vector_matrix = vectorizer.fit_transform(df_lemma.Message)\n",
        "names         = vectorizer.get_feature_names_out()\n",
        "vector_matrix = pd.DataFrame(vector_matrix.toarray(), columns = names)\n",
        "\n",
        "print(vector_matrix.shape)"
      ],
      "metadata": {
        "colab": {
          "base_uri": "https://localhost:8080/"
        },
        "id": "DDYK5BYczN8h",
        "outputId": "d19a4e4c-6e9b-4d62-f279-61d8eb796b68"
      },
      "execution_count": null,
      "outputs": [
        {
          "output_type": "stream",
          "name": "stdout",
          "text": [
            "(5572, 8036)\n"
          ]
        }
      ]
    },
    {
      "cell_type": "code",
      "source": [
        "vector_matrix.tail(3)"
      ],
      "metadata": {
        "colab": {
          "base_uri": "https://localhost:8080/",
          "height": 173
        },
        "id": "onFNr6y3doIK",
        "outputId": "462f89cf-9842-4738-d808-902a3458a564"
      },
      "execution_count": null,
      "outputs": [
        {
          "output_type": "execute_result",
          "data": {
            "text/plain": [
              "       00  000  000pes  008704050406  0089  0121  01223585236  01223585334  \\\n",
              "5569  0.0  0.0     0.0           0.0   0.0   0.0          0.0          0.0   \n",
              "5570  0.0  0.0     0.0           0.0   0.0   0.0          0.0          0.0   \n",
              "5571  0.0  0.0     0.0           0.0   0.0   0.0          0.0          0.0   \n",
              "\n",
              "      0125698789   02  ...  zhong  zindgi  zoe  zogtorius  zoom  zouk  zyada  \\\n",
              "5569         0.0  0.0  ...    0.0     0.0  0.0        0.0   0.0   0.0    0.0   \n",
              "5570         0.0  0.0  ...    0.0     0.0  0.0        0.0   0.0   0.0    0.0   \n",
              "5571         0.0  0.0  ...    0.0     0.0  0.0        0.0   0.0   0.0    0.0   \n",
              "\n",
              "       èn   ú1  〨ud  \n",
              "5569  0.0  0.0  0.0  \n",
              "5570  0.0  0.0  0.0  \n",
              "5571  0.0  0.0  0.0  \n",
              "\n",
              "[3 rows x 8036 columns]"
            ],
            "text/html": [
              "\n",
              "  <div id=\"df-f587604c-9b8f-4571-bb5f-fce1c67be726\">\n",
              "    <div class=\"colab-df-container\">\n",
              "      <div>\n",
              "<style scoped>\n",
              "    .dataframe tbody tr th:only-of-type {\n",
              "        vertical-align: middle;\n",
              "    }\n",
              "\n",
              "    .dataframe tbody tr th {\n",
              "        vertical-align: top;\n",
              "    }\n",
              "\n",
              "    .dataframe thead th {\n",
              "        text-align: right;\n",
              "    }\n",
              "</style>\n",
              "<table border=\"1\" class=\"dataframe\">\n",
              "  <thead>\n",
              "    <tr style=\"text-align: right;\">\n",
              "      <th></th>\n",
              "      <th>00</th>\n",
              "      <th>000</th>\n",
              "      <th>000pes</th>\n",
              "      <th>008704050406</th>\n",
              "      <th>0089</th>\n",
              "      <th>0121</th>\n",
              "      <th>01223585236</th>\n",
              "      <th>01223585334</th>\n",
              "      <th>0125698789</th>\n",
              "      <th>02</th>\n",
              "      <th>...</th>\n",
              "      <th>zhong</th>\n",
              "      <th>zindgi</th>\n",
              "      <th>zoe</th>\n",
              "      <th>zogtorius</th>\n",
              "      <th>zoom</th>\n",
              "      <th>zouk</th>\n",
              "      <th>zyada</th>\n",
              "      <th>èn</th>\n",
              "      <th>ú1</th>\n",
              "      <th>〨ud</th>\n",
              "    </tr>\n",
              "  </thead>\n",
              "  <tbody>\n",
              "    <tr>\n",
              "      <th>5569</th>\n",
              "      <td>0.0</td>\n",
              "      <td>0.0</td>\n",
              "      <td>0.0</td>\n",
              "      <td>0.0</td>\n",
              "      <td>0.0</td>\n",
              "      <td>0.0</td>\n",
              "      <td>0.0</td>\n",
              "      <td>0.0</td>\n",
              "      <td>0.0</td>\n",
              "      <td>0.0</td>\n",
              "      <td>...</td>\n",
              "      <td>0.0</td>\n",
              "      <td>0.0</td>\n",
              "      <td>0.0</td>\n",
              "      <td>0.0</td>\n",
              "      <td>0.0</td>\n",
              "      <td>0.0</td>\n",
              "      <td>0.0</td>\n",
              "      <td>0.0</td>\n",
              "      <td>0.0</td>\n",
              "      <td>0.0</td>\n",
              "    </tr>\n",
              "    <tr>\n",
              "      <th>5570</th>\n",
              "      <td>0.0</td>\n",
              "      <td>0.0</td>\n",
              "      <td>0.0</td>\n",
              "      <td>0.0</td>\n",
              "      <td>0.0</td>\n",
              "      <td>0.0</td>\n",
              "      <td>0.0</td>\n",
              "      <td>0.0</td>\n",
              "      <td>0.0</td>\n",
              "      <td>0.0</td>\n",
              "      <td>...</td>\n",
              "      <td>0.0</td>\n",
              "      <td>0.0</td>\n",
              "      <td>0.0</td>\n",
              "      <td>0.0</td>\n",
              "      <td>0.0</td>\n",
              "      <td>0.0</td>\n",
              "      <td>0.0</td>\n",
              "      <td>0.0</td>\n",
              "      <td>0.0</td>\n",
              "      <td>0.0</td>\n",
              "    </tr>\n",
              "    <tr>\n",
              "      <th>5571</th>\n",
              "      <td>0.0</td>\n",
              "      <td>0.0</td>\n",
              "      <td>0.0</td>\n",
              "      <td>0.0</td>\n",
              "      <td>0.0</td>\n",
              "      <td>0.0</td>\n",
              "      <td>0.0</td>\n",
              "      <td>0.0</td>\n",
              "      <td>0.0</td>\n",
              "      <td>0.0</td>\n",
              "      <td>...</td>\n",
              "      <td>0.0</td>\n",
              "      <td>0.0</td>\n",
              "      <td>0.0</td>\n",
              "      <td>0.0</td>\n",
              "      <td>0.0</td>\n",
              "      <td>0.0</td>\n",
              "      <td>0.0</td>\n",
              "      <td>0.0</td>\n",
              "      <td>0.0</td>\n",
              "      <td>0.0</td>\n",
              "    </tr>\n",
              "  </tbody>\n",
              "</table>\n",
              "<p>3 rows × 8036 columns</p>\n",
              "</div>\n",
              "      <button class=\"colab-df-convert\" onclick=\"convertToInteractive('df-f587604c-9b8f-4571-bb5f-fce1c67be726')\"\n",
              "              title=\"Convert this dataframe to an interactive table.\"\n",
              "              style=\"display:none;\">\n",
              "        \n",
              "  <svg xmlns=\"http://www.w3.org/2000/svg\" height=\"24px\"viewBox=\"0 0 24 24\"\n",
              "       width=\"24px\">\n",
              "    <path d=\"M0 0h24v24H0V0z\" fill=\"none\"/>\n",
              "    <path d=\"M18.56 5.44l.94 2.06.94-2.06 2.06-.94-2.06-.94-.94-2.06-.94 2.06-2.06.94zm-11 1L8.5 8.5l.94-2.06 2.06-.94-2.06-.94L8.5 2.5l-.94 2.06-2.06.94zm10 10l.94 2.06.94-2.06 2.06-.94-2.06-.94-.94-2.06-.94 2.06-2.06.94z\"/><path d=\"M17.41 7.96l-1.37-1.37c-.4-.4-.92-.59-1.43-.59-.52 0-1.04.2-1.43.59L10.3 9.45l-7.72 7.72c-.78.78-.78 2.05 0 2.83L4 21.41c.39.39.9.59 1.41.59.51 0 1.02-.2 1.41-.59l7.78-7.78 2.81-2.81c.8-.78.8-2.07 0-2.86zM5.41 20L4 18.59l7.72-7.72 1.47 1.35L5.41 20z\"/>\n",
              "  </svg>\n",
              "      </button>\n",
              "      \n",
              "  <style>\n",
              "    .colab-df-container {\n",
              "      display:flex;\n",
              "      flex-wrap:wrap;\n",
              "      gap: 12px;\n",
              "    }\n",
              "\n",
              "    .colab-df-convert {\n",
              "      background-color: #E8F0FE;\n",
              "      border: none;\n",
              "      border-radius: 50%;\n",
              "      cursor: pointer;\n",
              "      display: none;\n",
              "      fill: #1967D2;\n",
              "      height: 32px;\n",
              "      padding: 0 0 0 0;\n",
              "      width: 32px;\n",
              "    }\n",
              "\n",
              "    .colab-df-convert:hover {\n",
              "      background-color: #E2EBFA;\n",
              "      box-shadow: 0px 1px 2px rgba(60, 64, 67, 0.3), 0px 1px 3px 1px rgba(60, 64, 67, 0.15);\n",
              "      fill: #174EA6;\n",
              "    }\n",
              "\n",
              "    [theme=dark] .colab-df-convert {\n",
              "      background-color: #3B4455;\n",
              "      fill: #D2E3FC;\n",
              "    }\n",
              "\n",
              "    [theme=dark] .colab-df-convert:hover {\n",
              "      background-color: #434B5C;\n",
              "      box-shadow: 0px 1px 3px 1px rgba(0, 0, 0, 0.15);\n",
              "      filter: drop-shadow(0px 1px 2px rgba(0, 0, 0, 0.3));\n",
              "      fill: #FFFFFF;\n",
              "    }\n",
              "  </style>\n",
              "\n",
              "      <script>\n",
              "        const buttonEl =\n",
              "          document.querySelector('#df-f587604c-9b8f-4571-bb5f-fce1c67be726 button.colab-df-convert');\n",
              "        buttonEl.style.display =\n",
              "          google.colab.kernel.accessAllowed ? 'block' : 'none';\n",
              "\n",
              "        async function convertToInteractive(key) {\n",
              "          const element = document.querySelector('#df-f587604c-9b8f-4571-bb5f-fce1c67be726');\n",
              "          const dataTable =\n",
              "            await google.colab.kernel.invokeFunction('convertToInteractive',\n",
              "                                                     [key], {});\n",
              "          if (!dataTable) return;\n",
              "\n",
              "          const docLinkHtml = 'Like what you see? Visit the ' +\n",
              "            '<a target=\"_blank\" href=https://colab.research.google.com/notebooks/data_table.ipynb>data table notebook</a>'\n",
              "            + ' to learn more about interactive tables.';\n",
              "          element.innerHTML = '';\n",
              "          dataTable['output_type'] = 'display_data';\n",
              "          await google.colab.output.renderOutput(dataTable, element);\n",
              "          const docLink = document.createElement('div');\n",
              "          docLink.innerHTML = docLinkHtml;\n",
              "          element.appendChild(docLink);\n",
              "        }\n",
              "      </script>\n",
              "    </div>\n",
              "  </div>\n",
              "  "
            ]
          },
          "metadata": {},
          "execution_count": 87
        }
      ]
    },
    {
      "cell_type": "code",
      "source": [
        ""
      ],
      "metadata": {
        "id": "SaFBZ8qulT-U"
      },
      "execution_count": null,
      "outputs": []
    },
    {
      "cell_type": "markdown",
      "source": [
        "**Модель логистической регрессии для классификации текстовых сообщений по признаку спама**"
      ],
      "metadata": {
        "id": "SAdpXC9ynAHr"
      }
    },
    {
      "cell_type": "code",
      "source": [
        "# создаем целевой признак, класс спама: например, ham == 0, spam == 1\n",
        "\n",
        "df_spam.loc[df_spam.Category == 'ham', 'Category'] = 0\n",
        "df_spam.loc[df_spam.Category == 'spam', 'Category'] = 1\n",
        "\n",
        "df_spam.Category = df_spam.Category.astype(int)\n",
        "df_spam.Category.value_counts()"
      ],
      "metadata": {
        "colab": {
          "base_uri": "https://localhost:8080/"
        },
        "id": "IFCFm3vSnFOq",
        "outputId": "87535bd7-1cb4-4387-f7c3-ca6acdbca4ce"
      },
      "execution_count": null,
      "outputs": [
        {
          "output_type": "execute_result",
          "data": {
            "text/plain": [
              "0    4825\n",
              "1     747\n",
              "Name: Category, dtype: int64"
            ]
          },
          "metadata": {},
          "execution_count": 88
        }
      ]
    },
    {
      "cell_type": "code",
      "source": [
        "# Разделяем данные на тестовые и тренировочные в соотношении 30/70\n",
        "# стратификация сохраняет пропорцию распределения данных в целевом столбце и отображает ту же пропорцию распределения в train_test_split\n",
        "\n",
        "X_train, X_test, y_train, y_test = train_test_split(vector_matrix, df_spam.Category, test_size = 0.30, random_state = 42, stratify = df_spam.Category)\n",
        "\n",
        "lr = LogisticRegression(random_state = 42)\n",
        "lr.fit(X_train, y_train) # обучаем данные"
      ],
      "metadata": {
        "colab": {
          "base_uri": "https://localhost:8080/"
        },
        "id": "c0Kht2qFmVaF",
        "outputId": "a4c052eb-3f5e-4099-8691-cfefc1415954"
      },
      "execution_count": null,
      "outputs": [
        {
          "output_type": "execute_result",
          "data": {
            "text/plain": [
              "LogisticRegression(random_state=42)"
            ]
          },
          "metadata": {},
          "execution_count": 89
        }
      ]
    },
    {
      "cell_type": "code",
      "source": [
        "# делаем прогноз на тестовой выборке\n",
        "y_predict = lr.predict(X_test)\n",
        "\n",
        "# Точность работы модели LogisticRegression на тестовых данных:\n",
        "print(f'Модель дает {round(accuracy_score(y_test, y_predict), 2) * 100} % правильно спрогнозированных выборок среди всех тестовых.')"
      ],
      "metadata": {
        "colab": {
          "base_uri": "https://localhost:8080/"
        },
        "id": "tPy8obexrb79",
        "outputId": "acd86b4c-e07f-4956-d8a7-3c8d13f091eb"
      },
      "execution_count": null,
      "outputs": [
        {
          "output_type": "stream",
          "name": "stdout",
          "text": [
            "Модель дает 95.0 % правильно спрогнозированных выборок среди всех тестовых.\n"
          ]
        }
      ]
    },
    {
      "cell_type": "code",
      "source": [
        "print('Матрица ошибок: результаты работы модели LogisticRegression:') \n",
        "LR_result = confusion_matrix(y_test, y_predict)\n",
        "LR_result"
      ],
      "metadata": {
        "colab": {
          "base_uri": "https://localhost:8080/"
        },
        "id": "u0Bnnlluss16",
        "outputId": "2aeb4815-9228-4816-a25a-2a941166f9db"
      },
      "execution_count": null,
      "outputs": [
        {
          "output_type": "stream",
          "name": "stdout",
          "text": [
            "Матрица ошибок: результаты работы модели LogisticRegression:\n"
          ]
        },
        {
          "output_type": "execute_result",
          "data": {
            "text/plain": [
              "array([[1447,    1],\n",
              "       [  75,  149]])"
            ]
          },
          "metadata": {},
          "execution_count": 91
        }
      ]
    },
    {
      "cell_type": "code",
      "source": [
        "true_negatives, false_positives, false_negatives, true_positives = confusion_matrix(y_test, y_predict).ravel()\n",
        "\n",
        "print(f'Истино-отрицательное предсказание: {true_negatives}')\n",
        "print(f'- модель верно предсказала, что {LR_result[0][0]} текстовых сообщений имеют признак спама = 0, т.е. \"ham\".\\n')\n",
        "\n",
        "print(f'Ложно-положительное предсказание:  {false_positives}')\n",
        "print(f'- модель ошибочно предсказала, что {LR_result[0][1]} текстовых сообщений имеют признак спама = 1 (\"spam\").')\n",
        "print('- Эти сообщения имеют другой тип спама, т.е. \"ham\".\\n')\n",
        "\n",
        "print(f'Ложно-отрицательное предсказание:  {false_negatives}')\n",
        "print(f'- модель ошибочно предсказала, что {LR_result[1][0]} текстовых сообщений имеют признак спама = 0 (\"ham\").')\n",
        "print('- Эти сообщения имеют другой тип спама, т.е. \"spam\".\\n')\n",
        "\n",
        "print(f'Истино-положительное предсказание: {true_positives}')\n",
        "print(f'- модель верно предсказала, что {LR_result[1][1]} текстовых сообщений имеют признак спама = 1, т.е. \"spam\".\\n')\n",
        "\n",
        "print('ВЫВОД: модель логистической регрессии с хорошей точностью провела классификацию текстовых сообщений по признаку спама.')\n",
        "\n",
        "# ham == 0 (False == 0), spam == 1 (True == 1):"
      ],
      "metadata": {
        "colab": {
          "base_uri": "https://localhost:8080/"
        },
        "id": "Z4w9TxxFzQOj",
        "outputId": "8a5eeca6-977a-4fc3-ce48-4dbad1c1df58"
      },
      "execution_count": null,
      "outputs": [
        {
          "output_type": "stream",
          "name": "stdout",
          "text": [
            "Истино-отрицательное предсказание: 1447\n",
            "- модель верно предсказала, что 1447 текстовых сообщений имеют признак спама = 0, т.е. \"ham\".\n",
            "\n",
            "Ложно-положительное предсказание:  1\n",
            "- модель ошибочно предсказала, что 1 текстовых сообщений имеют признак спама = 1 (\"spam\").\n",
            "- Эти сообщения имеют другой тип спама, т.е. \"ham\".\n",
            "\n",
            "Ложно-отрицательное предсказание:  75\n",
            "- модель ошибочно предсказала, что 75 текстовых сообщений имеют признак спама = 0 (\"ham\").\n",
            "- Эти сообщения имеют другой тип спама, т.е. \"spam\".\n",
            "\n",
            "Истино-положительное предсказание: 149\n",
            "- модель верно предсказала, что 149 текстовых сообщений имеют признак спама = 1, т.е. \"spam\".\n",
            "\n",
            "ВЫВОД: модель логистической регрессии с хорошей точностью провела классификацию текстовых сообщений по признаку спама.\n"
          ]
        }
      ]
    },
    {
      "cell_type": "code",
      "source": [
        "# Постройте датафрейм, который будет содержать все исходные тексты сообщений, \n",
        "# классифицированные НЕправильно (с указанием фактического и предсказанного).\n",
        "\n",
        "df_result = pd.DataFrame({'Fact': y_test, 'Predict': y_predict})\n",
        "df_result = df_result.loc[df_result.Fact != df_result.Predict]\n",
        "# df_result['initial_text_of_Message'] = df_initial.Message\n",
        "df_result = df_result.join(df_initial[['Message']])\n",
        "df_result"
      ],
      "metadata": {
        "colab": {
          "base_uri": "https://localhost:8080/",
          "height": 424
        },
        "id": "P-wMv9NgVK3x",
        "outputId": "e00d36ce-8022-4390-a98f-dd3727f935cc"
      },
      "execution_count": null,
      "outputs": [
        {
          "output_type": "execute_result",
          "data": {
            "text/plain": [
              "      Fact  Predict                                            Message\n",
              "2699     1        0                           FROM 88066 LOST £12 HELP\n",
              "5466     1        0  http//tms. widelive.com/index. wml?id=820554ad...\n",
              "5098     1        0  TheMob>Hit the link to get a premium Pink Pant...\n",
              "4571     1        0  Wanna have a laugh? Try CHIT-CHAT on your mobi...\n",
              "2574     1        0  Congrats 2 mobile 3G Videophones R yours. call...\n",
              "...    ...      ...                                                ...\n",
              "880      1        0  U have a Secret Admirer who is looking 2 make ...\n",
              "1623     1        0  U have a secret admirer who is looking 2 make ...\n",
              "751      1        0  Do you realize that in about 40 years, we'll h...\n",
              "3750     1        0  Dear Voucher Holder 2 claim your 1st class air...\n",
              "1430     1        0  For sale - arsenal dartboard. Good condition b...\n",
              "\n",
              "[76 rows x 3 columns]"
            ],
            "text/html": [
              "\n",
              "  <div id=\"df-9028f9dc-4bf8-4ffd-869d-a62014f886de\">\n",
              "    <div class=\"colab-df-container\">\n",
              "      <div>\n",
              "<style scoped>\n",
              "    .dataframe tbody tr th:only-of-type {\n",
              "        vertical-align: middle;\n",
              "    }\n",
              "\n",
              "    .dataframe tbody tr th {\n",
              "        vertical-align: top;\n",
              "    }\n",
              "\n",
              "    .dataframe thead th {\n",
              "        text-align: right;\n",
              "    }\n",
              "</style>\n",
              "<table border=\"1\" class=\"dataframe\">\n",
              "  <thead>\n",
              "    <tr style=\"text-align: right;\">\n",
              "      <th></th>\n",
              "      <th>Fact</th>\n",
              "      <th>Predict</th>\n",
              "      <th>Message</th>\n",
              "    </tr>\n",
              "  </thead>\n",
              "  <tbody>\n",
              "    <tr>\n",
              "      <th>2699</th>\n",
              "      <td>1</td>\n",
              "      <td>0</td>\n",
              "      <td>FROM 88066 LOST £12 HELP</td>\n",
              "    </tr>\n",
              "    <tr>\n",
              "      <th>5466</th>\n",
              "      <td>1</td>\n",
              "      <td>0</td>\n",
              "      <td>http//tms. widelive.com/index. wml?id=820554ad...</td>\n",
              "    </tr>\n",
              "    <tr>\n",
              "      <th>5098</th>\n",
              "      <td>1</td>\n",
              "      <td>0</td>\n",
              "      <td>TheMob&gt;Hit the link to get a premium Pink Pant...</td>\n",
              "    </tr>\n",
              "    <tr>\n",
              "      <th>4571</th>\n",
              "      <td>1</td>\n",
              "      <td>0</td>\n",
              "      <td>Wanna have a laugh? Try CHIT-CHAT on your mobi...</td>\n",
              "    </tr>\n",
              "    <tr>\n",
              "      <th>2574</th>\n",
              "      <td>1</td>\n",
              "      <td>0</td>\n",
              "      <td>Congrats 2 mobile 3G Videophones R yours. call...</td>\n",
              "    </tr>\n",
              "    <tr>\n",
              "      <th>...</th>\n",
              "      <td>...</td>\n",
              "      <td>...</td>\n",
              "      <td>...</td>\n",
              "    </tr>\n",
              "    <tr>\n",
              "      <th>880</th>\n",
              "      <td>1</td>\n",
              "      <td>0</td>\n",
              "      <td>U have a Secret Admirer who is looking 2 make ...</td>\n",
              "    </tr>\n",
              "    <tr>\n",
              "      <th>1623</th>\n",
              "      <td>1</td>\n",
              "      <td>0</td>\n",
              "      <td>U have a secret admirer who is looking 2 make ...</td>\n",
              "    </tr>\n",
              "    <tr>\n",
              "      <th>751</th>\n",
              "      <td>1</td>\n",
              "      <td>0</td>\n",
              "      <td>Do you realize that in about 40 years, we'll h...</td>\n",
              "    </tr>\n",
              "    <tr>\n",
              "      <th>3750</th>\n",
              "      <td>1</td>\n",
              "      <td>0</td>\n",
              "      <td>Dear Voucher Holder 2 claim your 1st class air...</td>\n",
              "    </tr>\n",
              "    <tr>\n",
              "      <th>1430</th>\n",
              "      <td>1</td>\n",
              "      <td>0</td>\n",
              "      <td>For sale - arsenal dartboard. Good condition b...</td>\n",
              "    </tr>\n",
              "  </tbody>\n",
              "</table>\n",
              "<p>76 rows × 3 columns</p>\n",
              "</div>\n",
              "      <button class=\"colab-df-convert\" onclick=\"convertToInteractive('df-9028f9dc-4bf8-4ffd-869d-a62014f886de')\"\n",
              "              title=\"Convert this dataframe to an interactive table.\"\n",
              "              style=\"display:none;\">\n",
              "        \n",
              "  <svg xmlns=\"http://www.w3.org/2000/svg\" height=\"24px\"viewBox=\"0 0 24 24\"\n",
              "       width=\"24px\">\n",
              "    <path d=\"M0 0h24v24H0V0z\" fill=\"none\"/>\n",
              "    <path d=\"M18.56 5.44l.94 2.06.94-2.06 2.06-.94-2.06-.94-.94-2.06-.94 2.06-2.06.94zm-11 1L8.5 8.5l.94-2.06 2.06-.94-2.06-.94L8.5 2.5l-.94 2.06-2.06.94zm10 10l.94 2.06.94-2.06 2.06-.94-2.06-.94-.94-2.06-.94 2.06-2.06.94z\"/><path d=\"M17.41 7.96l-1.37-1.37c-.4-.4-.92-.59-1.43-.59-.52 0-1.04.2-1.43.59L10.3 9.45l-7.72 7.72c-.78.78-.78 2.05 0 2.83L4 21.41c.39.39.9.59 1.41.59.51 0 1.02-.2 1.41-.59l7.78-7.78 2.81-2.81c.8-.78.8-2.07 0-2.86zM5.41 20L4 18.59l7.72-7.72 1.47 1.35L5.41 20z\"/>\n",
              "  </svg>\n",
              "      </button>\n",
              "      \n",
              "  <style>\n",
              "    .colab-df-container {\n",
              "      display:flex;\n",
              "      flex-wrap:wrap;\n",
              "      gap: 12px;\n",
              "    }\n",
              "\n",
              "    .colab-df-convert {\n",
              "      background-color: #E8F0FE;\n",
              "      border: none;\n",
              "      border-radius: 50%;\n",
              "      cursor: pointer;\n",
              "      display: none;\n",
              "      fill: #1967D2;\n",
              "      height: 32px;\n",
              "      padding: 0 0 0 0;\n",
              "      width: 32px;\n",
              "    }\n",
              "\n",
              "    .colab-df-convert:hover {\n",
              "      background-color: #E2EBFA;\n",
              "      box-shadow: 0px 1px 2px rgba(60, 64, 67, 0.3), 0px 1px 3px 1px rgba(60, 64, 67, 0.15);\n",
              "      fill: #174EA6;\n",
              "    }\n",
              "\n",
              "    [theme=dark] .colab-df-convert {\n",
              "      background-color: #3B4455;\n",
              "      fill: #D2E3FC;\n",
              "    }\n",
              "\n",
              "    [theme=dark] .colab-df-convert:hover {\n",
              "      background-color: #434B5C;\n",
              "      box-shadow: 0px 1px 3px 1px rgba(0, 0, 0, 0.15);\n",
              "      filter: drop-shadow(0px 1px 2px rgba(0, 0, 0, 0.3));\n",
              "      fill: #FFFFFF;\n",
              "    }\n",
              "  </style>\n",
              "\n",
              "      <script>\n",
              "        const buttonEl =\n",
              "          document.querySelector('#df-9028f9dc-4bf8-4ffd-869d-a62014f886de button.colab-df-convert');\n",
              "        buttonEl.style.display =\n",
              "          google.colab.kernel.accessAllowed ? 'block' : 'none';\n",
              "\n",
              "        async function convertToInteractive(key) {\n",
              "          const element = document.querySelector('#df-9028f9dc-4bf8-4ffd-869d-a62014f886de');\n",
              "          const dataTable =\n",
              "            await google.colab.kernel.invokeFunction('convertToInteractive',\n",
              "                                                     [key], {});\n",
              "          if (!dataTable) return;\n",
              "\n",
              "          const docLinkHtml = 'Like what you see? Visit the ' +\n",
              "            '<a target=\"_blank\" href=https://colab.research.google.com/notebooks/data_table.ipynb>data table notebook</a>'\n",
              "            + ' to learn more about interactive tables.';\n",
              "          element.innerHTML = '';\n",
              "          dataTable['output_type'] = 'display_data';\n",
              "          await google.colab.output.renderOutput(dataTable, element);\n",
              "          const docLink = document.createElement('div');\n",
              "          docLink.innerHTML = docLinkHtml;\n",
              "          element.appendChild(docLink);\n",
              "        }\n",
              "      </script>\n",
              "    </div>\n",
              "  </div>\n",
              "  "
            ]
          },
          "metadata": {},
          "execution_count": 93
        }
      ]
    },
    {
      "cell_type": "markdown",
      "source": [
        "Таким образом, согласно матрице ошибок получили датафрейм из строк с **неверно** предсказанными значениями моделью **логистической** регрессии при классификации текстовых сообщений по признаку спама."
      ],
      "metadata": {
        "id": "Q7p5R6pZZ7Mg"
      }
    },
    {
      "cell_type": "code",
      "source": [
        "# https://dyakonov.org/2016/11/14/%D1%81%D0%BB%D1%83%D1%87%D0%B0%D0%B9%D0%BD%D1%8B%D0%B9-%D0%BB%D0%B5%D1%81-random-forest/\n",
        "from sklearn.ensemble import RandomForestClassifier\n",
        "\n",
        "rfc = RandomForestClassifier(n_estimators = 1000, n_jobs = -1, random_state = 42)\n",
        "rfc.fit(X_train, y_train)\n",
        "y_pred_rfc = rfc.predict(X_test)"
      ],
      "metadata": {
        "id": "3XyjgMOpTFiJ"
      },
      "execution_count": null,
      "outputs": []
    },
    {
      "cell_type": "code",
      "source": [
        "# recall_score - для минимизации ложноотрицательных прогнозов, выдаваемых моделями\n",
        "\n",
        "print(f'LogisticRegression:     {round(recall_score(y_test, y_predict),4)}')\n",
        "print(f'RandomForestClassifier: {round(recall_score(y_test, y_pred_rfc),4)}')"
      ],
      "metadata": {
        "colab": {
          "base_uri": "https://localhost:8080/"
        },
        "id": "4AHF_JdvD9bb",
        "outputId": "285a5102-59a1-447f-af10-2c2bb2996b8f"
      },
      "execution_count": null,
      "outputs": [
        {
          "output_type": "stream",
          "name": "stdout",
          "text": [
            "LogisticRegression:     0.6652\n",
            "RandomForestClassifier: 0.8214\n"
          ]
        }
      ]
    },
    {
      "cell_type": "code",
      "source": [
        "print('Матрица ошибок: результаты работы модели RandomForestClassifier:') \n",
        "print(confusion_matrix(y_test, y_pred_rfc))"
      ],
      "metadata": {
        "colab": {
          "base_uri": "https://localhost:8080/"
        },
        "id": "je1KA69xOmHy",
        "outputId": "a4da531c-be1d-44d6-bd0e-49b77edfa868"
      },
      "execution_count": null,
      "outputs": [
        {
          "output_type": "stream",
          "name": "stdout",
          "text": [
            "Матрица ошибок: результаты работы модели RandomForestClassifier:\n",
            "[[1448    0]\n",
            " [  40  184]]\n"
          ]
        }
      ]
    },
    {
      "cell_type": "code",
      "source": [
        "print('Матрица ошибок: результаты работы модели LogisticRegression:') \n",
        "print(confusion_matrix(y_test, y_predict))"
      ],
      "metadata": {
        "colab": {
          "base_uri": "https://localhost:8080/"
        },
        "id": "XAwtBkDsP764",
        "outputId": "e65f24eb-7369-4a05-bf3d-f40b5264bc51"
      },
      "execution_count": null,
      "outputs": [
        {
          "output_type": "stream",
          "name": "stdout",
          "text": [
            "Матрица ошибок: результаты работы модели LogisticRegression:\n",
            "[[1447    1]\n",
            " [  75  149]]\n"
          ]
        }
      ]
    },
    {
      "cell_type": "markdown",
      "source": [
        "**Вывод:** Наименьшее число ложноотрицательных прогнозов дает модель на основе алгоритма **RandomForestClassifier**."
      ],
      "metadata": {
        "id": "IVxBCcuc_rth"
      }
    }
  ]
}