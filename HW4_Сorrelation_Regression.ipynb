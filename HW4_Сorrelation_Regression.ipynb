{
  "nbformat": 4,
  "nbformat_minor": 0,
  "metadata": {
    "colab": {
      "name": "HW4_Сorrelation_Regression.ipynb",
      "provenance": [],
      "collapsed_sections": [],
      "mount_file_id": "1TB9ZO4fIZGOr26zTF0Jo4R9nLUBxtHjs",
      "authorship_tag": "ABX9TyNREx0hHNrgl8tISThiN2XP"
    },
    "kernelspec": {
      "name": "python3",
      "display_name": "Python 3"
    },
    "language_info": {
      "name": "python"
    }
  },
  "cells": [
    {
      "cell_type": "code",
      "execution_count": 42,
      "metadata": {
        "id": "8qNNiZG0Mwvw"
      },
      "outputs": [],
      "source": [
        "from sklearn.datasets import load_boston\n",
        "import pandas as pd\n",
        "import matplotlib.pyplot as plt\n",
        "import seaborn as sns\n",
        "import numpy as np\n",
        "\n",
        "plt.rc('figure', figsize = [10,5])\n",
        "plt.rc('axes', titlesize = 14)\n",
        "plt.rc('axes', labelsize = 14)\n",
        "plt.rc('axes', titlepad = 15)"
      ]
    },
    {
      "cell_type": "markdown",
      "source": [
        "## **Задание 1.**\n",
        "Ответить на вопрос: есть ли связь между жёсткостью воды и средней годовой смертностью?\n",
        "\n",
        "*   Построить точечный график\n",
        "*   Рассчитать коэффициенты корреляции Пирсона и Спирмена\n",
        "*   Построить модель линейной регрессии\n",
        "*   Рассчитать коэффициент детерминации\n",
        "*   Вывести график остатков\n",
        "\n",
        "\n",
        "\n",
        "\n"
      ],
      "metadata": {
        "id": "v8DkMhxOM9c1"
      }
    },
    {
      "cell_type": "code",
      "source": [
        "df = pd.read_csv('https://raw.githubusercontent.com/ArkadiyDrozdov/pyda-31_Python/main/data/water.csv')\n",
        "df.info()\n",
        "# данные по средней годовой смертности на # 100000 населения и концентрации кальция в питьевой воде \n",
        "# для 61 большого города в Англии и Уэльсе."
      ],
      "metadata": {
        "colab": {
          "base_uri": "https://localhost:8080/"
        },
        "id": "zfvLZFPmNqqm",
        "outputId": "5337fdf7-0dcd-46e9-9aca-5f0c830dd20d"
      },
      "execution_count": 2,
      "outputs": [
        {
          "output_type": "stream",
          "name": "stdout",
          "text": [
            "<class 'pandas.core.frame.DataFrame'>\n",
            "RangeIndex: 61 entries, 0 to 60\n",
            "Data columns (total 5 columns):\n",
            " #   Column      Non-Null Count  Dtype \n",
            "---  ------      --------------  ----- \n",
            " 0   Unnamed: 0  61 non-null     int64 \n",
            " 1   location    61 non-null     object\n",
            " 2   town        61 non-null     object\n",
            " 3   mortality   61 non-null     int64 \n",
            " 4   hardness    61 non-null     int64 \n",
            "dtypes: int64(3), object(2)\n",
            "memory usage: 2.5+ KB\n"
          ]
        }
      ]
    },
    {
      "cell_type": "code",
      "source": [
        "df.head(3)\n",
        "# mortality\t- смертность, hardness - жесткость"
      ],
      "metadata": {
        "colab": {
          "base_uri": "https://localhost:8080/",
          "height": 143
        },
        "id": "8KwWi8NEOyuG",
        "outputId": "7ff6e1d3-f37c-44fe-ac17-04030a67d16a"
      },
      "execution_count": 3,
      "outputs": [
        {
          "output_type": "execute_result",
          "data": {
            "text/plain": [
              "   Unnamed: 0 location        town  mortality  hardness\n",
              "0           1    South        Bath       1247       105\n",
              "1           2    North  Birkenhead       1668        17\n",
              "2           3    South  Birmingham       1466         5"
            ],
            "text/html": [
              "\n",
              "  <div id=\"df-24579b7e-14a0-4d2a-9c54-cebeb82fc203\">\n",
              "    <div class=\"colab-df-container\">\n",
              "      <div>\n",
              "<style scoped>\n",
              "    .dataframe tbody tr th:only-of-type {\n",
              "        vertical-align: middle;\n",
              "    }\n",
              "\n",
              "    .dataframe tbody tr th {\n",
              "        vertical-align: top;\n",
              "    }\n",
              "\n",
              "    .dataframe thead th {\n",
              "        text-align: right;\n",
              "    }\n",
              "</style>\n",
              "<table border=\"1\" class=\"dataframe\">\n",
              "  <thead>\n",
              "    <tr style=\"text-align: right;\">\n",
              "      <th></th>\n",
              "      <th>Unnamed: 0</th>\n",
              "      <th>location</th>\n",
              "      <th>town</th>\n",
              "      <th>mortality</th>\n",
              "      <th>hardness</th>\n",
              "    </tr>\n",
              "  </thead>\n",
              "  <tbody>\n",
              "    <tr>\n",
              "      <th>0</th>\n",
              "      <td>1</td>\n",
              "      <td>South</td>\n",
              "      <td>Bath</td>\n",
              "      <td>1247</td>\n",
              "      <td>105</td>\n",
              "    </tr>\n",
              "    <tr>\n",
              "      <th>1</th>\n",
              "      <td>2</td>\n",
              "      <td>North</td>\n",
              "      <td>Birkenhead</td>\n",
              "      <td>1668</td>\n",
              "      <td>17</td>\n",
              "    </tr>\n",
              "    <tr>\n",
              "      <th>2</th>\n",
              "      <td>3</td>\n",
              "      <td>South</td>\n",
              "      <td>Birmingham</td>\n",
              "      <td>1466</td>\n",
              "      <td>5</td>\n",
              "    </tr>\n",
              "  </tbody>\n",
              "</table>\n",
              "</div>\n",
              "      <button class=\"colab-df-convert\" onclick=\"convertToInteractive('df-24579b7e-14a0-4d2a-9c54-cebeb82fc203')\"\n",
              "              title=\"Convert this dataframe to an interactive table.\"\n",
              "              style=\"display:none;\">\n",
              "        \n",
              "  <svg xmlns=\"http://www.w3.org/2000/svg\" height=\"24px\"viewBox=\"0 0 24 24\"\n",
              "       width=\"24px\">\n",
              "    <path d=\"M0 0h24v24H0V0z\" fill=\"none\"/>\n",
              "    <path d=\"M18.56 5.44l.94 2.06.94-2.06 2.06-.94-2.06-.94-.94-2.06-.94 2.06-2.06.94zm-11 1L8.5 8.5l.94-2.06 2.06-.94-2.06-.94L8.5 2.5l-.94 2.06-2.06.94zm10 10l.94 2.06.94-2.06 2.06-.94-2.06-.94-.94-2.06-.94 2.06-2.06.94z\"/><path d=\"M17.41 7.96l-1.37-1.37c-.4-.4-.92-.59-1.43-.59-.52 0-1.04.2-1.43.59L10.3 9.45l-7.72 7.72c-.78.78-.78 2.05 0 2.83L4 21.41c.39.39.9.59 1.41.59.51 0 1.02-.2 1.41-.59l7.78-7.78 2.81-2.81c.8-.78.8-2.07 0-2.86zM5.41 20L4 18.59l7.72-7.72 1.47 1.35L5.41 20z\"/>\n",
              "  </svg>\n",
              "      </button>\n",
              "      \n",
              "  <style>\n",
              "    .colab-df-container {\n",
              "      display:flex;\n",
              "      flex-wrap:wrap;\n",
              "      gap: 12px;\n",
              "    }\n",
              "\n",
              "    .colab-df-convert {\n",
              "      background-color: #E8F0FE;\n",
              "      border: none;\n",
              "      border-radius: 50%;\n",
              "      cursor: pointer;\n",
              "      display: none;\n",
              "      fill: #1967D2;\n",
              "      height: 32px;\n",
              "      padding: 0 0 0 0;\n",
              "      width: 32px;\n",
              "    }\n",
              "\n",
              "    .colab-df-convert:hover {\n",
              "      background-color: #E2EBFA;\n",
              "      box-shadow: 0px 1px 2px rgba(60, 64, 67, 0.3), 0px 1px 3px 1px rgba(60, 64, 67, 0.15);\n",
              "      fill: #174EA6;\n",
              "    }\n",
              "\n",
              "    [theme=dark] .colab-df-convert {\n",
              "      background-color: #3B4455;\n",
              "      fill: #D2E3FC;\n",
              "    }\n",
              "\n",
              "    [theme=dark] .colab-df-convert:hover {\n",
              "      background-color: #434B5C;\n",
              "      box-shadow: 0px 1px 3px 1px rgba(0, 0, 0, 0.15);\n",
              "      filter: drop-shadow(0px 1px 2px rgba(0, 0, 0, 0.3));\n",
              "      fill: #FFFFFF;\n",
              "    }\n",
              "  </style>\n",
              "\n",
              "      <script>\n",
              "        const buttonEl =\n",
              "          document.querySelector('#df-24579b7e-14a0-4d2a-9c54-cebeb82fc203 button.colab-df-convert');\n",
              "        buttonEl.style.display =\n",
              "          google.colab.kernel.accessAllowed ? 'block' : 'none';\n",
              "\n",
              "        async function convertToInteractive(key) {\n",
              "          const element = document.querySelector('#df-24579b7e-14a0-4d2a-9c54-cebeb82fc203');\n",
              "          const dataTable =\n",
              "            await google.colab.kernel.invokeFunction('convertToInteractive',\n",
              "                                                     [key], {});\n",
              "          if (!dataTable) return;\n",
              "\n",
              "          const docLinkHtml = 'Like what you see? Visit the ' +\n",
              "            '<a target=\"_blank\" href=https://colab.research.google.com/notebooks/data_table.ipynb>data table notebook</a>'\n",
              "            + ' to learn more about interactive tables.';\n",
              "          element.innerHTML = '';\n",
              "          dataTable['output_type'] = 'display_data';\n",
              "          await google.colab.output.renderOutput(dataTable, element);\n",
              "          const docLink = document.createElement('div');\n",
              "          docLink.innerHTML = docLinkHtml;\n",
              "          element.appendChild(docLink);\n",
              "        }\n",
              "      </script>\n",
              "    </div>\n",
              "  </div>\n",
              "  "
            ]
          },
          "metadata": {},
          "execution_count": 3
        }
      ]
    },
    {
      "cell_type": "code",
      "source": [
        "df[['mortality', 'hardness']].plot(kind = 'box')\n",
        "plt.show()\n",
        "# выбросов нет, от которых сильно зависит коэффициент корреляции"
      ],
      "metadata": {
        "colab": {
          "base_uri": "https://localhost:8080/",
          "height": 320
        },
        "id": "syrRALN4_T6f",
        "outputId": "fb5e40cb-7dad-4956-b7f1-3d3280018b36"
      },
      "execution_count": 43,
      "outputs": [
        {
          "output_type": "display_data",
          "data": {
            "text/plain": [
              "<Figure size 720x360 with 1 Axes>"
            ],
            "image/png": "[encoded data removed]"
          },
          "metadata": {
            "needs_background": "light"
          }
        }
      ]
    },
    {
      "cell_type": "code",
      "source": [
        "df.plot(kind = 'scatter', x = 'hardness', y = 'mortality', color = 'blue',\\\n",
        "        xlabel = 'жёсткость воды', ylabel = 'средняя годовая смертность')\n",
        "plt.title('Выявление связи между жёсткостью воды и средней годовой смертностью')\n",
        "plt.show()"
      ],
      "metadata": {
        "colab": {
          "base_uri": "https://localhost:8080/",
          "height": 364
        },
        "id": "386oM8QTPkHU",
        "outputId": "4011a782-96f7-4327-f22c-85422d02a34e"
      },
      "execution_count": 45,
      "outputs": [
        {
          "output_type": "display_data",
          "data": {
            "text/plain": [
              "<Figure size 720x360 with 1 Axes>"
            ],
            "image/png": "[encoded data removed]"
          },
          "metadata": {
            "needs_background": "light"
          }
        }
      ]
    },
    {
      "cell_type": "markdown",
      "source": [
        "**Вывод из графика:** наибольшая средняя годовая смертность наблюдается для воды с низкой жесткостью и наоборот.\n",
        "\n",
        "Таким образом, представленная зависимость **обратно пропорциональная**.\n",
        "\n",
        "Хотя по моей информации, продолжительное использование жесткой воды **отрицательно** влияет на здоровье человека. Но информации о влиянии длительности использования такой воды на здоровье в исходных данных нет."
      ],
      "metadata": {
        "id": "AIAsS9i1QYJr"
      }
    },
    {
      "cell_type": "code",
      "source": [
        "# линейный коэффициент корреляции Пирсона:\n",
        "df[['hardness', 'mortality']].corr()"
      ],
      "metadata": {
        "colab": {
          "base_uri": "https://localhost:8080/",
          "height": 112
        },
        "id": "VEK7qMZ_T5yF",
        "outputId": "fcd03291-d792-4794-c833-d591074217a1"
      },
      "execution_count": 6,
      "outputs": [
        {
          "output_type": "execute_result",
          "data": {
            "text/plain": [
              "           hardness  mortality\n",
              "hardness   1.000000  -0.654849\n",
              "mortality -0.654849   1.000000"
            ],
            "text/html": [
              "\n",
              "  <div id=\"df-d3129684-1f6d-45c3-b7a2-904030f103b5\">\n",
              "    <div class=\"colab-df-container\">\n",
              "      <div>\n",
              "<style scoped>\n",
              "    .dataframe tbody tr th:only-of-type {\n",
              "        vertical-align: middle;\n",
              "    }\n",
              "\n",
              "    .dataframe tbody tr th {\n",
              "        vertical-align: top;\n",
              "    }\n",
              "\n",
              "    .dataframe thead th {\n",
              "        text-align: right;\n",
              "    }\n",
              "</style>\n",
              "<table border=\"1\" class=\"dataframe\">\n",
              "  <thead>\n",
              "    <tr style=\"text-align: right;\">\n",
              "      <th></th>\n",
              "      <th>hardness</th>\n",
              "      <th>mortality</th>\n",
              "    </tr>\n",
              "  </thead>\n",
              "  <tbody>\n",
              "    <tr>\n",
              "      <th>hardness</th>\n",
              "      <td>1.000000</td>\n",
              "      <td>-0.654849</td>\n",
              "    </tr>\n",
              "    <tr>\n",
              "      <th>mortality</th>\n",
              "      <td>-0.654849</td>\n",
              "      <td>1.000000</td>\n",
              "    </tr>\n",
              "  </tbody>\n",
              "</table>\n",
              "</div>\n",
              "      <button class=\"colab-df-convert\" onclick=\"convertToInteractive('df-d3129684-1f6d-45c3-b7a2-904030f103b5')\"\n",
              "              title=\"Convert this dataframe to an interactive table.\"\n",
              "              style=\"display:none;\">\n",
              "        \n",
              "  <svg xmlns=\"http://www.w3.org/2000/svg\" height=\"24px\"viewBox=\"0 0 24 24\"\n",
              "       width=\"24px\">\n",
              "    <path d=\"M0 0h24v24H0V0z\" fill=\"none\"/>\n",
              "    <path d=\"M18.56 5.44l.94 2.06.94-2.06 2.06-.94-2.06-.94-.94-2.06-.94 2.06-2.06.94zm-11 1L8.5 8.5l.94-2.06 2.06-.94-2.06-.94L8.5 2.5l-.94 2.06-2.06.94zm10 10l.94 2.06.94-2.06 2.06-.94-2.06-.94-.94-2.06-.94 2.06-2.06.94z\"/><path d=\"M17.41 7.96l-1.37-1.37c-.4-.4-.92-.59-1.43-.59-.52 0-1.04.2-1.43.59L10.3 9.45l-7.72 7.72c-.78.78-.78 2.05 0 2.83L4 21.41c.39.39.9.59 1.41.59.51 0 1.02-.2 1.41-.59l7.78-7.78 2.81-2.81c.8-.78.8-2.07 0-2.86zM5.41 20L4 18.59l7.72-7.72 1.47 1.35L5.41 20z\"/>\n",
              "  </svg>\n",
              "      </button>\n",
              "      \n",
              "  <style>\n",
              "    .colab-df-container {\n",
              "      display:flex;\n",
              "      flex-wrap:wrap;\n",
              "      gap: 12px;\n",
              "    }\n",
              "\n",
              "    .colab-df-convert {\n",
              "      background-color: #E8F0FE;\n",
              "      border: none;\n",
              "      border-radius: 50%;\n",
              "      cursor: pointer;\n",
              "      display: none;\n",
              "      fill: #1967D2;\n",
              "      height: 32px;\n",
              "      padding: 0 0 0 0;\n",
              "      width: 32px;\n",
              "    }\n",
              "\n",
              "    .colab-df-convert:hover {\n",
              "      background-color: #E2EBFA;\n",
              "      box-shadow: 0px 1px 2px rgba(60, 64, 67, 0.3), 0px 1px 3px 1px rgba(60, 64, 67, 0.15);\n",
              "      fill: #174EA6;\n",
              "    }\n",
              "\n",
              "    [theme=dark] .colab-df-convert {\n",
              "      background-color: #3B4455;\n",
              "      fill: #D2E3FC;\n",
              "    }\n",
              "\n",
              "    [theme=dark] .colab-df-convert:hover {\n",
              "      background-color: #434B5C;\n",
              "      box-shadow: 0px 1px 3px 1px rgba(0, 0, 0, 0.15);\n",
              "      filter: drop-shadow(0px 1px 2px rgba(0, 0, 0, 0.3));\n",
              "      fill: #FFFFFF;\n",
              "    }\n",
              "  </style>\n",
              "\n",
              "      <script>\n",
              "        const buttonEl =\n",
              "          document.querySelector('#df-d3129684-1f6d-45c3-b7a2-904030f103b5 button.colab-df-convert');\n",
              "        buttonEl.style.display =\n",
              "          google.colab.kernel.accessAllowed ? 'block' : 'none';\n",
              "\n",
              "        async function convertToInteractive(key) {\n",
              "          const element = document.querySelector('#df-d3129684-1f6d-45c3-b7a2-904030f103b5');\n",
              "          const dataTable =\n",
              "            await google.colab.kernel.invokeFunction('convertToInteractive',\n",
              "                                                     [key], {});\n",
              "          if (!dataTable) return;\n",
              "\n",
              "          const docLinkHtml = 'Like what you see? Visit the ' +\n",
              "            '<a target=\"_blank\" href=https://colab.research.google.com/notebooks/data_table.ipynb>data table notebook</a>'\n",
              "            + ' to learn more about interactive tables.';\n",
              "          element.innerHTML = '';\n",
              "          dataTable['output_type'] = 'display_data';\n",
              "          await google.colab.output.renderOutput(dataTable, element);\n",
              "          const docLink = document.createElement('div');\n",
              "          docLink.innerHTML = docLinkHtml;\n",
              "          element.appendChild(docLink);\n",
              "        }\n",
              "      </script>\n",
              "    </div>\n",
              "  </div>\n",
              "  "
            ]
          },
          "metadata": {},
          "execution_count": 6
        }
      ]
    },
    {
      "cell_type": "code",
      "source": [
        "# линейный коэффициент корреляции Спирмена:\n",
        "df[['hardness', 'mortality']].corr(method = 'spearman')"
      ],
      "metadata": {
        "colab": {
          "base_uri": "https://localhost:8080/",
          "height": 112
        },
        "id": "eRCTaqMKV4oo",
        "outputId": "f7dd0129-3c0c-40d6-b5a3-ef12420b4ffd"
      },
      "execution_count": 7,
      "outputs": [
        {
          "output_type": "execute_result",
          "data": {
            "text/plain": [
              "           hardness  mortality\n",
              "hardness   1.000000  -0.631665\n",
              "mortality -0.631665   1.000000"
            ],
            "text/html": [
              "\n",
              "  <div id=\"df-785a3805-5c85-4523-bbd5-c3775d928371\">\n",
              "    <div class=\"colab-df-container\">\n",
              "      <div>\n",
              "<style scoped>\n",
              "    .dataframe tbody tr th:only-of-type {\n",
              "        vertical-align: middle;\n",
              "    }\n",
              "\n",
              "    .dataframe tbody tr th {\n",
              "        vertical-align: top;\n",
              "    }\n",
              "\n",
              "    .dataframe thead th {\n",
              "        text-align: right;\n",
              "    }\n",
              "</style>\n",
              "<table border=\"1\" class=\"dataframe\">\n",
              "  <thead>\n",
              "    <tr style=\"text-align: right;\">\n",
              "      <th></th>\n",
              "      <th>hardness</th>\n",
              "      <th>mortality</th>\n",
              "    </tr>\n",
              "  </thead>\n",
              "  <tbody>\n",
              "    <tr>\n",
              "      <th>hardness</th>\n",
              "      <td>1.000000</td>\n",
              "      <td>-0.631665</td>\n",
              "    </tr>\n",
              "    <tr>\n",
              "      <th>mortality</th>\n",
              "      <td>-0.631665</td>\n",
              "      <td>1.000000</td>\n",
              "    </tr>\n",
              "  </tbody>\n",
              "</table>\n",
              "</div>\n",
              "      <button class=\"colab-df-convert\" onclick=\"convertToInteractive('df-785a3805-5c85-4523-bbd5-c3775d928371')\"\n",
              "              title=\"Convert this dataframe to an interactive table.\"\n",
              "              style=\"display:none;\">\n",
              "        \n",
              "  <svg xmlns=\"http://www.w3.org/2000/svg\" height=\"24px\"viewBox=\"0 0 24 24\"\n",
              "       width=\"24px\">\n",
              "    <path d=\"M0 0h24v24H0V0z\" fill=\"none\"/>\n",
              "    <path d=\"M18.56 5.44l.94 2.06.94-2.06 2.06-.94-2.06-.94-.94-2.06-.94 2.06-2.06.94zm-11 1L8.5 8.5l.94-2.06 2.06-.94-2.06-.94L8.5 2.5l-.94 2.06-2.06.94zm10 10l.94 2.06.94-2.06 2.06-.94-2.06-.94-.94-2.06-.94 2.06-2.06.94z\"/><path d=\"M17.41 7.96l-1.37-1.37c-.4-.4-.92-.59-1.43-.59-.52 0-1.04.2-1.43.59L10.3 9.45l-7.72 7.72c-.78.78-.78 2.05 0 2.83L4 21.41c.39.39.9.59 1.41.59.51 0 1.02-.2 1.41-.59l7.78-7.78 2.81-2.81c.8-.78.8-2.07 0-2.86zM5.41 20L4 18.59l7.72-7.72 1.47 1.35L5.41 20z\"/>\n",
              "  </svg>\n",
              "      </button>\n",
              "      \n",
              "  <style>\n",
              "    .colab-df-container {\n",
              "      display:flex;\n",
              "      flex-wrap:wrap;\n",
              "      gap: 12px;\n",
              "    }\n",
              "\n",
              "    .colab-df-convert {\n",
              "      background-color: #E8F0FE;\n",
              "      border: none;\n",
              "      border-radius: 50%;\n",
              "      cursor: pointer;\n",
              "      display: none;\n",
              "      fill: #1967D2;\n",
              "      height: 32px;\n",
              "      padding: 0 0 0 0;\n",
              "      width: 32px;\n",
              "    }\n",
              "\n",
              "    .colab-df-convert:hover {\n",
              "      background-color: #E2EBFA;\n",
              "      box-shadow: 0px 1px 2px rgba(60, 64, 67, 0.3), 0px 1px 3px 1px rgba(60, 64, 67, 0.15);\n",
              "      fill: #174EA6;\n",
              "    }\n",
              "\n",
              "    [theme=dark] .colab-df-convert {\n",
              "      background-color: #3B4455;\n",
              "      fill: #D2E3FC;\n",
              "    }\n",
              "\n",
              "    [theme=dark] .colab-df-convert:hover {\n",
              "      background-color: #434B5C;\n",
              "      box-shadow: 0px 1px 3px 1px rgba(0, 0, 0, 0.15);\n",
              "      filter: drop-shadow(0px 1px 2px rgba(0, 0, 0, 0.3));\n",
              "      fill: #FFFFFF;\n",
              "    }\n",
              "  </style>\n",
              "\n",
              "      <script>\n",
              "        const buttonEl =\n",
              "          document.querySelector('#df-785a3805-5c85-4523-bbd5-c3775d928371 button.colab-df-convert');\n",
              "        buttonEl.style.display =\n",
              "          google.colab.kernel.accessAllowed ? 'block' : 'none';\n",
              "\n",
              "        async function convertToInteractive(key) {\n",
              "          const element = document.querySelector('#df-785a3805-5c85-4523-bbd5-c3775d928371');\n",
              "          const dataTable =\n",
              "            await google.colab.kernel.invokeFunction('convertToInteractive',\n",
              "                                                     [key], {});\n",
              "          if (!dataTable) return;\n",
              "\n",
              "          const docLinkHtml = 'Like what you see? Visit the ' +\n",
              "            '<a target=\"_blank\" href=https://colab.research.google.com/notebooks/data_table.ipynb>data table notebook</a>'\n",
              "            + ' to learn more about interactive tables.';\n",
              "          element.innerHTML = '';\n",
              "          dataTable['output_type'] = 'display_data';\n",
              "          await google.colab.output.renderOutput(dataTable, element);\n",
              "          const docLink = document.createElement('div');\n",
              "          docLink.innerHTML = docLinkHtml;\n",
              "          element.appendChild(docLink);\n",
              "        }\n",
              "      </script>\n",
              "    </div>\n",
              "  </div>\n",
              "  "
            ]
          },
          "metadata": {},
          "execution_count": 7
        }
      ]
    },
    {
      "cell_type": "code",
      "source": [
        "# разница между разными коэффициентами корреляции совсем небольшая:\n",
        "round(df[['mortality', 'hardness']].corr(method = 'spearman')['mortality']['hardness'] -\\\n",
        "df[['mortality', 'hardness']].corr()['mortality']['hardness'], 3)"
      ],
      "metadata": {
        "colab": {
          "base_uri": "https://localhost:8080/"
        },
        "id": "OlnKWgC5Xsor",
        "outputId": "df740012-aabf-4806-8015-a54634f05157"
      },
      "execution_count": 8,
      "outputs": [
        {
          "output_type": "execute_result",
          "data": {
            "text/plain": [
              "0.023"
            ]
          },
          "metadata": {},
          "execution_count": 8
        }
      ]
    },
    {
      "cell_type": "markdown",
      "source": [
        "Оба коэффициента корреляции, ожидаемо, получились отрицательными, что согласуется с точечным графиком. \n",
        "\n",
        "Взаимосвязь жесткости воды и средней годовой смертности - **обратная**."
      ],
      "metadata": {
        "id": "uGBiVRRUWsm2"
      }
    },
    {
      "cell_type": "markdown",
      "source": [
        "**Построение модели линейной регрессии**"
      ],
      "metadata": {
        "id": "X4FP5bakaKqK"
      }
    },
    {
      "cell_type": "code",
      "source": [
        "from sklearn.linear_model import LinearRegression\n",
        "from sklearn.model_selection import train_test_split"
      ],
      "metadata": {
        "id": "SwFQtnBDbeo8"
      },
      "execution_count": 9,
      "outputs": []
    },
    {
      "cell_type": "code",
      "source": [
        "X = df[['hardness']] # независимая переменная, type - pandas.core.frame.DataFrame\n",
        "y = df['mortality']  # зависимая переменная,   type - pandas.core.series.Series\n",
        "# регрессия простая, т.к. она между двумя переменными\n",
        "# форма регрессии - прямая линия y = ax + b"
      ],
      "metadata": {
        "id": "If0BKfBCWK6s"
      },
      "execution_count": 10,
      "outputs": []
    },
    {
      "cell_type": "code",
      "source": [
        "X_train, X_test, y_train, y_test = train_test_split(X, y, test_size = 0.30, random_state = 42)\n",
        "print(X_test.shape)\n",
        "print(X_train.shape)"
      ],
      "metadata": {
        "colab": {
          "base_uri": "https://localhost:8080/"
        },
        "id": "C0MDnDigcfyU",
        "outputId": "ac3f5ea4-f277-47b3-8908-03ab189718a3"
      },
      "execution_count": 11,
      "outputs": [
        {
          "output_type": "stream",
          "name": "stdout",
          "text": [
            "(19, 1)\n",
            "(42, 1)\n"
          ]
        }
      ]
    },
    {
      "cell_type": "code",
      "source": [
        "model = LinearRegression()   # линейная форма регрессии\n",
        "model.fit(X_train, y_train)  # метод обучается на данных и подбирает оптимальные коэффициенты уравнения прямой\n",
        "\n",
        "print(model.coef_)\n",
        "print(model.intercept_)"
      ],
      "metadata": {
        "colab": {
          "base_uri": "https://localhost:8080/"
        },
        "id": "_F6Sf-ArduT0",
        "outputId": "101ce7e2-d897-44f8-8919-4bcb7828a170"
      },
      "execution_count": 12,
      "outputs": [
        {
          "output_type": "stream",
          "name": "stdout",
          "text": [
            "[-3.13167087]\n",
            "1668.9722977277095\n"
          ]
        }
      ]
    },
    {
      "cell_type": "markdown",
      "source": [
        "Таким образом, мы подобрали коэффициенты для уравнения прямой:  **y = -3.13 * x + 1668.97**"
      ],
      "metadata": {
        "id": "zngqRDULehiK"
      }
    },
    {
      "cell_type": "code",
      "source": [
        "# получаем предсказанные значения смертности на основе тестовых данных жесткости воды\n",
        "y_pred = model.predict(X_test) \n",
        "y_pred"
      ],
      "metadata": {
        "colab": {
          "base_uri": "https://localhost:8080/"
        },
        "id": "TLz6zFuPqFoM",
        "outputId": "b1df8cbd-495f-418e-9021-88e9b9e36dca"
      },
      "execution_count": 13,
      "outputs": [
        {
          "output_type": "execute_result",
          "data": {
            "text/plain": [
              "array([1340.14685615, 1637.65558901, 1625.12890552, 1531.17877935,\n",
              "       1424.7019697 , 1606.33888028, 1252.46007173, 1434.09698232,\n",
              "       1603.20720941, 1650.18227249, 1484.20371627, 1415.30695708,\n",
              "       1546.83713371, 1625.12890552, 1446.62366581, 1546.83713371,\n",
              "       1637.65558901, 1621.99723465, 1352.67353964])"
            ]
          },
          "metadata": {},
          "execution_count": 13
        }
      ]
    },
    {
      "cell_type": "markdown",
      "source": [
        "**Коэффициент детерминации:**"
      ],
      "metadata": {
        "id": "lfo0wOFJfh1H"
      }
    },
    {
      "cell_type": "code",
      "source": [
        "model.score(X_test, y_test)"
      ],
      "metadata": {
        "colab": {
          "base_uri": "https://localhost:8080/"
        },
        "id": "cSHIc9aHfavs",
        "outputId": "f381da40-9c3e-413f-f38f-271a911e526b"
      },
      "execution_count": 14,
      "outputs": [
        {
          "output_type": "execute_result",
          "data": {
            "text/plain": [
              "0.5046490611017092"
            ]
          },
          "metadata": {},
          "execution_count": 14
        }
      ]
    },
    {
      "cell_type": "markdown",
      "source": [
        "Видим, что коэффициент детерминации положителен и равен 0.505.\n",
        "\n",
        "Следовательно, **наша модель** делает прогноз **лучше** чем наивная модель (оценка через среднее значение)."
      ],
      "metadata": {
        "id": "BPoBaw7mzPLg"
      }
    },
    {
      "cell_type": "code",
      "source": [
        "plt.scatter(X_test, y_test, color = 'blue', label = 'test')\n",
        "plt.scatter(X_train, y_train, color = '#11bf31', label = 'train')\n",
        "plt.plot(X_test, y_pred, color = '#ff0000', label = 'форма регрессии: прямая линия')\n",
        "plt.legend(loc = 'best')\n",
        "plt.title('Построение модели линейной регрессии')\n",
        "plt.xlabel('жёсткость воды')\n",
        "plt.ylabel('средняя годовая смертность')\n",
        "plt.show()"
      ],
      "metadata": {
        "colab": {
          "base_uri": "https://localhost:8080/",
          "height": 364
        },
        "id": "KPr7udwphlea",
        "outputId": "0bb78439-35f3-4430-d4a3-0ba8e5f645ae"
      },
      "execution_count": 46,
      "outputs": [
        {
          "output_type": "display_data",
          "data": {
            "text/plain": [
              "<Figure size 720x360 with 1 Axes>"
            ],
            "image/png": "[encoded data removed]"
          },
          "metadata": {
            "needs_background": "light"
          }
        }
      ]
    },
    {
      "cell_type": "markdown",
      "source": [
        "В среднем все точки на диаграмме равноудалены от красной линии регрессии. Выбросов нет. \n",
        "\n",
        "Т.е. наша модель применима к исходным данным."
      ],
      "metadata": {
        "id": "zCsic8QRUu6u"
      }
    },
    {
      "cell_type": "markdown",
      "source": [
        "**Анализ остатков**"
      ],
      "metadata": {
        "id": "bTAv6kVKhaES"
      }
    },
    {
      "cell_type": "code",
      "source": [
        "residuals = y_test - y_pred # считаем остатки между фактом (тестовой выборкой) и прогнозом\n",
        "\n",
        "plt.scatter(y_pred, residuals, color = 'blue')\n",
        "plt.title('Анализ остатков')\n",
        "plt.ylabel('остатки')\n",
        "plt.xlabel('средняя годовая смертность на основе прогноза')\n",
        "plt.show()"
      ],
      "metadata": {
        "colab": {
          "base_uri": "https://localhost:8080/",
          "height": 364
        },
        "id": "0--ddqfVhbc0",
        "outputId": "bde559b8-196a-412b-d62d-9fe6bfa3ef41"
      },
      "execution_count": 47,
      "outputs": [
        {
          "output_type": "display_data",
          "data": {
            "text/plain": [
              "<Figure size 720x360 with 1 Axes>"
            ],
            "image/png": "[encoded data removed]"
          },
          "metadata": {
            "needs_background": "light"
          }
        }
      ]
    },
    {
      "cell_type": "code",
      "source": [
        "residuals.plot(kind = 'hist', bins = 50, density = True, color = 'blue')\n",
        "plt.title('Гистограмма остатков')\n",
        "plt.show()"
      ],
      "metadata": {
        "colab": {
          "base_uri": "https://localhost:8080/",
          "height": 346
        },
        "id": "U6Zcz1uIIY4c",
        "outputId": "72fc1011-3179-4ece-c22f-c953d82ca164"
      },
      "execution_count": 48,
      "outputs": [
        {
          "output_type": "display_data",
          "data": {
            "text/plain": [
              "<Figure size 720x360 with 1 Axes>"
            ],
            "image/png": "[encoded data removed]"
          },
          "metadata": {
            "needs_background": "light"
          }
        }
      ]
    },
    {
      "cell_type": "markdown",
      "source": [
        "**Вывод:** на точечном графике остатков в чередовании знаков не вижу заметных закономерностей, выбросы отсутствуют. \n",
        "\n",
        "Из гистограммы остатков не вижу, чтобы наша модель ошибалась достаточно хаотично.\n",
        "\n",
        "В итоге считаю, что **связь** между жёсткостью воды и средней годовой смертностью хоть и **присутствует**, но эта связь очень слабая."
      ],
      "metadata": {
        "id": "F65pOGOGotPU"
      }
    },
    {
      "cell_type": "markdown",
      "source": [
        "## **Задание 2.**\n",
        "Ответить на вопрос: сохраняется ли аналогичная зависимость для северных и южных городов по отдельности?\n",
        "\n",
        "* Разделить данные на 2 группы\n",
        "* Повторить аналогичные шаги из пункта 1 для каждой группы по отдельности"
      ],
      "metadata": {
        "id": "PqiN4bn9_Xt_"
      }
    },
    {
      "cell_type": "code",
      "source": [
        "# Первая группа - южные города\n",
        "dfS = df[df.location == 'South'].drop('Unnamed: 0', axis = 1)\n",
        "dfS.head(3)"
      ],
      "metadata": {
        "colab": {
          "base_uri": "https://localhost:8080/",
          "height": 143
        },
        "id": "6IbcC1lI_3uv",
        "outputId": "179a4319-d4e0-41b5-c6bb-a8f906ea045d"
      },
      "execution_count": 18,
      "outputs": [
        {
          "output_type": "execute_result",
          "data": {
            "text/plain": [
              "  location         town  mortality  hardness\n",
              "0    South         Bath       1247       105\n",
              "2    South   Birmingham       1466         5\n",
              "7    South  Bournemouth       1299        78"
            ],
            "text/html": [
              "\n",
              "  <div id=\"df-c20f74f8-cc12-4843-848e-438a50155701\">\n",
              "    <div class=\"colab-df-container\">\n",
              "      <div>\n",
              "<style scoped>\n",
              "    .dataframe tbody tr th:only-of-type {\n",
              "        vertical-align: middle;\n",
              "    }\n",
              "\n",
              "    .dataframe tbody tr th {\n",
              "        vertical-align: top;\n",
              "    }\n",
              "\n",
              "    .dataframe thead th {\n",
              "        text-align: right;\n",
              "    }\n",
              "</style>\n",
              "<table border=\"1\" class=\"dataframe\">\n",
              "  <thead>\n",
              "    <tr style=\"text-align: right;\">\n",
              "      <th></th>\n",
              "      <th>location</th>\n",
              "      <th>town</th>\n",
              "      <th>mortality</th>\n",
              "      <th>hardness</th>\n",
              "    </tr>\n",
              "  </thead>\n",
              "  <tbody>\n",
              "    <tr>\n",
              "      <th>0</th>\n",
              "      <td>South</td>\n",
              "      <td>Bath</td>\n",
              "      <td>1247</td>\n",
              "      <td>105</td>\n",
              "    </tr>\n",
              "    <tr>\n",
              "      <th>2</th>\n",
              "      <td>South</td>\n",
              "      <td>Birmingham</td>\n",
              "      <td>1466</td>\n",
              "      <td>5</td>\n",
              "    </tr>\n",
              "    <tr>\n",
              "      <th>7</th>\n",
              "      <td>South</td>\n",
              "      <td>Bournemouth</td>\n",
              "      <td>1299</td>\n",
              "      <td>78</td>\n",
              "    </tr>\n",
              "  </tbody>\n",
              "</table>\n",
              "</div>\n",
              "      <button class=\"colab-df-convert\" onclick=\"convertToInteractive('df-c20f74f8-cc12-4843-848e-438a50155701')\"\n",
              "              title=\"Convert this dataframe to an interactive table.\"\n",
              "              style=\"display:none;\">\n",
              "        \n",
              "  <svg xmlns=\"http://www.w3.org/2000/svg\" height=\"24px\"viewBox=\"0 0 24 24\"\n",
              "       width=\"24px\">\n",
              "    <path d=\"M0 0h24v24H0V0z\" fill=\"none\"/>\n",
              "    <path d=\"M18.56 5.44l.94 2.06.94-2.06 2.06-.94-2.06-.94-.94-2.06-.94 2.06-2.06.94zm-11 1L8.5 8.5l.94-2.06 2.06-.94-2.06-.94L8.5 2.5l-.94 2.06-2.06.94zm10 10l.94 2.06.94-2.06 2.06-.94-2.06-.94-.94-2.06-.94 2.06-2.06.94z\"/><path d=\"M17.41 7.96l-1.37-1.37c-.4-.4-.92-.59-1.43-.59-.52 0-1.04.2-1.43.59L10.3 9.45l-7.72 7.72c-.78.78-.78 2.05 0 2.83L4 21.41c.39.39.9.59 1.41.59.51 0 1.02-.2 1.41-.59l7.78-7.78 2.81-2.81c.8-.78.8-2.07 0-2.86zM5.41 20L4 18.59l7.72-7.72 1.47 1.35L5.41 20z\"/>\n",
              "  </svg>\n",
              "      </button>\n",
              "      \n",
              "  <style>\n",
              "    .colab-df-container {\n",
              "      display:flex;\n",
              "      flex-wrap:wrap;\n",
              "      gap: 12px;\n",
              "    }\n",
              "\n",
              "    .colab-df-convert {\n",
              "      background-color: #E8F0FE;\n",
              "      border: none;\n",
              "      border-radius: 50%;\n",
              "      cursor: pointer;\n",
              "      display: none;\n",
              "      fill: #1967D2;\n",
              "      height: 32px;\n",
              "      padding: 0 0 0 0;\n",
              "      width: 32px;\n",
              "    }\n",
              "\n",
              "    .colab-df-convert:hover {\n",
              "      background-color: #E2EBFA;\n",
              "      box-shadow: 0px 1px 2px rgba(60, 64, 67, 0.3), 0px 1px 3px 1px rgba(60, 64, 67, 0.15);\n",
              "      fill: #174EA6;\n",
              "    }\n",
              "\n",
              "    [theme=dark] .colab-df-convert {\n",
              "      background-color: #3B4455;\n",
              "      fill: #D2E3FC;\n",
              "    }\n",
              "\n",
              "    [theme=dark] .colab-df-convert:hover {\n",
              "      background-color: #434B5C;\n",
              "      box-shadow: 0px 1px 3px 1px rgba(0, 0, 0, 0.15);\n",
              "      filter: drop-shadow(0px 1px 2px rgba(0, 0, 0, 0.3));\n",
              "      fill: #FFFFFF;\n",
              "    }\n",
              "  </style>\n",
              "\n",
              "      <script>\n",
              "        const buttonEl =\n",
              "          document.querySelector('#df-c20f74f8-cc12-4843-848e-438a50155701 button.colab-df-convert');\n",
              "        buttonEl.style.display =\n",
              "          google.colab.kernel.accessAllowed ? 'block' : 'none';\n",
              "\n",
              "        async function convertToInteractive(key) {\n",
              "          const element = document.querySelector('#df-c20f74f8-cc12-4843-848e-438a50155701');\n",
              "          const dataTable =\n",
              "            await google.colab.kernel.invokeFunction('convertToInteractive',\n",
              "                                                     [key], {});\n",
              "          if (!dataTable) return;\n",
              "\n",
              "          const docLinkHtml = 'Like what you see? Visit the ' +\n",
              "            '<a target=\"_blank\" href=https://colab.research.google.com/notebooks/data_table.ipynb>data table notebook</a>'\n",
              "            + ' to learn more about interactive tables.';\n",
              "          element.innerHTML = '';\n",
              "          dataTable['output_type'] = 'display_data';\n",
              "          await google.colab.output.renderOutput(dataTable, element);\n",
              "          const docLink = document.createElement('div');\n",
              "          docLink.innerHTML = docLinkHtml;\n",
              "          element.appendChild(docLink);\n",
              "        }\n",
              "      </script>\n",
              "    </div>\n",
              "  </div>\n",
              "  "
            ]
          },
          "metadata": {},
          "execution_count": 18
        }
      ]
    },
    {
      "cell_type": "code",
      "source": [
        "# Вторая группа - северные города\n",
        "dfN = df[df.location == 'North'].drop('Unnamed: 0', axis = 1)\n",
        "dfN.head(3)"
      ],
      "metadata": {
        "colab": {
          "base_uri": "https://localhost:8080/",
          "height": 143
        },
        "id": "1uocBxPXBwNS",
        "outputId": "6985be9d-fed4-46fc-c10c-1a73cb796669"
      },
      "execution_count": 19,
      "outputs": [
        {
          "output_type": "execute_result",
          "data": {
            "text/plain": [
              "  location        town  mortality  hardness\n",
              "1    North  Birkenhead       1668        17\n",
              "3    North   Blackburn       1800        14\n",
              "4    North   Blackpool       1609        18"
            ],
            "text/html": [
              "\n",
              "  <div id=\"df-90a63d87-e8bf-4ff6-a6e2-2f87edc1a6db\">\n",
              "    <div class=\"colab-df-container\">\n",
              "      <div>\n",
              "<style scoped>\n",
              "    .dataframe tbody tr th:only-of-type {\n",
              "        vertical-align: middle;\n",
              "    }\n",
              "\n",
              "    .dataframe tbody tr th {\n",
              "        vertical-align: top;\n",
              "    }\n",
              "\n",
              "    .dataframe thead th {\n",
              "        text-align: right;\n",
              "    }\n",
              "</style>\n",
              "<table border=\"1\" class=\"dataframe\">\n",
              "  <thead>\n",
              "    <tr style=\"text-align: right;\">\n",
              "      <th></th>\n",
              "      <th>location</th>\n",
              "      <th>town</th>\n",
              "      <th>mortality</th>\n",
              "      <th>hardness</th>\n",
              "    </tr>\n",
              "  </thead>\n",
              "  <tbody>\n",
              "    <tr>\n",
              "      <th>1</th>\n",
              "      <td>North</td>\n",
              "      <td>Birkenhead</td>\n",
              "      <td>1668</td>\n",
              "      <td>17</td>\n",
              "    </tr>\n",
              "    <tr>\n",
              "      <th>3</th>\n",
              "      <td>North</td>\n",
              "      <td>Blackburn</td>\n",
              "      <td>1800</td>\n",
              "      <td>14</td>\n",
              "    </tr>\n",
              "    <tr>\n",
              "      <th>4</th>\n",
              "      <td>North</td>\n",
              "      <td>Blackpool</td>\n",
              "      <td>1609</td>\n",
              "      <td>18</td>\n",
              "    </tr>\n",
              "  </tbody>\n",
              "</table>\n",
              "</div>\n",
              "      <button class=\"colab-df-convert\" onclick=\"convertToInteractive('df-90a63d87-e8bf-4ff6-a6e2-2f87edc1a6db')\"\n",
              "              title=\"Convert this dataframe to an interactive table.\"\n",
              "              style=\"display:none;\">\n",
              "        \n",
              "  <svg xmlns=\"http://www.w3.org/2000/svg\" height=\"24px\"viewBox=\"0 0 24 24\"\n",
              "       width=\"24px\">\n",
              "    <path d=\"M0 0h24v24H0V0z\" fill=\"none\"/>\n",
              "    <path d=\"M18.56 5.44l.94 2.06.94-2.06 2.06-.94-2.06-.94-.94-2.06-.94 2.06-2.06.94zm-11 1L8.5 8.5l.94-2.06 2.06-.94-2.06-.94L8.5 2.5l-.94 2.06-2.06.94zm10 10l.94 2.06.94-2.06 2.06-.94-2.06-.94-.94-2.06-.94 2.06-2.06.94z\"/><path d=\"M17.41 7.96l-1.37-1.37c-.4-.4-.92-.59-1.43-.59-.52 0-1.04.2-1.43.59L10.3 9.45l-7.72 7.72c-.78.78-.78 2.05 0 2.83L4 21.41c.39.39.9.59 1.41.59.51 0 1.02-.2 1.41-.59l7.78-7.78 2.81-2.81c.8-.78.8-2.07 0-2.86zM5.41 20L4 18.59l7.72-7.72 1.47 1.35L5.41 20z\"/>\n",
              "  </svg>\n",
              "      </button>\n",
              "      \n",
              "  <style>\n",
              "    .colab-df-container {\n",
              "      display:flex;\n",
              "      flex-wrap:wrap;\n",
              "      gap: 12px;\n",
              "    }\n",
              "\n",
              "    .colab-df-convert {\n",
              "      background-color: #E8F0FE;\n",
              "      border: none;\n",
              "      border-radius: 50%;\n",
              "      cursor: pointer;\n",
              "      display: none;\n",
              "      fill: #1967D2;\n",
              "      height: 32px;\n",
              "      padding: 0 0 0 0;\n",
              "      width: 32px;\n",
              "    }\n",
              "\n",
              "    .colab-df-convert:hover {\n",
              "      background-color: #E2EBFA;\n",
              "      box-shadow: 0px 1px 2px rgba(60, 64, 67, 0.3), 0px 1px 3px 1px rgba(60, 64, 67, 0.15);\n",
              "      fill: #174EA6;\n",
              "    }\n",
              "\n",
              "    [theme=dark] .colab-df-convert {\n",
              "      background-color: #3B4455;\n",
              "      fill: #D2E3FC;\n",
              "    }\n",
              "\n",
              "    [theme=dark] .colab-df-convert:hover {\n",
              "      background-color: #434B5C;\n",
              "      box-shadow: 0px 1px 3px 1px rgba(0, 0, 0, 0.15);\n",
              "      filter: drop-shadow(0px 1px 2px rgba(0, 0, 0, 0.3));\n",
              "      fill: #FFFFFF;\n",
              "    }\n",
              "  </style>\n",
              "\n",
              "      <script>\n",
              "        const buttonEl =\n",
              "          document.querySelector('#df-90a63d87-e8bf-4ff6-a6e2-2f87edc1a6db button.colab-df-convert');\n",
              "        buttonEl.style.display =\n",
              "          google.colab.kernel.accessAllowed ? 'block' : 'none';\n",
              "\n",
              "        async function convertToInteractive(key) {\n",
              "          const element = document.querySelector('#df-90a63d87-e8bf-4ff6-a6e2-2f87edc1a6db');\n",
              "          const dataTable =\n",
              "            await google.colab.kernel.invokeFunction('convertToInteractive',\n",
              "                                                     [key], {});\n",
              "          if (!dataTable) return;\n",
              "\n",
              "          const docLinkHtml = 'Like what you see? Visit the ' +\n",
              "            '<a target=\"_blank\" href=https://colab.research.google.com/notebooks/data_table.ipynb>data table notebook</a>'\n",
              "            + ' to learn more about interactive tables.';\n",
              "          element.innerHTML = '';\n",
              "          dataTable['output_type'] = 'display_data';\n",
              "          await google.colab.output.renderOutput(dataTable, element);\n",
              "          const docLink = document.createElement('div');\n",
              "          docLink.innerHTML = docLinkHtml;\n",
              "          element.appendChild(docLink);\n",
              "        }\n",
              "      </script>\n",
              "    </div>\n",
              "  </div>\n",
              "  "
            ]
          },
          "metadata": {},
          "execution_count": 19
        }
      ]
    },
    {
      "cell_type": "code",
      "source": [
        "ax1 = dfS.plot(kind = 'scatter', x = 'hardness', y = 'mortality', \\\n",
        "              color = 'red', label = 'Южные города')\n",
        "\n",
        "dfN.plot(kind = 'scatter', ax = ax1, x = 'hardness', y = 'mortality', \\\n",
        "          color = 'blue', label = 'Северные города')\n",
        "\n",
        "ax1.legend(loc = 'best')\n",
        "plt.title('Связь в разных городах между жёсткостью воды и средней годовой смертностью\\n')\n",
        "ax1.set_xlabel('жёсткость воды')\n",
        "ax1.set_ylabel('средняя годовая смертность')\n",
        "plt.xticks(range(0,150,10))\n",
        "plt.yticks(range(1100,2100,100))\n",
        "plt.show()"
      ],
      "metadata": {
        "colab": {
          "base_uri": "https://localhost:8080/",
          "height": 380
        },
        "id": "8FmcTPnuKpiT",
        "outputId": "37a56af8-6eb9-4cc5-9960-074af8b4ab16"
      },
      "execution_count": 49,
      "outputs": [
        {
          "output_type": "display_data",
          "data": {
            "text/plain": [
              "<Figure size 720x360 with 1 Axes>"
            ],
            "image/png": "[encoded data removed]"
          },
          "metadata": {
            "needs_background": "light"
          }
        }
      ]
    },
    {
      "cell_type": "markdown",
      "source": [
        "Из рисунка видно, что в **южных** городах жесткость воды имеет как самые высокие, так и самые низкие значения.\n",
        "\n",
        "Также в **южных** городах практически на всем диапазоне значений жесткости воды средняя годовая смертность **ниже** чем в северных городах.\n",
        "\n",
        "**Максимальная** же смертность наблюдается в **северных** городах для жесткости воды около 10."
      ],
      "metadata": {
        "id": "1G9n4DtMRKDj"
      }
    },
    {
      "cell_type": "code",
      "source": [
        ""
      ],
      "metadata": {
        "id": "4iqO2geZuUgV"
      },
      "execution_count": 20,
      "outputs": []
    },
    {
      "cell_type": "markdown",
      "source": [
        "**Коэффициенты корреляции по каждой группе городов:**"
      ],
      "metadata": {
        "id": "6hXM_3t9GTfR"
      }
    },
    {
      "cell_type": "code",
      "source": [
        "print('Коэффициент корреляции Пирсона для южных городов:')\n",
        "print(dfS[['hardness', 'mortality']].corr(),'\\n')\n",
        "\n",
        "print('Коэффициент корреляции Пирсона для северных городов:')\n",
        "print(dfN[['hardness', 'mortality']].corr())"
      ],
      "metadata": {
        "colab": {
          "base_uri": "https://localhost:8080/"
        },
        "id": "fDBxOGp_F1fR",
        "outputId": "ab8d9720-7b0a-4923-8a8f-e53e2241533b"
      },
      "execution_count": 21,
      "outputs": [
        {
          "output_type": "stream",
          "name": "stdout",
          "text": [
            "Коэффициент корреляции Пирсона для южных городов:\n",
            "           hardness  mortality\n",
            "hardness   1.000000  -0.602153\n",
            "mortality -0.602153   1.000000 \n",
            "\n",
            "Коэффициент корреляции Пирсона для северных городов:\n",
            "           hardness  mortality\n",
            "hardness   1.000000  -0.368598\n",
            "mortality -0.368598   1.000000\n"
          ]
        }
      ]
    },
    {
      "cell_type": "code",
      "source": [
        "print('Коэффициент корреляции Спирмена для южных городов:')\n",
        "print(dfS[['hardness', 'mortality']].corr(method = 'spearman'),'\\n')\n",
        "\n",
        "print('Коэффициент корреляции Спирмена для северных городов:')\n",
        "print(dfN[['hardness', 'mortality']].corr(method = 'spearman'))"
      ],
      "metadata": {
        "colab": {
          "base_uri": "https://localhost:8080/"
        },
        "id": "W3bX6_kiG741",
        "outputId": "fb7892d2-a739-4194-f601-46acb5f77f58"
      },
      "execution_count": 22,
      "outputs": [
        {
          "output_type": "stream",
          "name": "stdout",
          "text": [
            "Коэффициент корреляции Спирмена для южных городов:\n",
            "           hardness  mortality\n",
            "hardness   1.000000  -0.595723\n",
            "mortality -0.595723   1.000000 \n",
            "\n",
            "Коэффициент корреляции Спирмена для северных городов:\n",
            "           hardness  mortality\n",
            "hardness   1.000000  -0.404208\n",
            "mortality -0.404208   1.000000\n"
          ]
        }
      ]
    },
    {
      "cell_type": "markdown",
      "source": [
        "Коэффициенты корреляций Пирсона и Спирмена вне зависимости от географической широты городов оказались **отрицательными** (т.е. имеем обратную связь между величинами). \n",
        "\n",
        "Однако **оба** коэффициента лишь для **южных** городов по модулю ближе к единице.\n",
        "\n",
        "Т.е. **линейная** связь между жёсткостью воды и средней годовой смертностью **сильнее** наблюдается в **южных** городах."
      ],
      "metadata": {
        "id": "bKcWIxkTHrNr"
      }
    },
    {
      "cell_type": "code",
      "source": [
        ""
      ],
      "metadata": {
        "id": "qpqrrvVCusL4"
      },
      "execution_count": 22,
      "outputs": []
    },
    {
      "cell_type": "markdown",
      "source": [
        "**Построение модели линейной регрессии**"
      ],
      "metadata": {
        "id": "hJI-x7PrW_6m"
      }
    },
    {
      "cell_type": "code",
      "source": [
        "Xs = dfS[['hardness']] # независимая переменная\n",
        "Xn = dfN[['hardness']] # независимая переменная\n",
        "ys = dfS['mortality'] \n",
        "yn = dfN['mortality']"
      ],
      "metadata": {
        "id": "GzI2cms5XEV-"
      },
      "execution_count": 23,
      "outputs": []
    },
    {
      "cell_type": "code",
      "source": [
        "Xs_train, Xs_test, ys_train, ys_test = train_test_split(Xs, ys, test_size = 0.30, random_state = 42)\n",
        "print(Xs_test.shape)\n",
        "print(Xs_train.shape)"
      ],
      "metadata": {
        "colab": {
          "base_uri": "https://localhost:8080/"
        },
        "id": "2GZbFbj7XZhM",
        "outputId": "827f2a3b-dcf6-4b88-9c61-74b0c262fede"
      },
      "execution_count": 24,
      "outputs": [
        {
          "output_type": "stream",
          "name": "stdout",
          "text": [
            "(8, 1)\n",
            "(18, 1)\n"
          ]
        }
      ]
    },
    {
      "cell_type": "code",
      "source": [
        "Xn_train, Xn_test, yn_train, yn_test = train_test_split(Xn, yn, test_size = 0.30, random_state = 42)\n",
        "print(Xn_test.shape)\n",
        "print(Xn_train.shape)"
      ],
      "metadata": {
        "colab": {
          "base_uri": "https://localhost:8080/"
        },
        "id": "v3YUitB3XhHf",
        "outputId": "6f2ec7fd-bfe9-4499-8edd-eed270f1652c"
      },
      "execution_count": 25,
      "outputs": [
        {
          "output_type": "stream",
          "name": "stdout",
          "text": [
            "(11, 1)\n",
            "(24, 1)\n"
          ]
        }
      ]
    },
    {
      "cell_type": "code",
      "source": [
        "model_s = LinearRegression()\n",
        "model_s.fit(Xs_train, ys_train)  # метод обучается на данных и подбирает оптимальные коэффициенты\n",
        "print(model_s.coef_)\n",
        "print(model_s.intercept_)"
      ],
      "metadata": {
        "colab": {
          "base_uri": "https://localhost:8080/"
        },
        "id": "xcOp2WK_YR-S",
        "outputId": "9eeacbfe-0558-4bca-f1bd-b34b8e704330"
      },
      "execution_count": 26,
      "outputs": [
        {
          "output_type": "stream",
          "name": "stdout",
          "text": [
            "[-3.51342921]\n",
            "1640.2204603423374\n"
          ]
        }
      ]
    },
    {
      "cell_type": "markdown",
      "source": [
        "т.о. для **южных** городов получили уравнение прямой: **y = -3.51 * x + 1640.22**"
      ],
      "metadata": {
        "id": "cLDfiQVpYqBL"
      }
    },
    {
      "cell_type": "code",
      "source": [
        "model_n = LinearRegression()\n",
        "model_n.fit(Xn_train, yn_train)\n",
        "print(model_n.coef_)\n",
        "print(model_n.intercept_)"
      ],
      "metadata": {
        "colab": {
          "base_uri": "https://localhost:8080/"
        },
        "id": "dYhd8s3CYT4_",
        "outputId": "81a83593-fd20-4cdb-b685-2ab1f5b8536f"
      },
      "execution_count": 27,
      "outputs": [
        {
          "output_type": "stream",
          "name": "stdout",
          "text": [
            "[-1.97686226]\n",
            "1688.150229031281\n"
          ]
        }
      ]
    },
    {
      "cell_type": "markdown",
      "source": [
        "т.о. для **северных** городов получили уравнение прямой: **y = -1.97 * x + 1688.15**"
      ],
      "metadata": {
        "id": "EklSVJjxY21q"
      }
    },
    {
      "cell_type": "code",
      "source": [
        ""
      ],
      "metadata": {
        "id": "1Km5w7wVvbwI"
      },
      "execution_count": 27,
      "outputs": []
    },
    {
      "cell_type": "markdown",
      "source": [
        "**Коэффициент детерминации**"
      ],
      "metadata": {
        "id": "xh1MQk1gZWZQ"
      }
    },
    {
      "cell_type": "code",
      "source": [
        "print(f'Южные города:    {model_s.score(Xs_test, ys_test)}')\n",
        "print(f'Северные города: {model_n.score(Xn_test, yn_test)}')"
      ],
      "metadata": {
        "colab": {
          "base_uri": "https://localhost:8080/"
        },
        "id": "IK7KQFx9Za_c",
        "outputId": "eeea0b2c-3ca2-4265-d73b-1abc04bb85d2"
      },
      "execution_count": 28,
      "outputs": [
        {
          "output_type": "stream",
          "name": "stdout",
          "text": [
            "Южные города:    -2.5519223012352077\n",
            "Северные города: 0.018885304285745863\n"
          ]
        }
      ]
    },
    {
      "cell_type": "markdown",
      "source": [
        "Для **южных** городов коэффициент детерминации **меньше** нуля.\n",
        "Это говорит нам о том, что наша модель делает прогноз **хуже** (т.е. сильнее ошибается в прогнозе) чем наивная модель оценки через среднее значение.\n",
        "\n",
        "Поэтому, на мой взгляд, линейная модель регрессии для **южных** городов **совсем не** подходит для описания наших данных, либо же этих данных просто не достаточно для корректного построения модели (нужно иметь исходно больше точек), или необходимо использовать другую, например, ***нелинейную*** модель регрессии. А может эти данные вообще не взаимосвязаны.\n",
        "\n",
        "Для **северных** городов наша модель дает почти такой же результат, как и наивная, т.к. R2 имеет околонулевое положительное значение. Поэтому я считаю, что для **северных** городов наивная и линейная модели **равнозначны** по использованию."
      ],
      "metadata": {
        "id": "YEmn26vwmhuf"
      }
    },
    {
      "cell_type": "code",
      "source": [
        "# Для южных городов получаем предсказанные значения смертности на основе тестовых данных жесткости воды\n",
        "ys_pred = model.predict(Xs_test) \n",
        "ys_pred"
      ],
      "metadata": {
        "colab": {
          "base_uri": "https://localhost:8080/"
        },
        "id": "iqTyuszTa79P",
        "outputId": "a40b21fe-7c28-4710-ece0-08cc99ae1e2a"
      },
      "execution_count": 29,
      "outputs": [
        {
          "output_type": "execute_result",
          "data": {
            "text/plain": [
              "array([1286.90845133, 1653.31394337, 1340.14685615, 1286.90845133,\n",
              "       1553.10047546, 1603.20720941, 1484.20371627, 1653.31394337])"
            ]
          },
          "metadata": {},
          "execution_count": 29
        }
      ]
    },
    {
      "cell_type": "code",
      "source": [
        "# Для северных городов получаем предсказанные значения смертности на основе тестовых данных жесткости воды\n",
        "yn_pred = model.predict(Xn_test) \n",
        "yn_pred"
      ],
      "metadata": {
        "colab": {
          "base_uri": "https://localhost:8080/"
        },
        "id": "JlEvpHF6cbQE",
        "outputId": "10fda4e9-8ac2-4fe8-c381-73fdd8e5e406"
      },
      "execution_count": 30,
      "outputs": [
        {
          "output_type": "execute_result",
          "data": {
            "text/plain": [
              "array([1643.91893075, 1640.78725988, 1625.12890552, 1650.18227249,\n",
              "       1618.86556377, 1446.62366581, 1531.17877935, 1643.91893075,\n",
              "       1546.83713371, 1621.99723465, 1546.83713371])"
            ]
          },
          "metadata": {},
          "execution_count": 30
        }
      ]
    },
    {
      "cell_type": "code",
      "source": [
        "plt.scatter(Xs_test, ys_test, color = 'blue', label = 'test')\n",
        "plt.scatter(Xs_train, ys_train, color = '#11bf31', label = 'train')\n",
        "plt.plot(Xs_test, ys_pred, color = '#ff0000', label = 'форма регрессии: прямая линия')\n",
        "plt.legend(loc = 'best')\n",
        "plt.title('Построение модели линейной регрессии для ЮЖНЫХ городов')\n",
        "plt.xlabel('жёсткость воды')\n",
        "plt.ylabel('средняя годовая смертность')\n",
        "plt.xticks(range(0,150,10))\n",
        "plt.yticks(range(1100,2100,100))\n",
        "plt.show()"
      ],
      "metadata": {
        "colab": {
          "base_uri": "https://localhost:8080/",
          "height": 364
        },
        "id": "LfC1WaY4cmx0",
        "outputId": "86f5f55f-16d4-4b9b-dd84-326cbf9fe6f0"
      },
      "execution_count": 50,
      "outputs": [
        {
          "output_type": "display_data",
          "data": {
            "text/plain": [
              "<Figure size 720x360 with 1 Axes>"
            ],
            "image/png": "[encoded data removed]"
          },
          "metadata": {
            "needs_background": "light"
          }
        }
      ]
    },
    {
      "cell_type": "code",
      "source": [
        "plt.scatter(Xn_test, yn_test, color = 'blue', label = 'test')\n",
        "plt.scatter(Xn_train, yn_train, color = '#11bf31', label = 'train')\n",
        "plt.plot(Xn_test, yn_pred, color = '#ff0000', label = 'форма регрессии')\n",
        "plt.legend(loc = 'best')\n",
        "plt.title('Построение модели линейной регрессии для СЕВЕРНЫХ городов')\n",
        "plt.xlabel('жёсткость воды')\n",
        "plt.ylabel('средняя годовая смертность')\n",
        "plt.xticks(range(0,150,10))\n",
        "plt.yticks(range(1100,2100,100))\n",
        "plt.show()"
      ],
      "metadata": {
        "colab": {
          "base_uri": "https://localhost:8080/",
          "height": 364
        },
        "id": "w5Um_PjEc3hb",
        "outputId": "d671a0cd-0ba4-48ab-99be-ab6240b08069"
      },
      "execution_count": 51,
      "outputs": [
        {
          "output_type": "display_data",
          "data": {
            "text/plain": [
              "<Figure size 720x360 with 1 Axes>"
            ],
            "image/png": "[encoded data removed]"
          },
          "metadata": {
            "needs_background": "light"
          }
        }
      ]
    },
    {
      "cell_type": "markdown",
      "source": [
        "Из приведенных выше двух точечных диаграмм следует, что в **южных** городах в отличие от северных **большинство** точек находятся **ниже** линии регрессии. Это подтверждает наше ранее утверждение о том, что линейную форму регрессии **не стоит** использовать при анализе данных для южных городов."
      ],
      "metadata": {
        "id": "16aU-omITGbv"
      }
    },
    {
      "cell_type": "code",
      "source": [
        ""
      ],
      "metadata": {
        "id": "qaJgKSy30J85"
      },
      "execution_count": 32,
      "outputs": []
    },
    {
      "cell_type": "markdown",
      "source": [
        "**Анализ остатков:**"
      ],
      "metadata": {
        "id": "wVF3hx_igumS"
      }
    },
    {
      "cell_type": "code",
      "source": [
        "ys_pred"
      ],
      "metadata": {
        "colab": {
          "base_uri": "https://localhost:8080/"
        },
        "id": "1G0NwRAB1j5r",
        "outputId": "4105528a-a9f7-4b1e-a513-c9ce29007cba"
      },
      "execution_count": 33,
      "outputs": [
        {
          "output_type": "execute_result",
          "data": {
            "text/plain": [
              "array([1286.90845133, 1653.31394337, 1340.14685615, 1286.90845133,\n",
              "       1553.10047546, 1603.20720941, 1484.20371627, 1653.31394337])"
            ]
          },
          "metadata": {},
          "execution_count": 33
        }
      ]
    },
    {
      "cell_type": "code",
      "source": [
        "Sresiduals = ys_test - ys_pred # остатки между фактом и прогнозом\n",
        "Nresiduals = yn_test - yn_pred \n",
        "\n",
        "ax1 = plt.scatter(ys_pred, Sresiduals, color = 'red', label = 'Южные города')\n",
        "ax1 = plt.plot(ys_pred, np.zeros(len(ys_pred)), color = 'black', linewidth = 1)\n",
        "plt.scatter(yn_pred, Nresiduals, color = 'blue', label = 'Северные города')\n",
        "plt.title('Анализ остатков для северных и южных городов')\n",
        "plt.legend()\n",
        "\n",
        "plt.ylabel('остатки')\n",
        "plt.xlabel('средняя годовая смертность, на основе предсказания')\n",
        "plt.show()"
      ],
      "metadata": {
        "colab": {
          "base_uri": "https://localhost:8080/",
          "height": 364
        },
        "id": "2ickZlcphk0T",
        "outputId": "11f934f0-a0cd-486d-cbc9-f27261c6b5c5"
      },
      "execution_count": 52,
      "outputs": [
        {
          "output_type": "display_data",
          "data": {
            "text/plain": [
              "<Figure size 720x360 with 1 Axes>"
            ],
            "image/png": "[encoded data removed]"
          },
          "metadata": {
            "needs_background": "light"
          }
        }
      ]
    },
    {
      "cell_type": "code",
      "source": [
        "Sresiduals.plot(kind = 'hist', bins = 25, density = True, color = 'red')\n",
        "plt.title('Гистограмма ошибок для ЮЖНЫХ городов')\n",
        "plt.show()"
      ],
      "metadata": {
        "colab": {
          "base_uri": "https://localhost:8080/",
          "height": 346
        },
        "id": "Q_AgRp2BFjxV",
        "outputId": "c938181e-eede-4cd9-a3ec-b2625579081f"
      },
      "execution_count": 53,
      "outputs": [
        {
          "output_type": "display_data",
          "data": {
            "text/plain": [
              "<Figure size 720x360 with 1 Axes>"
            ],
            "image/png": "[encoded data removed]"
          },
          "metadata": {
            "needs_background": "light"
          }
        }
      ]
    },
    {
      "cell_type": "code",
      "source": [
        "Nresiduals.plot(kind = 'hist', bins = 25, density = True, color = 'blue')\n",
        "plt.title('Гистограмма ошибок для СЕВЕРНЫХ городов')\n",
        "plt.show()"
      ],
      "metadata": {
        "colab": {
          "base_uri": "https://localhost:8080/",
          "height": 346
        },
        "id": "aDIDGxrCGW1H",
        "outputId": "b646dadf-9150-4c03-b33b-6da097259b8d"
      },
      "execution_count": 54,
      "outputs": [
        {
          "output_type": "display_data",
          "data": {
            "text/plain": [
              "<Figure size 720x360 with 1 Axes>"
            ],
            "image/png": "[encoded data removed]"
          },
          "metadata": {
            "needs_background": "light"
          }
        }
      ]
    },
    {
      "cell_type": "code",
      "source": [
        ""
      ],
      "metadata": {
        "id": "1r75l2BN_i6H"
      },
      "execution_count": 36,
      "outputs": []
    },
    {
      "cell_type": "markdown",
      "source": [
        "**Вывод:** \n",
        "\n",
        "При анализе точечной диаграммы остатков видим **закономерность в знаках** для **южных** городов: подавляющие число остатков меньше нуля, что не скажешь о северных городах.\n",
        "\n",
        "Хаотичности остатков **не наблюдается**, на мой взгляд, из графиков гистограмм для северных и южных городов: почти везде одинаковая частота появления остатков.\n",
        "\n",
        "Также с учетом того, что **для южных** городов коэффициент детерминации **меньше** нуля, а для северных он около нуля, можно ответить на главный вопрос задания № 2:\n",
        "\n",
        "аналогичная зависимость между жёсткостью воды и средней годовой смертностью **не сохраняется** для северных и южных городов **по отдельности**:\n",
        "* линейную форму регрессии не стоит использовать при анализе данных для южных городов;\n",
        "* для северных городов линейная и наивная модели равнозначны.\n",
        "\n",
        "\n",
        "Думаю, что исходных данных было немного для качественного анализа, а когда мы их еще дополнительно поделили по разным городам, данных в каждой отдельной группе стало, по-видимому, совсем мало для выявления взаимосвязи между жесткостью воды и смертностью."
      ],
      "metadata": {
        "id": "Crzk22idoFHW"
      }
    }
  ]
}